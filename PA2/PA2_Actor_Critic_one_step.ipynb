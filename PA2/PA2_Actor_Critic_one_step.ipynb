{
  "cells": [
    {
      "cell_type": "code",
      "execution_count": null,
      "metadata": {
        "colab": {
          "base_uri": "https://localhost:8080/",
          "height": 349
        },
        "id": "zZ86BvbVTL1X",
        "outputId": "cc8f30a0-3c72-40cb-bbfa-ffdd19009783"
      },
      "outputs": [
        {
          "name": "stdout",
          "output_type": "stream",
          "text": [
            "Requirement already satisfied: setuptools in /usr/local/lib/python3.7/dist-packages (57.4.0)\n",
            "Collecting setuptools\n",
            "  Downloading setuptools-61.2.0-py3-none-any.whl (1.1 MB)\n",
            "\u001b[K     |████████████████████████████████| 1.1 MB 8.8 MB/s \n",
            "\u001b[?25hInstalling collected packages: setuptools\n",
            "  Attempting uninstall: setuptools\n",
            "    Found existing installation: setuptools 57.4.0\n",
            "    Uninstalling setuptools-57.4.0:\n",
            "      Successfully uninstalled setuptools-57.4.0\n",
            "\u001b[31mERROR: pip's dependency resolver does not currently take into account all the packages that are installed. This behaviour is the source of the following dependency conflicts.\n",
            "tensorflow 2.8.0 requires tf-estimator-nightly==2.8.0.dev2021122109, which is not installed.\n",
            "datascience 0.10.6 requires folium==0.2.1, but you have folium 0.8.3 which is incompatible.\u001b[0m\n",
            "Successfully installed setuptools-61.2.0\n"
          ]
        },
        {
          "data": {
            "application/vnd.colab-display-data+json": {
              "pip_warning": {
                "packages": [
                  "pkg_resources"
                ]
              }
            }
          },
          "metadata": {},
          "output_type": "display_data"
        }
      ],
      "source": [
        "'''\n",
        "Installing packages for rendering the game on Colab\n",
        "'''\n",
        "\n",
        "!pip install gym pyvirtualdisplay > /dev/null 2>&1\n",
        "!apt-get install -y xvfb python-opengl ffmpeg > /dev/null 2>&1\n",
        "!apt-get update > /dev/null 2>&1\n",
        "!apt-get install cmake > /dev/null 2>&1\n",
        "!pip install --upgrade setuptools 2>&1\n",
        "!pip install ez_setup > /dev/null 2>&1\n",
        "!pip install gym[atari] > /dev/null 2>&1\n",
        "!pip install git+https://github.com/tensorflow/docs > /dev/null 2>&1"
      ]
    },
    {
      "cell_type": "code",
      "execution_count": null,
      "metadata": {
        "colab": {
          "base_uri": "https://localhost:8080/"
        },
        "id": "c9T7LQELntmO",
        "outputId": "64da19a4-877a-4d6d-c08d-43c66d0c01c3"
      },
      "outputs": [
        {
          "name": "stdout",
          "output_type": "stream",
          "text": [
            "Collecting tensorflow-gpu\n",
            "  Downloading tensorflow_gpu-2.8.0-cp37-cp37m-manylinux2010_x86_64.whl (497.5 MB)\n",
            "\u001b[K     |████████████████████████████████| 497.5 MB 24 kB/s \n",
            "\u001b[?25hRequirement already satisfied: typing-extensions>=3.6.6 in /usr/local/lib/python3.7/dist-packages (from tensorflow-gpu) (3.10.0.2)\n",
            "Requirement already satisfied: tensorflow-io-gcs-filesystem>=0.23.1 in /usr/local/lib/python3.7/dist-packages (from tensorflow-gpu) (0.24.0)\n",
            "Requirement already satisfied: h5py>=2.9.0 in /usr/local/lib/python3.7/dist-packages (from tensorflow-gpu) (3.1.0)\n",
            "Requirement already satisfied: astunparse>=1.6.0 in /usr/local/lib/python3.7/dist-packages (from tensorflow-gpu) (1.6.3)\n",
            "Requirement already satisfied: opt-einsum>=2.3.2 in /usr/local/lib/python3.7/dist-packages (from tensorflow-gpu) (3.3.0)\n",
            "Requirement already satisfied: grpcio<2.0,>=1.24.3 in /usr/local/lib/python3.7/dist-packages (from tensorflow-gpu) (1.44.0)\n",
            "Requirement already satisfied: libclang>=9.0.1 in /usr/local/lib/python3.7/dist-packages (from tensorflow-gpu) (13.0.0)\n",
            "Requirement already satisfied: protobuf>=3.9.2 in /usr/local/lib/python3.7/dist-packages (from tensorflow-gpu) (3.17.3)\n",
            "Requirement already satisfied: setuptools in /usr/local/lib/python3.7/dist-packages (from tensorflow-gpu) (61.2.0)\n",
            "Requirement already satisfied: termcolor>=1.1.0 in /usr/local/lib/python3.7/dist-packages (from tensorflow-gpu) (1.1.0)\n",
            "Requirement already satisfied: six>=1.12.0 in /usr/local/lib/python3.7/dist-packages (from tensorflow-gpu) (1.15.0)\n",
            "Requirement already satisfied: keras<2.9,>=2.8.0rc0 in /usr/local/lib/python3.7/dist-packages (from tensorflow-gpu) (2.8.0)\n",
            "Requirement already satisfied: keras-preprocessing>=1.1.1 in /usr/local/lib/python3.7/dist-packages (from tensorflow-gpu) (1.1.2)\n",
            "Requirement already satisfied: gast>=0.2.1 in /usr/local/lib/python3.7/dist-packages (from tensorflow-gpu) (0.5.3)\n",
            "Requirement already satisfied: tensorboard<2.9,>=2.8 in /usr/local/lib/python3.7/dist-packages (from tensorflow-gpu) (2.8.0)\n",
            "Requirement already satisfied: google-pasta>=0.1.1 in /usr/local/lib/python3.7/dist-packages (from tensorflow-gpu) (0.2.0)\n",
            "Collecting tf-estimator-nightly==2.8.0.dev2021122109\n",
            "  Downloading tf_estimator_nightly-2.8.0.dev2021122109-py2.py3-none-any.whl (462 kB)\n",
            "\u001b[K     |████████████████████████████████| 462 kB 70.0 MB/s \n",
            "\u001b[?25hRequirement already satisfied: flatbuffers>=1.12 in /usr/local/lib/python3.7/dist-packages (from tensorflow-gpu) (2.0)\n",
            "Requirement already satisfied: absl-py>=0.4.0 in /usr/local/lib/python3.7/dist-packages (from tensorflow-gpu) (1.0.0)\n",
            "Requirement already satisfied: wrapt>=1.11.0 in /usr/local/lib/python3.7/dist-packages (from tensorflow-gpu) (1.14.0)\n",
            "Requirement already satisfied: numpy>=1.20 in /usr/local/lib/python3.7/dist-packages (from tensorflow-gpu) (1.21.5)\n",
            "Requirement already satisfied: wheel<1.0,>=0.23.0 in /usr/local/lib/python3.7/dist-packages (from astunparse>=1.6.0->tensorflow-gpu) (0.37.1)\n",
            "Requirement already satisfied: cached-property in /usr/local/lib/python3.7/dist-packages (from h5py>=2.9.0->tensorflow-gpu) (1.5.2)\n",
            "Requirement already satisfied: requests<3,>=2.21.0 in /usr/local/lib/python3.7/dist-packages (from tensorboard<2.9,>=2.8->tensorflow-gpu) (2.23.0)\n",
            "Requirement already satisfied: markdown>=2.6.8 in /usr/local/lib/python3.7/dist-packages (from tensorboard<2.9,>=2.8->tensorflow-gpu) (3.3.6)\n",
            "Requirement already satisfied: tensorboard-data-server<0.7.0,>=0.6.0 in /usr/local/lib/python3.7/dist-packages (from tensorboard<2.9,>=2.8->tensorflow-gpu) (0.6.1)\n",
            "Requirement already satisfied: tensorboard-plugin-wit>=1.6.0 in /usr/local/lib/python3.7/dist-packages (from tensorboard<2.9,>=2.8->tensorflow-gpu) (1.8.1)\n",
            "Requirement already satisfied: google-auth-oauthlib<0.5,>=0.4.1 in /usr/local/lib/python3.7/dist-packages (from tensorboard<2.9,>=2.8->tensorflow-gpu) (0.4.6)\n",
            "Requirement already satisfied: google-auth<3,>=1.6.3 in /usr/local/lib/python3.7/dist-packages (from tensorboard<2.9,>=2.8->tensorflow-gpu) (1.35.0)\n",
            "Requirement already satisfied: werkzeug>=0.11.15 in /usr/local/lib/python3.7/dist-packages (from tensorboard<2.9,>=2.8->tensorflow-gpu) (1.0.1)\n",
            "Requirement already satisfied: pyasn1-modules>=0.2.1 in /usr/local/lib/python3.7/dist-packages (from google-auth<3,>=1.6.3->tensorboard<2.9,>=2.8->tensorflow-gpu) (0.2.8)\n",
            "Requirement already satisfied: rsa<5,>=3.1.4 in /usr/local/lib/python3.7/dist-packages (from google-auth<3,>=1.6.3->tensorboard<2.9,>=2.8->tensorflow-gpu) (4.8)\n",
            "Requirement already satisfied: cachetools<5.0,>=2.0.0 in /usr/local/lib/python3.7/dist-packages (from google-auth<3,>=1.6.3->tensorboard<2.9,>=2.8->tensorflow-gpu) (4.2.4)\n",
            "Requirement already satisfied: requests-oauthlib>=0.7.0 in /usr/local/lib/python3.7/dist-packages (from google-auth-oauthlib<0.5,>=0.4.1->tensorboard<2.9,>=2.8->tensorflow-gpu) (1.3.1)\n",
            "Requirement already satisfied: importlib-metadata>=4.4 in /usr/local/lib/python3.7/dist-packages (from markdown>=2.6.8->tensorboard<2.9,>=2.8->tensorflow-gpu) (4.11.3)\n",
            "Requirement already satisfied: zipp>=0.5 in /usr/local/lib/python3.7/dist-packages (from importlib-metadata>=4.4->markdown>=2.6.8->tensorboard<2.9,>=2.8->tensorflow-gpu) (3.7.0)\n",
            "Requirement already satisfied: pyasn1<0.5.0,>=0.4.6 in /usr/local/lib/python3.7/dist-packages (from pyasn1-modules>=0.2.1->google-auth<3,>=1.6.3->tensorboard<2.9,>=2.8->tensorflow-gpu) (0.4.8)\n",
            "Requirement already satisfied: chardet<4,>=3.0.2 in /usr/local/lib/python3.7/dist-packages (from requests<3,>=2.21.0->tensorboard<2.9,>=2.8->tensorflow-gpu) (3.0.4)\n",
            "Requirement already satisfied: certifi>=2017.4.17 in /usr/local/lib/python3.7/dist-packages (from requests<3,>=2.21.0->tensorboard<2.9,>=2.8->tensorflow-gpu) (2021.10.8)\n",
            "Requirement already satisfied: idna<3,>=2.5 in /usr/local/lib/python3.7/dist-packages (from requests<3,>=2.21.0->tensorboard<2.9,>=2.8->tensorflow-gpu) (2.10)\n",
            "Requirement already satisfied: urllib3!=1.25.0,!=1.25.1,<1.26,>=1.21.1 in /usr/local/lib/python3.7/dist-packages (from requests<3,>=2.21.0->tensorboard<2.9,>=2.8->tensorflow-gpu) (1.24.3)\n",
            "Requirement already satisfied: oauthlib>=3.0.0 in /usr/local/lib/python3.7/dist-packages (from requests-oauthlib>=0.7.0->google-auth-oauthlib<0.5,>=0.4.1->tensorboard<2.9,>=2.8->tensorflow-gpu) (3.2.0)\n",
            "Installing collected packages: tf-estimator-nightly, tensorflow-gpu\n",
            "Successfully installed tensorflow-gpu-2.8.0 tf-estimator-nightly-2.8.0.dev2021122109\n"
          ]
        }
      ],
      "source": [
        "!pip install tensorflow-gpu"
      ]
    },
    {
      "cell_type": "code",
      "execution_count": null,
      "metadata": {
        "id": "U34C-XCroBEW"
      },
      "outputs": [],
      "source": [
        "'''\n",
        "A bunch of imports, you don't have to worry about these\n",
        "'''\n",
        "\n",
        "import numpy as np\n",
        "import random\n",
        "import torch\n",
        "import torch.nn as nn  \n",
        "import torch.nn.functional as F\n",
        "from collections import namedtuple, deque\n",
        "import torch.optim as optim\n",
        "import datetime\n",
        "import gym\n",
        "from gym.wrappers import Monitor\n",
        "import glob\n",
        "import io\n",
        "import base64\n",
        "import matplotlib.pyplot as plt\n",
        "from IPython.display import HTML\n",
        "#from pyvirtualdisplay import Display\n",
        "import tensorflow as tf\n",
        "from IPython import display as ipythondisplay\n",
        "from PIL import Image\n",
        "import tensorflow_probability as tfp"
      ]
    },
    {
      "cell_type": "markdown",
      "metadata": {
        "id": "OwDysKY8qlHT"
      },
      "source": [
        "### Initializing Actor-Critic Network"
      ]
    },
    {
      "cell_type": "code",
      "execution_count": null,
      "metadata": {
        "id": "YvQYtIjHqu6g"
      },
      "outputs": [],
      "source": [
        "class ActorCriticModel(tf.keras.Model):\n",
        "    \"\"\"\n",
        "    Defining policy and value networkss\n",
        "    \"\"\"\n",
        "    def __init__(self, action_size, n_hidden1=2048, n_hidden2=1536):\n",
        "        super(ActorCriticModel, self).__init__()\n",
        "\n",
        "        #Hidden Layer 1\n",
        "        self.fc1 = tf.keras.layers.Dense(n_hidden1, activation='relu')\n",
        "        #Hidden Layer 2\n",
        "        self.fc2 = tf.keras.layers.Dense(n_hidden2, activation='relu')\n",
        "      \n",
        "        #Output Layer for policy\n",
        "        self.pi_out = tf.keras.layers.Dense(action_size, activation='softmax')\n",
        "        #Output Layer for state-value\n",
        "        self.v_out = tf.keras.layers.Dense(1)\n",
        "\n",
        "    def call(self, state):\n",
        "        \"\"\"\n",
        "        Computes policy distribution and state-value for a given state\n",
        "        \"\"\"\n",
        "        layer1 = self.fc1(state)\n",
        "        layer2 = self.fc2(layer1)\n",
        "       \n",
        "        pi = self.pi_out(layer2)\n",
        "        v = self.v_out(layer2)\n",
        "\n",
        "        return pi, v"
      ]
    },
    {
      "cell_type": "markdown",
      "metadata": {
        "id": "kT0dyhPDq3qR"
      },
      "source": [
        "### Agent Class"
      ]
    },
    {
      "cell_type": "code",
      "execution_count": null,
      "metadata": {
        "id": "ZIv5tFLg2oQ5"
      },
      "outputs": [],
      "source": [
        "class Agent1:\n",
        "    \"\"\"\n",
        "    Agent class\n",
        "    \"\"\"\n",
        "    def __init__(self, action_size, lr=5e-6, gamma=0.99, seed = 85,n_hidden1=2048, n_hidden2=1536):\n",
        "        self.gamma = gamma\n",
        "        self.ac_model = ActorCriticModel(action_size=action_size,n_hidden1=n_hidden1, n_hidden2=n_hidden2)\n",
        "        self.ac_model.compile(tf.keras.optimizers.Adam(learning_rate=lr))\n",
        "        np.random.seed(seed)\n",
        "    \n",
        "    def sample_action(self, state):\n",
        "        \"\"\"\n",
        "        Given a state, compute the policy distribution over all actions and sample one action\n",
        "        \"\"\"\n",
        "        pi,_ = self.ac_model(state)\n",
        "\n",
        "        action_probabilities = tfp.distributions.Categorical(probs=pi)\n",
        "        sample = action_probabilities.sample()\n",
        "\n",
        "        return int(sample.numpy()[0])\n",
        "\n",
        "    def actor_loss(self, action, pi, delta):\n",
        "        \"\"\"\n",
        "        Compute Actor Loss\n",
        "        \"\"\"\n",
        "        return -tf.math.log(pi[0,action]) * delta\n",
        "\n",
        "    def critic_loss(self,delta):\n",
        "        \"\"\"\n",
        "        Critic loss aims to minimize TD error\n",
        "        \"\"\"\n",
        "        return delta**2\n",
        "\n",
        "    @tf.function\n",
        "    def learn(self, state, action, reward, next_state, done):\n",
        "        \"\"\"\n",
        "        For a given transition (s,a,s',r) update the paramters by computing the\n",
        "        gradient of the total loss\n",
        "        \"\"\"\n",
        "        with tf.GradientTape(persistent=True) as tape:\n",
        "            pi, V_s = self.ac_model(state)\n",
        "            _, V_s_next = self.ac_model(next_state)\n",
        "            # V_s_next = tf.stop_gradient(V_s_next)\n",
        "\n",
        "            V_s = tf.squeeze(V_s)\n",
        "            V_s_next = tf.squeeze(V_s_next)\n",
        "            \n",
        "            #### TO DO: Write the equation for delta (TD error)\n",
        "            ## Write code below\n",
        "            delta = reward + (self.gamma * V_s_next) - V_s\n",
        "\n",
        "            loss_a = self.actor_loss(action, pi, delta)\n",
        "            loss_c =self.critic_loss(delta)\n",
        "            loss_total = loss_a + loss_c\n",
        "\n",
        "        gradient = tape.gradient(loss_total, self.ac_model.trainable_variables)\n",
        "        self.ac_model.optimizer.apply_gradients(zip(gradient, self.ac_model.trainable_variables))"
      ]
    },
    {
      "cell_type": "markdown",
      "metadata": {
        "id": "6qO1p5IuXHHV"
      },
      "source": [
        "# Acrobot-v1"
      ]
    },
    {
      "cell_type": "code",
      "execution_count": 6,
      "metadata": {
        "colab": {
          "base_uri": "https://localhost:8080/"
        },
        "id": "rRWdKgQOWowi",
        "outputId": "a8e86bbf-c22d-42a4-ba79-96e542e71807"
      },
      "outputs": [
        {
          "name": "stdout",
          "output_type": "stream",
          "text": [
            "begin experiment\n",
            "Episode  10 Reward -451.000000 Average Reward -493.600000 Step count 452.000000\n",
            "Episode  20 Reward -368.000000 Average Reward -370.400000 Step count 369.000000\n",
            "Episode  30 Reward -370.000000 Average Reward -303.600000 Step count 371.000000\n",
            "Episode  40 Reward -209.000000 Average Reward -273.400000 Step count 210.000000\n",
            "Episode  50 Reward -176.000000 Average Reward -214.600000 Step count 177.000000\n",
            "Episode  60 Reward -205.000000 Average Reward -219.100000 Step count 206.000000\n",
            "Episode  70 Reward -167.000000 Average Reward -218.400000 Step count 168.000000\n",
            "Episode  80 Reward -275.000000 Average Reward -222.400000 Step count 276.000000\n",
            "Episode  90 Reward -177.000000 Average Reward -180.600000 Step count 178.000000\n",
            "Episode  100 Reward -174.000000 Average Reward -224.200000 Step count 175.000000\n",
            "Episode  110 Reward -151.000000 Average Reward -196.300000 Step count 152.000000\n",
            "Episode  120 Reward -161.000000 Average Reward -199.400000 Step count 162.000000\n",
            "Episode  130 Reward -179.000000 Average Reward -195.000000 Step count 180.000000\n",
            "Episode  140 Reward -233.000000 Average Reward -211.400000 Step count 234.000000\n",
            "Episode  150 Reward -212.000000 Average Reward -189.100000 Step count 213.000000\n",
            "Episode  160 Reward -190.000000 Average Reward -185.500000 Step count 191.000000\n",
            "Episode  170 Reward -204.000000 Average Reward -173.900000 Step count 205.000000\n",
            "Episode  180 Reward -187.000000 Average Reward -177.300000 Step count 188.000000\n",
            "Episode  190 Reward -196.000000 Average Reward -195.500000 Step count 197.000000\n",
            "Episode  200 Reward -163.000000 Average Reward -178.100000 Step count 164.000000\n",
            "Episode  210 Reward -208.000000 Average Reward -185.400000 Step count 209.000000\n",
            "Episode  220 Reward -165.000000 Average Reward -179.400000 Step count 166.000000\n",
            "Episode  230 Reward -193.000000 Average Reward -205.600000 Step count 194.000000\n",
            "Episode  240 Reward -211.000000 Average Reward -197.200000 Step count 212.000000\n",
            "Episode  250 Reward -207.000000 Average Reward -203.400000 Step count 208.000000\n",
            "Episode  260 Reward -175.000000 Average Reward -201.300000 Step count 176.000000\n",
            "Episode  270 Reward -404.000000 Average Reward -199.800000 Step count 405.000000\n",
            "Episode  280 Reward -147.000000 Average Reward -188.400000 Step count 148.000000\n",
            "Episode  290 Reward -143.000000 Average Reward -181.300000 Step count 144.000000\n",
            "Episode  300 Reward -271.000000 Average Reward -202.600000 Step count 272.000000\n",
            "Episode  310 Reward -182.000000 Average Reward -205.700000 Step count 183.000000\n",
            "Episode  320 Reward -190.000000 Average Reward -180.200000 Step count 191.000000\n",
            "Episode  330 Reward -208.000000 Average Reward -179.900000 Step count 209.000000\n",
            "Episode  340 Reward -189.000000 Average Reward -171.700000 Step count 190.000000\n",
            "Episode  350 Reward -225.000000 Average Reward -201.000000 Step count 226.000000\n",
            "Episode  360 Reward -173.000000 Average Reward -201.900000 Step count 174.000000\n",
            "Episode  370 Reward -211.000000 Average Reward -186.400000 Step count 212.000000\n",
            "Episode  380 Reward -153.000000 Average Reward -189.600000 Step count 154.000000\n",
            "Episode  390 Reward -218.000000 Average Reward -178.800000 Step count 219.000000\n",
            "Episode  400 Reward -161.000000 Average Reward -169.900000 Step count 162.000000\n",
            "Episode  410 Reward -200.000000 Average Reward -226.000000 Step count 201.000000\n",
            "Episode  420 Reward -250.000000 Average Reward -225.000000 Step count 251.000000\n",
            "Episode  430 Reward -186.000000 Average Reward -221.800000 Step count 187.000000\n",
            "Episode  440 Reward -305.000000 Average Reward -270.000000 Step count 306.000000\n",
            "Episode  450 Reward -401.000000 Average Reward -291.400000 Step count 402.000000\n",
            "Episode  460 Reward -260.000000 Average Reward -325.300000 Step count 261.000000\n",
            "Episode  470 Reward -255.000000 Average Reward -322.200000 Step count 256.000000\n",
            "Episode  480 Reward -483.000000 Average Reward -334.100000 Step count 484.000000\n",
            "Episode  490 Reward -353.000000 Average Reward -327.000000 Step count 354.000000\n",
            "Episode  500 Reward -207.000000 Average Reward -258.200000 Step count 208.000000\n",
            "Episode  510 Reward -307.000000 Average Reward -299.500000 Step count 308.000000\n",
            "Episode  520 Reward -236.000000 Average Reward -288.700000 Step count 237.000000\n",
            "Episode  530 Reward -230.000000 Average Reward -253.600000 Step count 231.000000\n",
            "Episode  540 Reward -457.000000 Average Reward -254.900000 Step count 458.000000\n",
            "Episode  550 Reward -219.000000 Average Reward -215.300000 Step count 220.000000\n",
            "Episode  560 Reward -159.000000 Average Reward -211.400000 Step count 160.000000\n",
            "Episode  570 Reward -195.000000 Average Reward -187.400000 Step count 196.000000\n",
            "Episode  580 Reward -216.000000 Average Reward -187.900000 Step count 217.000000\n",
            "Episode  590 Reward -207.000000 Average Reward -215.400000 Step count 208.000000\n",
            "Episode  600 Reward -179.000000 Average Reward -157.900000 Step count 180.000000\n",
            "Episode  610 Reward -157.000000 Average Reward -190.100000 Step count 158.000000\n",
            "Episode  620 Reward -171.000000 Average Reward -176.400000 Step count 172.000000\n",
            "Episode  630 Reward -174.000000 Average Reward -160.900000 Step count 175.000000\n",
            "Episode  640 Reward -139.000000 Average Reward -190.300000 Step count 140.000000\n",
            "Episode  650 Reward -211.000000 Average Reward -159.200000 Step count 212.000000\n",
            "Episode  660 Reward -133.000000 Average Reward -143.900000 Step count 134.000000\n",
            "Episode  670 Reward -163.000000 Average Reward -151.800000 Step count 164.000000\n",
            "Episode  680 Reward -193.000000 Average Reward -157.100000 Step count 194.000000\n",
            "Episode  690 Reward -125.000000 Average Reward -161.400000 Step count 126.000000\n",
            "Episode  700 Reward -176.000000 Average Reward -156.200000 Step count 177.000000\n",
            "Episode  710 Reward -163.000000 Average Reward -173.200000 Step count 164.000000\n",
            "Episode  720 Reward -147.000000 Average Reward -140.800000 Step count 148.000000\n",
            "Episode  730 Reward -132.000000 Average Reward -128.300000 Step count 133.000000\n",
            "Episode  740 Reward -111.000000 Average Reward -122.000000 Step count 112.000000\n",
            "Episode  750 Reward -89.000000 Average Reward -109.400000 Step count 90.000000\n",
            "Episode  760 Reward -88.000000 Average Reward -113.300000 Step count 89.000000\n",
            "Episode  770 Reward -91.000000 Average Reward -102.800000 Step count 92.000000\n",
            "Episode  780 Reward -91.000000 Average Reward -99.500000 Step count 92.000000\n",
            "Episode  790 Reward -94.000000 Average Reward -101.000000 Step count 95.000000\n",
            "Episode  800 Reward -130.000000 Average Reward -95.600000 Step count 131.000000\n",
            "Episode  810 Reward -86.000000 Average Reward -99.300000 Step count 87.000000\n",
            "Episode  820 Reward -76.000000 Average Reward -106.000000 Step count 77.000000\n",
            "Episode  830 Reward -94.000000 Average Reward -98.500000 Step count 95.000000\n",
            "Episode  840 Reward -89.000000 Average Reward -90.100000 Step count 90.000000\n",
            "Environment solved at Episode  746\n",
            "Average Reward for last 100 episodes:  -99.9\n",
            "Threshold of the environment:  -100.0\n",
            "end experiment\n",
            "begin experiment\n",
            "Episode  10 Reward -443.000000 Average Reward -467.600000 Step count 444.000000\n",
            "Episode  20 Reward -500.000000 Average Reward -463.400000 Step count 500.000000\n",
            "Episode  30 Reward -214.000000 Average Reward -356.600000 Step count 215.000000\n",
            "Episode  40 Reward -255.000000 Average Reward -247.100000 Step count 256.000000\n",
            "Episode  50 Reward -306.000000 Average Reward -217.100000 Step count 307.000000\n",
            "Episode  60 Reward -172.000000 Average Reward -215.100000 Step count 173.000000\n",
            "Episode  70 Reward -170.000000 Average Reward -200.500000 Step count 171.000000\n",
            "Episode  80 Reward -201.000000 Average Reward -226.200000 Step count 202.000000\n",
            "Episode  90 Reward -237.000000 Average Reward -227.700000 Step count 238.000000\n",
            "Episode  100 Reward -133.000000 Average Reward -172.900000 Step count 134.000000\n",
            "Episode  110 Reward -231.000000 Average Reward -198.800000 Step count 232.000000\n",
            "Episode  120 Reward -152.000000 Average Reward -209.000000 Step count 153.000000\n",
            "Episode  130 Reward -234.000000 Average Reward -201.800000 Step count 235.000000\n",
            "Episode  140 Reward -196.000000 Average Reward -260.400000 Step count 197.000000\n",
            "Episode  150 Reward -321.000000 Average Reward -219.300000 Step count 322.000000\n",
            "Episode  160 Reward -178.000000 Average Reward -205.400000 Step count 179.000000\n",
            "Episode  170 Reward -183.000000 Average Reward -210.900000 Step count 184.000000\n",
            "Episode  180 Reward -210.000000 Average Reward -218.500000 Step count 211.000000\n",
            "Episode  190 Reward -212.000000 Average Reward -207.200000 Step count 213.000000\n",
            "Episode  200 Reward -269.000000 Average Reward -228.000000 Step count 270.000000\n",
            "Episode  210 Reward -212.000000 Average Reward -223.100000 Step count 213.000000\n",
            "Episode  220 Reward -237.000000 Average Reward -257.000000 Step count 238.000000\n",
            "Episode  230 Reward -168.000000 Average Reward -230.900000 Step count 169.000000\n",
            "Episode  240 Reward -240.000000 Average Reward -229.400000 Step count 241.000000\n",
            "Episode  250 Reward -206.000000 Average Reward -251.600000 Step count 207.000000\n",
            "Episode  260 Reward -257.000000 Average Reward -239.000000 Step count 258.000000\n",
            "Episode  270 Reward -184.000000 Average Reward -251.800000 Step count 185.000000\n",
            "Episode  280 Reward -162.000000 Average Reward -192.900000 Step count 163.000000\n",
            "Episode  290 Reward -226.000000 Average Reward -217.900000 Step count 227.000000\n",
            "Episode  300 Reward -273.000000 Average Reward -255.600000 Step count 274.000000\n",
            "Episode  310 Reward -206.000000 Average Reward -203.300000 Step count 207.000000\n",
            "Episode  320 Reward -172.000000 Average Reward -218.400000 Step count 173.000000\n",
            "Episode  330 Reward -318.000000 Average Reward -282.000000 Step count 319.000000\n",
            "Episode  340 Reward -217.000000 Average Reward -214.600000 Step count 218.000000\n",
            "Episode  350 Reward -229.000000 Average Reward -188.400000 Step count 230.000000\n",
            "Episode  360 Reward -196.000000 Average Reward -183.300000 Step count 197.000000\n",
            "Episode  370 Reward -138.000000 Average Reward -163.200000 Step count 139.000000\n",
            "Episode  380 Reward -233.000000 Average Reward -186.500000 Step count 234.000000\n",
            "Episode  390 Reward -158.000000 Average Reward -184.100000 Step count 159.000000\n",
            "Episode  400 Reward -221.000000 Average Reward -184.900000 Step count 222.000000\n",
            "Episode  410 Reward -163.000000 Average Reward -176.100000 Step count 164.000000\n",
            "Episode  420 Reward -142.000000 Average Reward -144.400000 Step count 143.000000\n",
            "Episode  430 Reward -231.000000 Average Reward -158.600000 Step count 232.000000\n",
            "Episode  440 Reward -139.000000 Average Reward -123.000000 Step count 140.000000\n",
            "Episode  450 Reward -154.000000 Average Reward -160.600000 Step count 155.000000\n",
            "Episode  460 Reward -102.000000 Average Reward -114.600000 Step count 103.000000\n",
            "Episode  470 Reward -98.000000 Average Reward -114.600000 Step count 99.000000\n",
            "Episode  480 Reward -110.000000 Average Reward -120.400000 Step count 111.000000\n",
            "Episode  490 Reward -106.000000 Average Reward -158.100000 Step count 107.000000\n",
            "Episode  500 Reward -113.000000 Average Reward -125.800000 Step count 114.000000\n",
            "Episode  510 Reward -122.000000 Average Reward -117.600000 Step count 123.000000\n",
            "Episode  520 Reward -122.000000 Average Reward -122.900000 Step count 123.000000\n",
            "Episode  530 Reward -113.000000 Average Reward -140.000000 Step count 114.000000\n",
            "Episode  540 Reward -133.000000 Average Reward -126.600000 Step count 134.000000\n",
            "Episode  550 Reward -90.000000 Average Reward -109.800000 Step count 91.000000\n",
            "Episode  560 Reward -108.000000 Average Reward -160.300000 Step count 109.000000\n",
            "Episode  570 Reward -102.000000 Average Reward -136.800000 Step count 103.000000\n",
            "Episode  580 Reward -95.000000 Average Reward -108.700000 Step count 96.000000\n",
            "Episode  590 Reward -144.000000 Average Reward -111.000000 Step count 145.000000\n",
            "Episode  600 Reward -103.000000 Average Reward -99.100000 Step count 104.000000\n",
            "Episode  610 Reward -106.000000 Average Reward -107.700000 Step count 107.000000\n",
            "Episode  620 Reward -123.000000 Average Reward -107.800000 Step count 124.000000\n",
            "Episode  630 Reward -94.000000 Average Reward -105.400000 Step count 95.000000\n",
            "Episode  640 Reward -143.000000 Average Reward -116.500000 Step count 144.000000\n",
            "Episode  650 Reward -114.000000 Average Reward -121.200000 Step count 115.000000\n",
            "Episode  660 Reward -90.000000 Average Reward -97.500000 Step count 91.000000\n",
            "Episode  670 Reward -145.000000 Average Reward -109.600000 Step count 146.000000\n",
            "Episode  680 Reward -86.000000 Average Reward -107.300000 Step count 87.000000\n",
            "Episode  690 Reward -103.000000 Average Reward -103.400000 Step count 104.000000\n",
            "Episode  700 Reward -100.000000 Average Reward -103.800000 Step count 101.000000\n",
            "Episode  710 Reward -86.000000 Average Reward -102.300000 Step count 87.000000\n",
            "Episode  720 Reward -100.000000 Average Reward -101.000000 Step count 101.000000\n",
            "Episode  730 Reward -71.000000 Average Reward -83.800000 Step count 72.000000\n",
            "Episode  740 Reward -101.000000 Average Reward -105.600000 Step count 102.000000\n",
            "Episode  750 Reward -120.000000 Average Reward -110.100000 Step count 121.000000\n",
            "Episode  760 Reward -86.000000 Average Reward -95.100000 Step count 87.000000\n",
            "Episode  770 Reward -76.000000 Average Reward -110.900000 Step count 77.000000\n",
            "Episode  780 Reward -100.000000 Average Reward -114.300000 Step count 101.000000\n",
            "Episode  790 Reward -78.000000 Average Reward -106.300000 Step count 79.000000\n",
            "Episode  800 Reward -175.000000 Average Reward -138.400000 Step count 176.000000\n",
            "Episode  810 Reward -103.000000 Average Reward -93.600000 Step count 104.000000\n",
            "Episode  820 Reward -87.000000 Average Reward -102.100000 Step count 88.000000\n",
            "Episode  830 Reward -85.000000 Average Reward -96.000000 Step count 86.000000\n",
            "Episode  840 Reward -74.000000 Average Reward -86.700000 Step count 75.000000\n",
            "Episode  850 Reward -75.000000 Average Reward -101.000000 Step count 76.000000\n",
            "Episode  860 Reward -115.000000 Average Reward -98.100000 Step count 116.000000\n",
            "Episode  870 Reward -214.000000 Average Reward -117.900000 Step count 215.000000\n",
            "Episode  880 Reward -87.000000 Average Reward -83.300000 Step count 88.000000\n",
            "Episode  890 Reward -100.000000 Average Reward -88.200000 Step count 101.000000\n",
            "Environment solved at Episode  793\n",
            "Average Reward for last 100 episodes:  -96.15\n",
            "Threshold of the environment:  -100.0\n",
            "end experiment\n",
            "begin experiment\n",
            "Episode  10 Reward -500.000000 Average Reward -500.000000 Step count 500.000000\n",
            "Episode  20 Reward -500.000000 Average Reward -500.000000 Step count 500.000000\n",
            "Episode  30 Reward -334.000000 Average Reward -313.600000 Step count 335.000000\n",
            "Episode  40 Reward -316.000000 Average Reward -251.300000 Step count 317.000000\n",
            "Episode  50 Reward -225.000000 Average Reward -245.300000 Step count 226.000000\n",
            "Episode  60 Reward -210.000000 Average Reward -269.500000 Step count 211.000000\n",
            "Episode  70 Reward -240.000000 Average Reward -244.700000 Step count 241.000000\n",
            "Episode  80 Reward -272.000000 Average Reward -224.900000 Step count 273.000000\n",
            "Episode  90 Reward -157.000000 Average Reward -271.900000 Step count 158.000000\n",
            "Episode  100 Reward -231.000000 Average Reward -238.500000 Step count 232.000000\n",
            "Episode  110 Reward -177.000000 Average Reward -158.400000 Step count 178.000000\n",
            "Episode  120 Reward -103.000000 Average Reward -138.400000 Step count 104.000000\n",
            "Episode  130 Reward -120.000000 Average Reward -123.700000 Step count 121.000000\n",
            "Episode  140 Reward -200.000000 Average Reward -149.200000 Step count 201.000000\n",
            "Episode  150 Reward -131.000000 Average Reward -132.000000 Step count 132.000000\n",
            "Episode  160 Reward -193.000000 Average Reward -137.600000 Step count 194.000000\n",
            "Episode  170 Reward -169.000000 Average Reward -159.600000 Step count 170.000000\n",
            "Episode  180 Reward -121.000000 Average Reward -180.800000 Step count 122.000000\n",
            "Episode  190 Reward -149.000000 Average Reward -177.200000 Step count 150.000000\n",
            "Episode  200 Reward -184.000000 Average Reward -162.700000 Step count 185.000000\n",
            "Episode  210 Reward -127.000000 Average Reward -167.600000 Step count 128.000000\n",
            "Episode  220 Reward -165.000000 Average Reward -140.700000 Step count 166.000000\n",
            "Episode  230 Reward -106.000000 Average Reward -165.300000 Step count 107.000000\n",
            "Episode  240 Reward -139.000000 Average Reward -141.200000 Step count 140.000000\n",
            "Episode  250 Reward -147.000000 Average Reward -151.200000 Step count 148.000000\n",
            "Episode  260 Reward -130.000000 Average Reward -133.400000 Step count 131.000000\n",
            "Episode  270 Reward -156.000000 Average Reward -133.000000 Step count 157.000000\n",
            "Episode  280 Reward -144.000000 Average Reward -121.500000 Step count 145.000000\n",
            "Episode  290 Reward -131.000000 Average Reward -141.300000 Step count 132.000000\n",
            "Episode  300 Reward -123.000000 Average Reward -107.200000 Step count 124.000000\n",
            "Episode  310 Reward -167.000000 Average Reward -119.600000 Step count 168.000000\n",
            "Episode  320 Reward -93.000000 Average Reward -114.600000 Step count 94.000000\n",
            "Episode  330 Reward -122.000000 Average Reward -123.200000 Step count 123.000000\n",
            "Episode  340 Reward -116.000000 Average Reward -111.900000 Step count 117.000000\n",
            "Episode  350 Reward -100.000000 Average Reward -105.900000 Step count 101.000000\n",
            "Episode  360 Reward -90.000000 Average Reward -107.800000 Step count 91.000000\n",
            "Episode  370 Reward -113.000000 Average Reward -114.700000 Step count 114.000000\n",
            "Episode  380 Reward -132.000000 Average Reward -129.500000 Step count 133.000000\n",
            "Episode  390 Reward -127.000000 Average Reward -128.200000 Step count 128.000000\n",
            "Episode  400 Reward -76.000000 Average Reward -113.100000 Step count 77.000000\n",
            "Episode  410 Reward -88.000000 Average Reward -114.200000 Step count 89.000000\n",
            "Episode  420 Reward -123.000000 Average Reward -123.200000 Step count 124.000000\n",
            "Episode  430 Reward -106.000000 Average Reward -138.200000 Step count 107.000000\n",
            "Episode  440 Reward -128.000000 Average Reward -112.100000 Step count 129.000000\n",
            "Episode  450 Reward -96.000000 Average Reward -88.900000 Step count 97.000000\n",
            "Episode  460 Reward -75.000000 Average Reward -114.200000 Step count 76.000000\n",
            "Episode  470 Reward -105.000000 Average Reward -111.900000 Step count 106.000000\n",
            "Episode  480 Reward -92.000000 Average Reward -116.000000 Step count 93.000000\n",
            "Episode  490 Reward -102.000000 Average Reward -95.800000 Step count 103.000000\n",
            "Episode  500 Reward -94.000000 Average Reward -98.500000 Step count 95.000000\n",
            "Episode  510 Reward -119.000000 Average Reward -105.400000 Step count 120.000000\n",
            "Episode  520 Reward -84.000000 Average Reward -104.800000 Step count 85.000000\n",
            "Episode  530 Reward -118.000000 Average Reward -87.800000 Step count 119.000000\n",
            "Episode  540 Reward -91.000000 Average Reward -109.800000 Step count 92.000000\n",
            "Episode  550 Reward -97.000000 Average Reward -106.000000 Step count 98.000000\n",
            "Episode  560 Reward -92.000000 Average Reward -125.800000 Step count 93.000000\n",
            "Episode  570 Reward -77.000000 Average Reward -101.400000 Step count 78.000000\n",
            "Episode  580 Reward -88.000000 Average Reward -92.200000 Step count 89.000000\n",
            "Episode  590 Reward -79.000000 Average Reward -103.300000 Step count 80.000000\n",
            "Episode  600 Reward -109.000000 Average Reward -104.000000 Step count 110.000000\n",
            "Episode  610 Reward -85.000000 Average Reward -110.700000 Step count 86.000000\n",
            "Episode  620 Reward -94.000000 Average Reward -106.800000 Step count 95.000000\n",
            "Episode  630 Reward -87.000000 Average Reward -116.500000 Step count 88.000000\n",
            "Episode  640 Reward -107.000000 Average Reward -95.300000 Step count 108.000000\n",
            "Episode  650 Reward -86.000000 Average Reward -106.900000 Step count 87.000000\n",
            "Episode  660 Reward -93.000000 Average Reward -110.600000 Step count 94.000000\n",
            "Episode  670 Reward -107.000000 Average Reward -98.300000 Step count 108.000000\n",
            "Episode  680 Reward -77.000000 Average Reward -89.400000 Step count 78.000000\n",
            "Episode  690 Reward -83.000000 Average Reward -86.900000 Step count 84.000000\n",
            "Episode  700 Reward -500.000000 Average Reward -132.000000 Step count 500.000000\n",
            "Episode  710 Reward -102.000000 Average Reward -89.100000 Step count 103.000000\n",
            "Episode  720 Reward -90.000000 Average Reward -92.200000 Step count 91.000000\n",
            "Episode  730 Reward -83.000000 Average Reward -106.500000 Step count 84.000000\n",
            "Episode  740 Reward -75.000000 Average Reward -109.700000 Step count 76.000000\n",
            "Environment solved at Episode  648\n",
            "Average Reward for last 100 episodes:  -99.98\n",
            "Threshold of the environment:  -100.0\n",
            "end experiment\n",
            "3:03:20.632584\n"
          ]
        }
      ],
      "source": [
        "\n",
        "\n",
        "#Initializing Agent\n",
        "#agent = Agent1(lr=1e-4, action_size=env.action_space.n)\n",
        "#Number of episodes\n",
        "episodes = 3000\n",
        "runs = 10\n",
        "tf.compat.v1.reset_default_graph() #Should this be inside the run for loop??\n",
        "\n",
        "env = gym.make('Acrobot-v1')\n",
        "state = env.reset()   \n",
        "runs_reward_list = []\n",
        "runs_steps_list = []\n",
        "required_episodes_to_solve_list = [episodes]*runs\n",
        "#variance_list = []\n",
        "step_count = 0\n",
        "begin_time = datetime.datetime.now()\n",
        "\n",
        "for run in range(10):\n",
        "    #Initializing Agent\n",
        "    \n",
        "    n_hidden1=2048\n",
        "    n_hidden2=1536\n",
        "    lr=5e-6\n",
        "    agent = Agent1(lr=lr, action_size=env.action_space.n,n_hidden1=n_hidden1, n_hidden2=n_hidden2)\n",
        "    episodes_reward_list = []\n",
        "    episodes_steps_list = []\n",
        "    environment_solved = False\n",
        "    print('begin experiment')\n",
        "    for ep in range(1, episodes + 1):\n",
        "        step_count = 0\n",
        "        state = env.reset().reshape(1,-1)\n",
        "        done = False\n",
        "        ep_rew = 0\n",
        "        while not done:\n",
        "            action = agent.sample_action(state) ##Sample Action\n",
        "            next_state, reward, done, info = env.step(action) ##Take action\n",
        "            next_state = next_state.reshape(1,-1)\n",
        "            ep_rew += reward  ##Updating episode reward\n",
        "            agent.learn(state, action, reward, next_state, done) ##Update Parameters\n",
        "            state = next_state ##Updating State\n",
        "            step_count += 1\n",
        "        episodes_reward_list.append(ep_rew)\n",
        "        episodes_steps_list.append(step_count)\n",
        "\n",
        "        if ep % 10 == 0:\n",
        "            avg_rew = np.mean(episodes_reward_list[-10:])\n",
        "            print('Episode ', ep, 'Reward %f' % ep_rew, 'Average Reward %f' % avg_rew, 'Step count %f' % step_count)\n",
        "\n",
        "        if ep % 100 and environment_solved == False:\n",
        "            avg_100 =  np.mean(episodes_reward_list[-100:])\n",
        "            if avg_100 > env.spec.reward_threshold:\n",
        "                print('Environment solved at Episode ',ep-100 if ep > 100 else ep)\n",
        "                print('Average Reward for last 100 episodes: ', avg_100 )\n",
        "                print('Threshold of the environment: ', env.spec.reward_threshold)\n",
        "                #required_episodes_to_solve_list.append(ep-100)\n",
        "                required_episodes_to_solve_list[run] = ep-100\n",
        "                environment_solved = True\n",
        "                break\n",
        "    print('end experiment') \n",
        "    runs_reward_list.append(episodes_reward_list)\n",
        "    runs_steps_list.append(episodes_steps_list)  \n",
        "    \n",
        "time_taken = datetime.datetime.now() - begin_time\n",
        "print(time_taken)"
      ]
    },
    {
      "cell_type": "code",
      "execution_count": 7,
      "metadata": {
        "colab": {
          "base_uri": "https://localhost:8080/"
        },
        "id": "1_ZhvjKPqbCU",
        "outputId": "508d0356-0462-4fd0-d731-b11c137e548f"
      },
      "outputs": [
        {
          "name": "stdout",
          "output_type": "stream",
          "text": [
            "3\n",
            "846\n",
            "(2487,)\n",
            "[746, 793, 648, 3000, 3000, 3000, 3000, 3000, 3000, 3000]\n",
            "2318.7\n"
          ]
        },
        {
          "name": "stderr",
          "output_type": "stream",
          "text": [
            "/usr/local/lib/python3.7/dist-packages/numpy/lib/function_base.py:377: VisibleDeprecationWarning: Creating an ndarray from ragged nested sequences (which is a list-or-tuple of lists-or-tuples-or ndarrays with different lengths or shapes) is deprecated. If you meant to do this, you must specify 'dtype=object' when creating the ndarray.\n",
            "  a = np.asanyarray(a)\n"
          ]
        }
      ],
      "source": [
        "print(len(runs_reward_list))\n",
        "print(len(runs_reward_list[0]))\n",
        "print(np.average(runs_reward_list, 0).shape)\n",
        "print(required_episodes_to_solve_list)\n",
        "print(np.average(required_episodes_to_solve_list)) "
      ]
    },
    {
      "cell_type": "code",
      "execution_count": 8,
      "metadata": {
        "id": "uEoLnQCuEIhS"
      },
      "outputs": [],
      "source": [
        "maxEpisode=0\n",
        "for i in runs_reward_list:\n",
        "  if maxEpisode<len(i):\n",
        "    maxEpisode=len(i)"
      ]
    },
    {
      "cell_type": "code",
      "execution_count": 9,
      "metadata": {
        "id": "eJqgoM48Eoes"
      },
      "outputs": [],
      "source": [
        "r_reward_ist=runs_reward_list"
      ]
    },
    {
      "cell_type": "code",
      "execution_count": 10,
      "metadata": {
        "id": "7O_x4jP2LSpJ"
      },
      "outputs": [],
      "source": [
        "def average(x):\n",
        "    #print('x before: ', x)\n",
        "    y = [i for i in x if i is not None]\n",
        "    #print(y)\n",
        "    return sum(y, 0.0) / len(y)\n",
        "\n",
        "def variance(x):\n",
        "    z = [i for i in x if i is not None]\n",
        "    #print(z)\n",
        "    return np.var(z)\n",
        "\n",
        "\n",
        "import itertools as it\n",
        "average_steps_to_goal_across_runs_for_each_episode = list(map(average, it.zip_longest(*runs_steps_list) ))\n",
        "\n",
        "average_total_reward_across_runs_for_each_episode = list(map(average, it.zip_longest(*runs_reward_list) ))\n",
        "\n",
        "variance_of_total_episode_reward_across_runs_for_each_episode = list(map(variance, it.zip_longest(*runs_reward_list) ))"
      ]
    },
    {
      "cell_type": "code",
      "execution_count": 11,
      "metadata": {
        "colab": {
          "base_uri": "https://localhost:8080/",
          "height": 803
        },
        "id": "ehnhbYNeLjGJ",
        "outputId": "0e11ebb5-5bb8-49cb-d0b2-ca8f09f48740"
      },
      "outputs": [
        {
          "data": {
            "image/png": "[encoded data removed]",
            "text/plain": [
              "<Figure size 432x288 with 1 Axes>"
            ]
          },
          "metadata": {
            "needs_background": "light"
          },
          "output_type": "display_data"
        },
        {
          "data": {
            "image/png": "[encoded data removed]",
            "text/plain": [
              "<Figure size 432x288 with 1 Axes>"
            ]
          },
          "metadata": {
            "needs_background": "light"
          },
          "output_type": "display_data"
        },
        {
          "data": {
            "image/png": "[encoded data removed]",
            "text/plain": [
              "<Figure size 432x288 with 1 Axes>"
            ]
          },
          "metadata": {
            "needs_background": "light"
          },
          "output_type": "display_data"
        }
      ],
      "source": [
        "plt.xlabel('Episode')\n",
        "plt.ylabel('Steps to Goal')\n",
        "\n",
        "plt.plot(np.arange(len(average_steps_to_goal_across_runs_for_each_episode)),average_steps_to_goal_across_runs_for_each_episode, 0)\n",
        "plt.show()\n",
        "\n",
        "plt.xlabel('Episode')\n",
        "plt.ylabel('Total Reward')\n",
        "plt.plot(np.arange(len(average_total_reward_across_runs_for_each_episode)),average_total_reward_across_runs_for_each_episode, 0)\n",
        "plt.show()\n",
        "\n",
        "plt.xlabel('Episode')\n",
        "plt.ylabel('Variance')\n",
        "plt.plot(np.arange(len(variance_of_total_episode_reward_across_runs_for_each_episode)),variance_of_total_episode_reward_across_runs_for_each_episode , 0)\n",
        "plt.show()"
      ]
    }
  ],
  "metadata": {
    "accelerator": "GPU",
    "colab": {
      "collapsed_sections": [],
      "name": "PA2_Actor_Critic_one_stepv2 Acrobot.ipynb",
      "provenance": []
    },
    "kernelspec": {
      "display_name": "Python 3",
      "name": "python3"
    },
    "language_info": {
      "name": "python"
    }
  },
  "nbformat": 4,
  "nbformat_minor": 0
}
