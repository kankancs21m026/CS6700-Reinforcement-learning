{
 "cells": [
  {
   "cell_type": "code",
   "execution_count": 13,
   "metadata": {
    "id": "twRn8cA1DOCj"
   },
   "outputs": [],
   "source": [
    "#wandb integration\n",
    "import wandb"
   ]
  },
  {
   "cell_type": "code",
   "execution_count": 14,
   "metadata": {
    "id": "P_DODRgW_ZKS"
   },
   "outputs": [],
   "source": [
    "\n",
    "\n",
    "import numpy as np\n",
    "import random\n",
    "import torch\n",
    "import torch.nn as nn  \n",
    "import torch.nn.functional as F\n",
    "from collections import namedtuple, deque\n",
    "import torch.optim as optim\n",
    "import datetime\n",
    "import gym\n",
    "from gym.wrappers import Monitor\n",
    "import glob\n",
    "import io\n",
    "import base64\n",
    "import matplotlib.pyplot as plt\n",
    "from IPython.display import HTML\n",
    "from pyvirtualdisplay import Display\n",
    "import tensorflow as tf\n",
    "from IPython import display as ipythondisplay\n",
    "from PIL import Image\n",
    "#import tensorflow_probability as tfp"
   ]
  },
  {
   "cell_type": "markdown",
   "metadata": {
    "id": "apuaOxavDXus"
   },
   "source": [
    "## DQN\n",
    "\n",
    "Using NNs as substitutes isn't something new. It has been tried earlier, but the 'human control' paper really popularised using NNs by providing a few stability ideas (Q-Targets, Experience Replay & Truncation). The 'Deep-Q Network' (DQN) Algorithm can be broken down into having the following components. \n",
    "\n",
    "### Q-Network:\n",
    "The neural network used as a function approximator is defined below"
   ]
  },
  {
   "cell_type": "code",
   "execution_count": 15,
   "metadata": {
    "id": "g4MRC1p2DZbp"
   },
   "outputs": [],
   "source": [
    "'''\n",
    "### Q Network & Some 'hyperparameters'\n",
    "\n",
    "QNetwork1:\n",
    "Input Layer - 4 nodes (State Shape) \\\n",
    "Hidden Layer 1 - 64 nodes \\\n",
    "Hidden Layer 2 - 64 nodes \\\n",
    "Output Layer - 2 nodes (Action Space) \\\n",
    "Optimizer - zero_grad()\n",
    "\n",
    "QNetwork2: Feel free to experiment more\n",
    "'''\n",
    "\n",
    "import torch\n",
    "import torch.nn as nn  \n",
    "import torch.nn.functional as F\n",
    "\n",
    "\n",
    "'''\n",
    "Bunch of Hyper parameters (Which you might have to tune later **wink wink**)\n",
    "'''\n",
    "#BUFFER_SIZE = int(1e5)  #''' replay buffer size '''\n",
    "#BATCH_SIZE = 64         #''' minibatch size '''\n",
    "#GAMMA = 0.99            #''' discount factor '''\n",
    "#LR = 5e-4               #''' learning rate '''\n",
    "#UPDATE_EVERY = 20       #''' how often to update the network (When Q target is present) '''\n",
    "\n",
    "\n",
    "class QNetwork1(nn.Module):\n",
    "\n",
    "    def __init__(self, state_size, action_size, seed, fc1_units=128, fc2_units=64):\n",
    "        \"\"\"Initialize parameters and build model.\n",
    "        Params\n",
    "        ======\n",
    "            state_size (int): Dimension of each state\n",
    "            action_size (int): Dimension of each action\n",
    "            seed (int): Random seed\n",
    "            fc1_units (int): Number of nodes in first hidden layer\n",
    "            fc2_units (int): Number of nodes in second hidden layer\n",
    "        \"\"\"\n",
    "        super(QNetwork1, self).__init__()\n",
    "        self.seed = torch.manual_seed(seed)\n",
    "        self.fc1 = nn.Linear(state_size, fc1_units)\n",
    "        self.fc2 = nn.Linear(fc1_units, fc2_units)\n",
    "        self.fc3 = nn.Linear(fc2_units, action_size)\n",
    "\n",
    "    def forward(self, state):\n",
    "        \"\"\"Build a network that maps state -> action values.\"\"\"\n",
    "        x = F.relu(self.fc1(state))\n",
    "        x = F.relu(self.fc2(x))\n",
    "        return self.fc3(x)"
   ]
  },
  {
   "cell_type": "markdown",
   "metadata": {
    "id": "Jmv5c0XoK8GA"
   },
   "source": [
    "### Replay Buffer:\n",
    "\n",
    "This is a 'deque' that helps us store experiences. Recall why we use such a technique."
   ]
  },
  {
   "cell_type": "code",
   "execution_count": 16,
   "metadata": {
    "id": "bh_oghc7Ledh"
   },
   "outputs": [],
   "source": [
    "import random\n",
    "import torch\n",
    "import numpy as np\n",
    "from collections import deque, namedtuple\n",
    "\n",
    "device = torch.device(\"cuda:0\" if torch.cuda.is_available() else \"cpu\")\n",
    "\n",
    "class ReplayBuffer:\n",
    "    \"\"\"Fixed-size buffer to store experience tuples.\"\"\"\n",
    "\n",
    "    def __init__(self, action_size, buffer_size, batch_size, seed):\n",
    "        \"\"\"Initialize a ReplayBuffer object.\n",
    "\n",
    "        Params\n",
    "        ======\n",
    "            action_size (int): dimension of each action\n",
    "            buffer_size (int): maximum size of buffer\n",
    "            batch_size (int): size of each training batch\n",
    "            seed (int): random seed\n",
    "        \"\"\"\n",
    "        self.action_size = action_size\n",
    "        self.memory = deque(maxlen=buffer_size)  \n",
    "        self.batch_size = batch_size\n",
    "        self.experience = namedtuple(\"Experience\", field_names=[\"state\", \"action\", \"reward\", \"next_state\", \"done\"])\n",
    "        self.seed = random.seed(seed)\n",
    "    \n",
    "    def add(self, state, action, reward, next_state, done):\n",
    "        \"\"\"Add a new experience to memory.\"\"\"\n",
    "        e = self.experience(state, action, reward, next_state, done)\n",
    "        self.memory.append(e)\n",
    "    \n",
    "    def sample(self):\n",
    "        \"\"\"Randomly sample a batch of experiences from memory.\"\"\"\n",
    "        experiences = random.sample(self.memory, k=self.batch_size)\n",
    "\n",
    "        states = torch.from_numpy(np.vstack([e.state for e in experiences if e is not None])).float().to(device)\n",
    "        actions = torch.from_numpy(np.vstack([e.action for e in experiences if e is not None])).long().to(device)\n",
    "        rewards = torch.from_numpy(np.vstack([e.reward for e in experiences if e is not None])).float().to(device)\n",
    "        next_states = torch.from_numpy(np.vstack([e.next_state for e in experiences if e is not None])).float().to(device)\n",
    "        dones = torch.from_numpy(np.vstack([e.done for e in experiences if e is not None]).astype(np.uint8)).float().to(device)\n",
    "  \n",
    "        return (states, actions, rewards, next_states, dones)\n",
    "\n",
    "    def __len__(self):\n",
    "        \"\"\"Return the current size of internal memory.\"\"\"\n",
    "        return len(self.memory)"
   ]
  },
  {
   "cell_type": "markdown",
   "metadata": {
    "id": "N8VJYkqoLqlO"
   },
   "source": [
    "## Truncation:\n",
    "We add a line (optionally) in the code to truncate the gradient in hopes that it would help with the stability of the learning process.\n",
    "\n",
    "## Agent Code:\n"
   ]
  },
  {
   "cell_type": "code",
   "execution_count": 17,
   "metadata": {
    "id": "ok_5eQM7OCTj"
   },
   "outputs": [],
   "source": [
    "from scipy.special import softmax\n",
    "import random\n",
    "\n",
    "class Agent():\n",
    "\n",
    "    def __init__(self, state_size, action_size, seed,\\\n",
    "                 method='softmax',temp=0.9,buffer_size = int(1e5),\\\n",
    "                batch_size = 64 ,gamma = 0.99,lr = 5e-4,update_every = 20,\\\n",
    "                 fc1_units=128, fc2_units=64,momentum_decay =0.9,\\\n",
    "                optimizer='adam'):\n",
    "\n",
    "        ''' Agent Environment Interaction '''\n",
    "        self.state_size = state_size\n",
    "        self.action_size = action_size\n",
    "        self.seed = random.seed(seed)\n",
    "        self.method=method\n",
    "        self.temp=temp\n",
    "        ''' Q-Network '''\n",
    "        self.qnetwork_local = QNetwork1(state_size, action_size, seed,fc1_units,fc2_units).to(device)\n",
    "        self.qnetwork_target = QNetwork1(state_size, action_size, seed,fc1_units,fc2_units).to(device)\n",
    "        self.optimizer =None\n",
    "        if(optimizer=='adam'):\n",
    "            self.optimizer=optim.Adam(self.qnetwork_local.parameters(), lr=lr)\n",
    "        if(optimizer=='nadam'):\n",
    "            self.optimizer=optim.NAdam(self.qnetwork_local.parameters(), lr=lr,momentum_decay=momentum_decay)\n",
    "        if(optimizer=='RMSprop'):\n",
    "            self.optimizer=optim.RMSprop(self.qnetwork_local.parameters(), lr=lr)\n",
    "        if(optimizer=='nesterov'):\n",
    "            self.optimizer=optim.SGD(self.qnetwork_local.parameters(), lr=lr,nesterov =True,isprint=False)\n",
    "        self.batch_size=batch_size\n",
    "        self.gamma=gamma\n",
    "        self.lr=lr\n",
    "        self.update_every=update_every\n",
    "        self.buffer_size=buffer_size\n",
    "        ''' Replay memory '''\n",
    "        self.memory = ReplayBuffer(action_size, self.buffer_size, self.batch_size, seed)\n",
    "\n",
    "        ''' Initialize time step (for updating every update_every steps)           -Needed for Q Targets '''\n",
    "        self.t_step = 0\n",
    "    \n",
    "    def step(self, state, action, reward, next_state, done):\n",
    "\n",
    "        ''' Save experience in replay memory '''\n",
    "        self.memory.add(state, action, reward, next_state, done)\n",
    "        \n",
    "        ''' If enough samples are available in memory, get random subset and learn '''\n",
    "        if len(self.memory) >= self.batch_size:\n",
    "            experiences = self.memory.sample()\n",
    "            self.learn(experiences, self.gamma)\n",
    "\n",
    "        \"\"\" +Q TARGETS PRESENT \"\"\"\n",
    "        ''' Updating the Network every 'update_every' steps taken '''      \n",
    "        self.t_step = (self.t_step + 1) % self.update_every\n",
    "        if self.t_step == 0:\n",
    "\n",
    "            self.qnetwork_target.load_state_dict(self.qnetwork_local.state_dict())\n",
    "\n",
    "    def actWithEpsilon(self, state, eps=0.):\n",
    "\n",
    "        state = torch.from_numpy(state).float().unsqueeze(0).to(device)\n",
    "        self.qnetwork_local.eval()\n",
    "        with torch.no_grad():\n",
    "            action_values = self.qnetwork_local(state)\n",
    "        self.qnetwork_local.train()\n",
    "\n",
    "        ''' Epsilon-greedy action selection (Already Present) '''\n",
    "        if random.random() > eps:\n",
    "            return np.argmax(action_values.cpu().data.numpy())\n",
    "        else:\n",
    "            return random.choice(np.arange(self.action_size))\n",
    "    \n",
    "\n",
    "\n",
    "    def actWithSoftMax(self, state,temperature):\n",
    "        \n",
    "        state = torch.from_numpy(state).float().unsqueeze(0).to(device)\n",
    "        self.qnetwork_local.eval()\n",
    "        with torch.no_grad():\n",
    "            action_values = self.qnetwork_local(state)\n",
    "        self.qnetwork_local.train()\n",
    "        \n",
    "        convertNumpy=action_values.cpu().data.numpy()\n",
    "        convertNumpy=convertNumpy[0]\n",
    "        if(temperature!=0):\n",
    "             convertNumpy/=temperature\n",
    "        sofrmX=softmax(convertNumpy)\n",
    "        sofrmX/=sofrmX.sum()\n",
    "        if(temperature==0):\n",
    "          return np.argmax(sofrmX)\n",
    "        all_possible_actions = np.arange(0, sofrmX.shape[-1])\n",
    "        action = np.random.choice(all_possible_actions,p=sofrmX)\n",
    "        return action\n",
    "    def learn(self, experiences, gamma):\n",
    "        \"\"\" +E EXPERIENCE REPLAY PRESENT \"\"\"\n",
    "        states, actions, rewards, next_states, dones = experiences\n",
    "\n",
    "        ''' Get max predicted Q values (for next states) from target model'''\n",
    "        Q_targets_next = self.qnetwork_target(next_states).detach().max(1)[0].unsqueeze(1)\n",
    "\n",
    "        ''' Compute Q targets for current states '''\n",
    "        Q_targets = rewards + (gamma * Q_targets_next * (1 - dones))\n",
    "\n",
    "        ''' Get expected Q values from local model '''\n",
    "        Q_expected = self.qnetwork_local(states).gather(1, actions)\n",
    "\n",
    "        ''' Compute loss '''\n",
    "        loss = F.mse_loss(Q_expected, Q_targets)\n",
    "\n",
    "        ''' Minimize the loss '''\n",
    "        self.optimizer.zero_grad()\n",
    "        loss.backward()\n",
    "        \n",
    "        ''' Gradiant Clipping '''\n",
    "        \"\"\" +T TRUNCATION PRESENT \"\"\"\n",
    "        for param in self.qnetwork_local.parameters():\n",
    "            param.grad.data.clamp_(-1, 1)\n",
    "            \n",
    "        self.optimizer.step()"
   ]
  },
  {
   "cell_type": "code",
   "execution_count": 18,
   "metadata": {
    "colab": {
     "base_uri": "https://localhost:8080/",
     "height": 35
    },
    "id": "r6A2TdUHWVUN",
    "outputId": "64c23a87-f7ea-43e8-f06b-030748d5700b"
   },
   "outputs": [
    {
     "data": {
      "text/plain": [
       "' Trial run to check if algorithm runs and saves the data '"
      ]
     },
     "execution_count": 18,
     "metadata": {},
     "output_type": "execute_result"
    }
   ],
   "source": [
    "''' Defining DQN Algorithm '''\n",
    "def dqn(agent,n_episodes=10000, scoreThreshold=100,\\\n",
    "        max_t=1000, eps_start=1.0, eps_end=0.01,\\\n",
    "        eps_decay=0.995,method='softmax',temperature=0.9,buffer_size = int(1e5),\\\n",
    "        batch_size = 64 ,gamma = 0.99,LR = 5e-4,update_every = 20,wandbLog=False,isprint=True,temp_decay=0,temp_end=0.0001):\n",
    "\n",
    "    scores = []\n",
    "    steps = []    \n",
    "    ''' list containing scores from each episode '''\n",
    "\n",
    "    scores_window_printing = deque(maxlen=10) \n",
    "    ''' For printing in the graph '''\n",
    "    \n",
    "    scores_window= deque(maxlen=100)  \n",
    "    ''' last 100 scores for checking if the avg is more than 195 '''\n",
    "    \n",
    "    eps = eps_start                    \n",
    "    ''' initialize epsilon '''\n",
    "    \n",
    "    for i_episode in range(1, n_episodes+1):\n",
    "        state = env.reset()\n",
    "        score = 0\n",
    "        step=0\n",
    "        for t in range(max_t):\n",
    "            action=None\n",
    "            if(method=='epsilon'):\n",
    "              action = agent.actWithEpsilon(state, eps)\n",
    "            else:\n",
    "              action = agent.actWithSoftMax(state, temperature)\n",
    "            next_state, reward, done, _ = env.step(action)\n",
    "            agent.step(state, action, reward, next_state, done)\n",
    "            state = next_state\n",
    "            score += reward\n",
    "            if done:\n",
    "                step=t\n",
    "                break \n",
    "\n",
    "        scores_window.append(score)  \n",
    "        steps.append(step)\n",
    "        scores_window_printing.append(score)   \n",
    "        ''' save most recent score '''           \n",
    "\n",
    "        eps = max(eps_end, eps_decay*eps) \n",
    "        #use exponential decay to reduce temperature\n",
    "        if(temp_decay>0):\n",
    "          temperature=max(temp_end,temp_decay*temperature  )\n",
    "        ''' decrease epsilon '''\n",
    "        if(isprint):\n",
    "          print('\\rEpisode {}\\tAverage Score: {:.2f}'.format(i_episode, np.mean(scores_window)), end=\"\")  \n",
    "        if i_episode % 10 == 0: \n",
    "            scores.append(np.mean(scores_window_printing))        \n",
    "        if i_episode % 100 == 0:\n",
    "           if(wandbLog): \n",
    "              wandb.log({'reward':  np.mean(scores_window),'step': i_episode})\n",
    "           if(isprint):\n",
    "              print('\\rEpisode {}\\tAverage Score: {:.2f}'.format(i_episode, np.mean(scores_window)))\n",
    "        if np.mean(scores_window)>=scoreThreshold:\n",
    "          if(isprint):\n",
    "              print('\\nEnvironment solved in {:d} episodes!\\tAverage Score: {:.2f}'\\\n",
    "                 .format(i_episode-100, np.mean(scores_window)))\n",
    "              break\n",
    "    return [np.array(scores),i_episode-100],np.array(scores_window),np.array(steps)\n",
    "\n",
    "''' Trial run to check if algorithm runs and saves the data '''\n",
    "\n"
   ]
  },
  {
   "cell_type": "code",
   "execution_count": 19,
   "metadata": {
    "id": "3vs0-C27fc4l"
   },
   "outputs": [],
   "source": [
    "import warnings\n",
    "warnings.filterwarnings(\"ignore\")"
   ]
  },
  {
   "cell_type": "markdown",
   "metadata": {
    "id": "TU53J6rt36ns"
   },
   "source": [
    "# CartPole-v1"
   ]
  },
  {
   "cell_type": "code",
   "execution_count": 20,
   "metadata": {
    "id": "vJUjn_FB36nt"
   },
   "outputs": [
    {
     "name": "stdout",
     "output_type": "stream",
     "text": [
      "4\n",
      "2\n",
      "1\n",
      "----\n",
      "[-0.04456399  0.04653909  0.01326909 -0.02099827]\n",
      "----\n",
      "1\n",
      "----\n",
      "[-0.04363321  0.24146826  0.01284913 -0.30946528]\n",
      "1.0\n",
      "False\n",
      "{}\n",
      "----\n"
     ]
    }
   ],
   "source": [
    "'''\n",
    "Please refer to the first tutorial for more details on the specifics of environments\n",
    "We've only added important commands you might find useful for experiments.\n",
    "'''\n",
    "\n",
    "'''\n",
    "List of example environments\n",
    "(Source - https://gym.openai.com/envs/#classic_control)\n",
    "\n",
    "'Acrobot-v1'\n",
    "'CartPole-v1'\n",
    "'MountainCar-v0'\n",
    "'''\n",
    "\n",
    "env = gym.make('CartPole-v1')\n",
    "env.seed(0)\n",
    "\n",
    "state_shape = env.observation_space.shape[0]\n",
    "no_of_actions = env.action_space.n\n",
    "\n",
    "print(state_shape)\n",
    "print(no_of_actions)\n",
    "print(env.action_space.sample())\n",
    "print(\"----\")\n",
    "\n",
    "state = env.reset()   \n",
    "''' This returns the initial state (when environment is reset) '''\n",
    "\n",
    "print(state)\n",
    "print(\"----\")\n",
    "\n",
    "action = env.action_space.sample()  \n",
    "''' We take a random action now '''\n",
    "\n",
    "print(action)\n",
    "print(\"----\")\n",
    "\n",
    "next_state, reward, done, info = env.step(action) \n",
    "''' env.step is used to calculate new state and obtain reward based on old state and action taken  ''' \n",
    "\n",
    "print(next_state)\n",
    "print(reward)\n",
    "print(done)\n",
    "print(info)\n",
    "print(\"----\")\n",
    "state_shape = env.observation_space.shape[0]\n",
    "action_shape = env.action_space.n"
   ]
  },
  {
   "cell_type": "markdown",
   "metadata": {},
   "source": [
    "### CartPole-v0 : Sweep configuration with Epsilon"
   ]
  },
  {
   "attachments": {
    "eps.jpg": {
     "image/jpeg": "[encoded data removed]"
    }
   },
   "cell_type": "markdown",
   "metadata": {},
   "source": [
    "![eps.jpg](attachment:eps.jpg)"
   ]
  },
  {
   "cell_type": "code",
   "execution_count": 9,
   "metadata": {
    "id": "W8EgE-yVIEQb"
   },
   "outputs": [],
   "source": [
    "\n",
    "\n",
    "sweep_config = {\n",
    "  \"name\": \"DQN\",\n",
    "  \"method\": \"bayes\",\n",
    "  \"metric\": {\n",
    "      \"name\": \"reward\",\n",
    "      \"goal\": \"maximize\",\n",
    "  },\n",
    "  \"parameters\": {\n",
    "        \"buffer_size\": {\n",
    "            \"values\": [int(1e5)]\n",
    "        },\n",
    "        \n",
    "        \"batch_size\": {\n",
    "            \"values\": [64]\n",
    "        },\n",
    "        \"n_episodes\":{\n",
    "            \"values\": [2000]\n",
    "        },\n",
    "        \"method\": {\n",
    "            \"values\": ['epsilon']\n",
    "        },\n",
    "        \"gamma\": {\n",
    "            \"values\": [0.9,  0.5]\n",
    "        },\n",
    "        \"LR\": {\n",
    "            \"values\": [0.01, 0.001,.0001]\n",
    "        },\n",
    "         \"eps_decay\": {\n",
    "            \"values\": [0.1, 0.2]\n",
    "        },\n",
    "        \n",
    "        \"fc1_units\": {\n",
    "            \"values\": [64]\n",
    "        },\n",
    "        \"fc2_units\": {\n",
    "            \"values\": [64,128]\n",
    "        },\n",
    "        \n",
    "        \"optimizer\": {\n",
    "            \"values\": ['adam']\n",
    "        },\n",
    "    }\n",
    "}\n",
    "\n",
    "\n",
    "\n"
   ]
  },
  {
   "cell_type": "code",
   "execution_count": 10,
   "metadata": {
    "id": "owPwLI_iIGlU"
   },
   "outputs": [],
   "source": [
    "def trainCartPoleEps():\n",
    "    \n",
    "    # Initialize a new wandb run\n",
    "    run = wandb.init()\n",
    "\n",
    "    # Config is a variable that holds and saves hyperparameters and inputs\n",
    "    config = wandb.config\n",
    "\n",
    "    # Set the run name\n",
    "    name = str(config[\"n_episodes\"]) + \"_\"\n",
    "    name += \" batch_size(\" + str(config[\"batch_size\"]) + \")_\"\n",
    "    name += \"method(\" + str(config[\"method\"])+ \")_\"\n",
    "    name += \"LR(\" + str(config[\"LR\"])+ \")_\"\n",
    "    name += \"gamma(\" + str(config[\"gamma\"]) + \")_\"\n",
    "    name += \"fc1_units(\" + str(config[\"fc1_units\"]) + \")_\"\n",
    "    name += \"fc2_units(\" + str(config[\"fc2_units\"]) + \")_\"\n",
    "    name += \"optimizer(\" + str(config[\"optimizer\"]) + \")_\"\n",
    "    name += \"eps_decay(\" + str(config[\"eps_decay\"]) + \")\"\n",
    "    \n",
    "\n",
    "    wandb.run.name = name[:-1]\n",
    "    agent = Agent(state_size=state_shape,action_size = action_shape,seed = 0,\\\n",
    "             fc1_units= config[\"fc1_units\"], fc2_units= config[\"fc2_units\"],optimizer= config[\"optimizer\"],momentum_decay=0.99)\n",
    "    detailsAcrobotSoftmax1=dqn(agent=agent,n_episodes=config[\"n_episodes\"],method='epsilon',\\\n",
    "                    buffer_size = config[\"buffer_size\"] ,eps_decay=config[\"eps_decay\"],\\\n",
    "                    batch_size = config[\"batch_size\"] ,gamma =  config[\"gamma\"],\\\n",
    "                    LR =  config[\"LR\"],update_every = 20,\\\n",
    "                    scoreThreshold=190,wandbLog=True)\n",
    "    \n",
    "    rew = np.mean(np.average(detailsAcrobotSoftmax1[0], 0))\n",
    "    wandb.log({'reward': rew })\n",
    "    #wandb.log({'Value Function': wandb.plots.HeatMap(list(range(10)), list(range(10)), Q.copy())})"
   ]
  },
  {
   "cell_type": "code",
   "execution_count": null,
   "metadata": {
    "colab": {
     "base_uri": "https://localhost:8080/",
     "height": 1000,
     "referenced_widgets": [
      "68bb657010054009af0c7c050c4584d1",
      "808a86178cdc4e4d8be8c95fac231cfd",
      "d0339c3d501246ce92d884c6b62ebc03",
      "ea5e89bdada04fa3adf73ae9b2f087a8",
      "a4e3948c9b1a48ab855febc0151bdb4a",
      "b2215e20ca584563aa33846d31f033f9",
      "78e515af5b4049adb8b52c25165dd405",
      "687383d1642346138c1d1072586ed6c5",
      "f4187d6c2d6445a4ace9716b28db3803",
      "e7063694cb4345198f236784a39bb3c4",
      "3a2e87a17c9d47f29098c6c5dcaa69c1",
      "08db809a4b3e46d7b8428cba0dcaaf57",
      "d0b9efad226e4431968a8f066110c9ad",
      "f0f52a2393f74c978e7d5b91ee749580",
      "5e6e724f67f148ccaa260975e58c2def",
      "4b7b81d2a00845f19442728bee3ec1ee",
      "9e7a6b993cd44545b232712c08021d14",
      "7d53800ffefe49cd954f072245281c1f"
     ]
    },
    "id": "7g_cC8-NIMcv",
    "outputId": "9deed086-527c-425a-b76e-80ce7ef82aca"
   },
   "outputs": [
    {
     "name": "stderr",
     "output_type": "stream",
     "text": [
      "Failed to detect the name of this notebook, you can set it manually with the WANDB_NOTEBOOK_NAME environment variable to enable code saving.\n"
     ]
    },
    {
     "name": "stdout",
     "output_type": "stream",
     "text": [
      "Create sweep with ID: ae1bfrvt\n",
      "Sweep URL: https://wandb.ai/kankan-jana/RL_Assignment2/sweeps/ae1bfrvt\n"
     ]
    },
    {
     "name": "stderr",
     "output_type": "stream",
     "text": [
      "\u001b[34m\u001b[1mwandb\u001b[0m: Agent Starting Run: 4h5owicm with config:\n",
      "\u001b[34m\u001b[1mwandb\u001b[0m: \tLR: 0.001\n",
      "\u001b[34m\u001b[1mwandb\u001b[0m: \tbatch_size: 64\n",
      "\u001b[34m\u001b[1mwandb\u001b[0m: \tbuffer_size: 100000\n",
      "\u001b[34m\u001b[1mwandb\u001b[0m: \teps_decay: 0.2\n",
      "\u001b[34m\u001b[1mwandb\u001b[0m: \tfc1_units: 64\n",
      "\u001b[34m\u001b[1mwandb\u001b[0m: \tfc2_units: 64\n",
      "\u001b[34m\u001b[1mwandb\u001b[0m: \tgamma: 0.9\n",
      "\u001b[34m\u001b[1mwandb\u001b[0m: \tmethod: epsilon\n",
      "\u001b[34m\u001b[1mwandb\u001b[0m: \tn_episodes: 2000\n",
      "\u001b[34m\u001b[1mwandb\u001b[0m: \toptimizer: adam\n",
      "Failed to detect the name of this notebook, you can set it manually with the WANDB_NOTEBOOK_NAME environment variable to enable code saving.\n",
      "\u001b[34m\u001b[1mwandb\u001b[0m: Currently logged in as: \u001b[33mkankan-jana\u001b[0m (use `wandb login --relogin` to force relogin)\n",
      "\u001b[34m\u001b[1mwandb\u001b[0m: wandb version 0.12.11 is available!  To upgrade, please run:\n",
      "\u001b[34m\u001b[1mwandb\u001b[0m:  $ pip install wandb --upgrade\n"
     ]
    },
    {
     "data": {
      "text/html": [
       "\n",
       "                    Syncing run <strong><a href=\"https://wandb.ai/kankan-jana/RL_Assignment2/runs/4h5owicm\" target=\"_blank\">cool-sweep-1</a></strong> to <a href=\"https://wandb.ai/kankan-jana/RL_Assignment2\" target=\"_blank\">Weights & Biases</a> (<a href=\"https://docs.wandb.com/integrations/jupyter.html\" target=\"_blank\">docs</a>).<br/>\n",
       "Sweep page: <a href=\"https://wandb.ai/kankan-jana/RL_Assignment2/sweeps/ae1bfrvt\" target=\"_blank\">https://wandb.ai/kankan-jana/RL_Assignment2/sweeps/ae1bfrvt</a><br/>\n",
       "\n",
       "                "
      ],
      "text/plain": [
       "<IPython.core.display.HTML object>"
      ]
     },
     "metadata": {},
     "output_type": "display_data"
    },
    {
     "name": "stdout",
     "output_type": "stream",
     "text": [
      "Episode 100\tAverage Score: 28.79\n",
      "Episode 109\tAverage Score: 42.07"
     ]
    }
   ],
   "source": [
    "sweep_id = wandb.sweep(sweep_config, entity=\"kankan-jana\", project=\"RL_Assignment2\")\n",
    "wandb.agent(sweep_id, trainCartPoleEps)"
   ]
  },
  {
   "cell_type": "markdown",
   "metadata": {},
   "source": [
    "### CartPole-v0 : Sweep configuration with Softmax"
   ]
  },
  {
   "attachments": {
    "softmax2.jpg": {
     "image/jpeg": "[encoded data removed]"
    }
   },
   "cell_type": "markdown",
   "metadata": {},
   "source": [
    "![softmax2.jpg](attachment:softmax2.jpg)"
   ]
  },
  {
   "cell_type": "code",
   "execution_count": 25,
   "metadata": {
    "id": "WxPxuFTAm3X9"
   },
   "outputs": [],
   "source": [
    "\n",
    "\n",
    "sweep_config = {\n",
    "  \"name\": \"DQN\",\n",
    "  \"method\": \"bayes\",\n",
    "  \"metric\": {\n",
    "      \"name\": \"reward\",\n",
    "      \"goal\": \"maximize\",\n",
    "  },\n",
    "  \"parameters\": {\n",
    "        \"buffer_size\": {\n",
    "            \"values\": [int(1e5)]\n",
    "        },\n",
    "        \n",
    "        \"batch_size\": {\n",
    "            \"values\": [64]\n",
    "        },\n",
    "        \"n_episodes\":{\n",
    "            \"values\": [500]\n",
    "        },\n",
    "        \"method\": {\n",
    "            \"values\": ['softmax']\n",
    "        },\n",
    "        \"gamma\": {\n",
    "            \"values\": [0.99,.5]\n",
    "        },\n",
    "        \"LR\": {\n",
    "            \"values\": [.0001]\n",
    "        },\n",
    "         \"temperature\": {\n",
    "            \"values\": [0.001, 0.9]\n",
    "        },\n",
    "        \n",
    "        \"fc1_units\": {\n",
    "            \"values\": [64,128]\n",
    "        },\n",
    "        \"fc2_units\": {\n",
    "            \"values\": [64,128]\n",
    "        },\n",
    "        \n",
    "        \"optimizer\": {\n",
    "            \"values\": ['adam']\n",
    "        },\n",
    "    }\n",
    "}\n",
    "\n",
    "\n",
    "\n"
   ]
  },
  {
   "cell_type": "code",
   "execution_count": 28,
   "metadata": {
    "id": "Y7WOTIgSnIWF"
   },
   "outputs": [],
   "source": [
    "def trainCartPoleSoftmax():\n",
    "    \n",
    "    # Initialize a new wandb run\n",
    "    run = wandb.init()\n",
    "\n",
    "    # Config is a variable that holds and saves hyperparameters and inputs\n",
    "    config = wandb.config\n",
    "\n",
    "    # Set the run name\n",
    "    name = str(config[\"n_episodes\"]) + \"_cartpole_\"\n",
    "    name += \" batch_size(\" + str(config[\"batch_size\"]) + \")_\"\n",
    "    name += \"method(\" + str(config[\"method\"])+ \")_\"\n",
    "    name += \"LR(\" + str(config[\"LR\"])+ \")_\"\n",
    "    name += \"gamma(\" + str(config[\"gamma\"]) + \")_\"\n",
    "    name += \"fc1_units(\" + str(config[\"fc1_units\"]) + \")_\"\n",
    "    name += \"fc2_units(\" + str(config[\"fc2_units\"]) + \")_\"\n",
    "    name += \"optimizer(\" + str(config[\"optimizer\"]) + \")_\"\n",
    "    name += \"temperature(\" + str(config[\"temperature\"]) + \")\"\n",
    "    \n",
    "\n",
    "    wandb.run.name = name[:-1]\n",
    "    agent = Agent(state_size=state_shape,action_size = action_shape,seed = 0,\\\n",
    "             fc1_units= config[\"fc1_units\"], fc2_units= config[\"fc2_units\"],optimizer= config[\"optimizer\"],momentum_decay=0.99)\n",
    "    detailsAcrobotSoftmax1=dqn(agent=agent,n_episodes=config[\"n_episodes\"],method='epsilon',\\\n",
    "                    buffer_size = config[\"buffer_size\"] ,temperature=config[\"temperature\"],\\\n",
    "                    batch_size = config[\"batch_size\"] ,gamma =  config[\"gamma\"],\\\n",
    "                    LR =  config[\"LR\"],update_every = 20,\\\n",
    "                    scoreThreshold=env.spec.reward_threshold,wandbLog=True)\n",
    "    \n",
    "    rew = np.mean(np.average(detailsAcrobotSoftmax1[0], 0))\n",
    "    wandb.log({'reward': rew })\n",
    "    #wandb.log({'Value Function': wandb.plots.HeatMap(list(range(10)), list(range(10)), Q.copy())})"
   ]
  },
  {
   "cell_type": "code",
   "execution_count": null,
   "metadata": {
    "colab": {
     "base_uri": "https://localhost:8080/",
     "height": 1000,
     "referenced_widgets": [
      "f3cc77039e834a8fa882639c91a5a4e9",
      "30c9133a3586464e82047b736b7b3d1c",
      "bd011250f45f420cb07c4e2360f52107",
      "a57acbed0b4740c5b8a1cdb037c2bddd",
      "ab3e53c8e538412dbffd9f3c9be8830a",
      "53db5299f90b4f20a60e578a67bed408",
      "499fd189cceb40559f751b2d3d8a0701",
      "f555215500014b2fad7fbf7f5e2c3b79",
      "159b269ff83d4432879db8b418ce94cd",
      "96d1f1f8c3b64152857f72ecdc6e867d",
      "9e973e5ea15445c29a6bb570a1cd4166",
      "4a58ac47cb304f4c9080cc19be3a119a",
      "696b83350bb3467c9b129fdb481c456d",
      "858a0fa6402c45d6bbe08833079e938a",
      "bba4bdb7721943bd9f19a567e23951c4",
      "5fb809ad1c974e3498f2fb6fb1b42977",
      "b5fab22d19d349559214b9cd2c4a4cdf",
      "5a19b36b89cb4d68867bf85a4e2330f4",
      "826b8eb9d9b4419f86faa815d4fe4ba8",
      "108b3d419e1e492383194a1c18ba931b",
      "f255dc5684914a1c9cfc14a6a30f5c99",
      "fc1d41dd94fb4684a07987823c28418f",
      "576ba77b59c34db3b315f009f5ed3bb4",
      "4992fff238014da28ea2394fa79c331e",
      "738f7f693503405d9ca5c01e24e32804",
      "42908b86a68b47a389d65e8031bdeb5a"
     ]
    },
    "id": "1K_EXJLenbXb",
    "outputId": "53274529-327e-48ec-954b-d94008b8d272"
   },
   "outputs": [
    {
     "name": "stdout",
     "output_type": "stream",
     "text": [
      "Create sweep with ID: 13vjeuy9\n",
      "Sweep URL: https://wandb.ai/kankan-jana/RL_Assignment2/sweeps/13vjeuy9\n"
     ]
    },
    {
     "name": "stderr",
     "output_type": "stream",
     "text": [
      "\u001b[34m\u001b[1mwandb\u001b[0m: Agent Starting Run: ux7r970c with config:\n",
      "\u001b[34m\u001b[1mwandb\u001b[0m: \tLR: 0.0001\n",
      "\u001b[34m\u001b[1mwandb\u001b[0m: \tbatch_size: 64\n",
      "\u001b[34m\u001b[1mwandb\u001b[0m: \tbuffer_size: 100000\n",
      "\u001b[34m\u001b[1mwandb\u001b[0m: \tfc1_units: 64\n",
      "\u001b[34m\u001b[1mwandb\u001b[0m: \tfc2_units: 64\n",
      "\u001b[34m\u001b[1mwandb\u001b[0m: \tgamma: 0.99\n",
      "\u001b[34m\u001b[1mwandb\u001b[0m: \tmethod: softmax\n",
      "\u001b[34m\u001b[1mwandb\u001b[0m: \tn_episodes: 500\n",
      "\u001b[34m\u001b[1mwandb\u001b[0m: \toptimizer: adam\n",
      "\u001b[34m\u001b[1mwandb\u001b[0m: \ttemperature: 0.9\n",
      "Failed to detect the name of this notebook, you can set it manually with the WANDB_NOTEBOOK_NAME environment variable to enable code saving.\n",
      "\u001b[34m\u001b[1mwandb\u001b[0m: wandb version 0.12.11 is available!  To upgrade, please run:\n",
      "\u001b[34m\u001b[1mwandb\u001b[0m:  $ pip install wandb --upgrade\n"
     ]
    },
    {
     "data": {
      "text/html": [
       "\n",
       "                    Syncing run <strong><a href=\"https://wandb.ai/kankan-jana/RL_Assignment2/runs/ux7r970c\" target=\"_blank\">magic-sweep-1</a></strong> to <a href=\"https://wandb.ai/kankan-jana/RL_Assignment2\" target=\"_blank\">Weights & Biases</a> (<a href=\"https://docs.wandb.com/integrations/jupyter.html\" target=\"_blank\">docs</a>).<br/>\n",
       "Sweep page: <a href=\"https://wandb.ai/kankan-jana/RL_Assignment2/sweeps/13vjeuy9\" target=\"_blank\">https://wandb.ai/kankan-jana/RL_Assignment2/sweeps/13vjeuy9</a><br/>\n",
       "\n",
       "                "
      ],
      "text/plain": [
       "<IPython.core.display.HTML object>"
      ]
     },
     "metadata": {},
     "output_type": "display_data"
    },
    {
     "name": "stdout",
     "output_type": "stream",
     "text": [
      "Episode 100\tAverage Score: 39.18\n",
      "Episode 200\tAverage Score: 114.10\n",
      "Episode 300\tAverage Score: 55.543\n",
      "Episode 400\tAverage Score: 239.54\n",
      "Episode 500\tAverage Score: 16.855\n"
     ]
    },
    {
     "data": {
      "text/html": [
       "<br/>Waiting for W&B process to finish, PID 20244... <strong style=\"color:green\">(success).</strong>"
      ],
      "text/plain": [
       "<IPython.core.display.HTML object>"
      ]
     },
     "metadata": {},
     "output_type": "display_data"
    },
    {
     "data": {
      "application/vnd.jupyter.widget-view+json": {
       "model_id": "",
       "version_major": 2,
       "version_minor": 0
      },
      "text/plain": [
       "VBox(children=(Label(value=' 0.00MB of 0.00MB uploaded (0.00MB deduped)\\r'), FloatProgress(value=1.0, max=1.0)…"
      ]
     },
     "metadata": {},
     "output_type": "display_data"
    },
    {
     "data": {
      "text/html": [
       "<style>\n",
       "    table.wandb td:nth-child(1) { padding: 0 10px; text-align: right }\n",
       "    .wandb-row { display: flex; flex-direction: row; flex-wrap: wrap; width: 100% }\n",
       "    .wandb-col { display: flex; flex-direction: column; flex-basis: 100%; flex: 1; padding: 10px; }\n",
       "    </style>\n",
       "<div class=\"wandb-row\"><div class=\"wandb-col\">\n",
       "<h3>Run history:</h3><br/><table class=\"wandb\"><tr><td>reward</td><td>▂▄▂█▁█</td></tr><tr><td>step</td><td>▁▃▅▆█</td></tr></table><br/></div><div class=\"wandb-col\">\n",
       "<h3>Run summary:</h3><br/><table class=\"wandb\"><tr><td>reward</td><td>246.521</td></tr><tr><td>step</td><td>500</td></tr></table>\n",
       "</div></div>\n",
       "Synced 5 W&B file(s), 0 media file(s), 0 artifact file(s) and 1 other file(s)\n",
       "<br/>Synced <strong style=\"color:#cdcd00\">magic-sweep-1</strong>: <a href=\"https://wandb.ai/kankan-jana/RL_Assignment2/runs/ux7r970c\" target=\"_blank\">https://wandb.ai/kankan-jana/RL_Assignment2/runs/ux7r970c</a><br/>\n",
       "Find logs at: <code>.\\wandb\\run-20220330_132100-ux7r970c\\logs</code><br/>\n"
      ],
      "text/plain": [
       "<IPython.core.display.HTML object>"
      ]
     },
     "metadata": {},
     "output_type": "display_data"
    },
    {
     "name": "stderr",
     "output_type": "stream",
     "text": [
      "\u001b[34m\u001b[1mwandb\u001b[0m: Agent Starting Run: drmbotzy with config:\n",
      "\u001b[34m\u001b[1mwandb\u001b[0m: \tLR: 0.0001\n",
      "\u001b[34m\u001b[1mwandb\u001b[0m: \tbatch_size: 64\n",
      "\u001b[34m\u001b[1mwandb\u001b[0m: \tbuffer_size: 100000\n",
      "\u001b[34m\u001b[1mwandb\u001b[0m: \tfc1_units: 128\n",
      "\u001b[34m\u001b[1mwandb\u001b[0m: \tfc2_units: 64\n",
      "\u001b[34m\u001b[1mwandb\u001b[0m: \tgamma: 0.5\n",
      "\u001b[34m\u001b[1mwandb\u001b[0m: \tmethod: softmax\n",
      "\u001b[34m\u001b[1mwandb\u001b[0m: \tn_episodes: 500\n",
      "\u001b[34m\u001b[1mwandb\u001b[0m: \toptimizer: adam\n",
      "\u001b[34m\u001b[1mwandb\u001b[0m: \ttemperature: 0.001\n",
      "Failed to detect the name of this notebook, you can set it manually with the WANDB_NOTEBOOK_NAME environment variable to enable code saving.\n"
     ]
    },
    {
     "data": {
      "text/html": [
       "\n",
       "                    Syncing run <strong><a href=\"https://wandb.ai/kankan-jana/RL_Assignment2/runs/drmbotzy\" target=\"_blank\">colorful-sweep-2</a></strong> to <a href=\"https://wandb.ai/kankan-jana/RL_Assignment2\" target=\"_blank\">Weights & Biases</a> (<a href=\"https://docs.wandb.com/integrations/jupyter.html\" target=\"_blank\">docs</a>).<br/>\n",
       "Sweep page: <a href=\"https://wandb.ai/kankan-jana/RL_Assignment2/sweeps/13vjeuy9\" target=\"_blank\">https://wandb.ai/kankan-jana/RL_Assignment2/sweeps/13vjeuy9</a><br/>\n",
       "\n",
       "                "
      ],
      "text/plain": [
       "<IPython.core.display.HTML object>"
      ]
     },
     "metadata": {},
     "output_type": "display_data"
    },
    {
     "name": "stdout",
     "output_type": "stream",
     "text": [
      "Episode 100\tAverage Score: 40.79\n",
      "Episode 200\tAverage Score: 142.62\n",
      "Episode 300\tAverage Score: 85.237\n",
      "Episode 400\tAverage Score: 47.82\n",
      "Episode 500\tAverage Score: 57.70\n"
     ]
    },
    {
     "data": {
      "text/html": [
       "<br/>Waiting for W&B process to finish, PID 2084... <strong style=\"color:green\">(success).</strong>"
      ],
      "text/plain": [
       "<IPython.core.display.HTML object>"
      ]
     },
     "metadata": {},
     "output_type": "display_data"
    },
    {
     "data": {
      "application/vnd.jupyter.widget-view+json": {
       "model_id": "",
       "version_major": 2,
       "version_minor": 0
      },
      "text/plain": [
       "VBox(children=(Label(value=' 0.00MB of 0.00MB uploaded (0.00MB deduped)\\r'), FloatProgress(value=1.0, max=1.0)…"
      ]
     },
     "metadata": {},
     "output_type": "display_data"
    },
    {
     "data": {
      "text/html": [
       "<style>\n",
       "    table.wandb td:nth-child(1) { padding: 0 10px; text-align: right }\n",
       "    .wandb-row { display: flex; flex-direction: row; flex-wrap: wrap; width: 100% }\n",
       "    .wandb-col { display: flex; flex-direction: column; flex-basis: 100%; flex: 1; padding: 10px; }\n",
       "    </style>\n",
       "<div class=\"wandb-row\"><div class=\"wandb-col\">\n",
       "<h3>Run history:</h3><br/><table class=\"wandb\"><tr><td>reward</td><td>▁▅▃▁▂█</td></tr><tr><td>step</td><td>▁▃▅▆█</td></tr></table><br/></div><div class=\"wandb-col\">\n",
       "<h3>Run summary:</h3><br/><table class=\"wandb\"><tr><td>reward</td><td>237.416</td></tr><tr><td>step</td><td>500</td></tr></table>\n",
       "</div></div>\n",
       "Synced 5 W&B file(s), 0 media file(s), 0 artifact file(s) and 1 other file(s)\n",
       "<br/>Synced <strong style=\"color:#cdcd00\">colorful-sweep-2</strong>: <a href=\"https://wandb.ai/kankan-jana/RL_Assignment2/runs/drmbotzy\" target=\"_blank\">https://wandb.ai/kankan-jana/RL_Assignment2/runs/drmbotzy</a><br/>\n",
       "Find logs at: <code>.\\wandb\\run-20220330_133824-drmbotzy\\logs</code><br/>\n"
      ],
      "text/plain": [
       "<IPython.core.display.HTML object>"
      ]
     },
     "metadata": {},
     "output_type": "display_data"
    },
    {
     "name": "stderr",
     "output_type": "stream",
     "text": [
      "\u001b[34m\u001b[1mwandb\u001b[0m: Sweep Agent: Waiting for job.\n",
      "\u001b[34m\u001b[1mwandb\u001b[0m: Job received.\n",
      "\u001b[34m\u001b[1mwandb\u001b[0m: Agent Starting Run: hr7tafqc with config:\n",
      "\u001b[34m\u001b[1mwandb\u001b[0m: \tLR: 0.0001\n",
      "\u001b[34m\u001b[1mwandb\u001b[0m: \tbatch_size: 64\n",
      "\u001b[34m\u001b[1mwandb\u001b[0m: \tbuffer_size: 100000\n",
      "\u001b[34m\u001b[1mwandb\u001b[0m: \tfc1_units: 64\n",
      "\u001b[34m\u001b[1mwandb\u001b[0m: \tfc2_units: 128\n",
      "\u001b[34m\u001b[1mwandb\u001b[0m: \tgamma: 0.5\n",
      "\u001b[34m\u001b[1mwandb\u001b[0m: \tmethod: softmax\n",
      "\u001b[34m\u001b[1mwandb\u001b[0m: \tn_episodes: 500\n",
      "\u001b[34m\u001b[1mwandb\u001b[0m: \toptimizer: adam\n",
      "\u001b[34m\u001b[1mwandb\u001b[0m: \ttemperature: 0.9\n",
      "Failed to detect the name of this notebook, you can set it manually with the WANDB_NOTEBOOK_NAME environment variable to enable code saving.\n"
     ]
    },
    {
     "data": {
      "text/html": [
       "\n",
       "                    Syncing run <strong><a href=\"https://wandb.ai/kankan-jana/RL_Assignment2/runs/hr7tafqc\" target=\"_blank\">deft-sweep-3</a></strong> to <a href=\"https://wandb.ai/kankan-jana/RL_Assignment2\" target=\"_blank\">Weights & Biases</a> (<a href=\"https://docs.wandb.com/integrations/jupyter.html\" target=\"_blank\">docs</a>).<br/>\n",
       "Sweep page: <a href=\"https://wandb.ai/kankan-jana/RL_Assignment2/sweeps/13vjeuy9\" target=\"_blank\">https://wandb.ai/kankan-jana/RL_Assignment2/sweeps/13vjeuy9</a><br/>\n",
       "\n",
       "                "
      ],
      "text/plain": [
       "<IPython.core.display.HTML object>"
      ]
     },
     "metadata": {},
     "output_type": "display_data"
    },
    {
     "name": "stdout",
     "output_type": "stream",
     "text": [
      "Episode 100\tAverage Score: 48.70\n",
      "Episode 200\tAverage Score: 124.79\n",
      "Episode 300\tAverage Score: 54.229\n",
      "Episode 400\tAverage Score: 10.54\n",
      "Episode 500\tAverage Score: 78.36\n"
     ]
    },
    {
     "data": {
      "text/html": [
       "<br/>Waiting for W&B process to finish, PID 6792... <strong style=\"color:green\">(success).</strong>"
      ],
      "text/plain": [
       "<IPython.core.display.HTML object>"
      ]
     },
     "metadata": {},
     "output_type": "display_data"
    },
    {
     "data": {
      "application/vnd.jupyter.widget-view+json": {
       "model_id": "",
       "version_major": 2,
       "version_minor": 0
      },
      "text/plain": [
       "VBox(children=(Label(value=' 0.00MB of 0.00MB uploaded (0.00MB deduped)\\r'), FloatProgress(value=1.0, max=1.0)…"
      ]
     },
     "metadata": {},
     "output_type": "display_data"
    },
    {
     "data": {
      "text/html": [
       "<style>\n",
       "    table.wandb td:nth-child(1) { padding: 0 10px; text-align: right }\n",
       "    .wandb-row { display: flex; flex-direction: row; flex-wrap: wrap; width: 100% }\n",
       "    .wandb-col { display: flex; flex-direction: column; flex-basis: 100%; flex: 1; padding: 10px; }\n",
       "    </style>\n",
       "<div class=\"wandb-row\"><div class=\"wandb-col\">\n",
       "<h3>Run history:</h3><br/><table class=\"wandb\"><tr><td>reward</td><td>▂▅▂▁▃█</td></tr><tr><td>step</td><td>▁▃▅▆█</td></tr></table><br/></div><div class=\"wandb-col\">\n",
       "<h3>Run summary:</h3><br/><table class=\"wandb\"><tr><td>reward</td><td>231.661</td></tr><tr><td>step</td><td>500</td></tr></table>\n",
       "</div></div>\n",
       "Synced 5 W&B file(s), 0 media file(s), 0 artifact file(s) and 1 other file(s)\n",
       "<br/>Synced <strong style=\"color:#cdcd00\">deft-sweep-3</strong>: <a href=\"https://wandb.ai/kankan-jana/RL_Assignment2/runs/hr7tafqc\" target=\"_blank\">https://wandb.ai/kankan-jana/RL_Assignment2/runs/hr7tafqc</a><br/>\n",
       "Find logs at: <code>.\\wandb\\run-20220330_135251-hr7tafqc\\logs</code><br/>\n"
      ],
      "text/plain": [
       "<IPython.core.display.HTML object>"
      ]
     },
     "metadata": {},
     "output_type": "display_data"
    },
    {
     "name": "stderr",
     "output_type": "stream",
     "text": [
      "\u001b[34m\u001b[1mwandb\u001b[0m: Sweep Agent: Waiting for job.\n",
      "\u001b[34m\u001b[1mwandb\u001b[0m: Job received.\n",
      "\u001b[34m\u001b[1mwandb\u001b[0m: Agent Starting Run: woyc2x3t with config:\n",
      "\u001b[34m\u001b[1mwandb\u001b[0m: \tLR: 0.0001\n",
      "\u001b[34m\u001b[1mwandb\u001b[0m: \tbatch_size: 64\n",
      "\u001b[34m\u001b[1mwandb\u001b[0m: \tbuffer_size: 100000\n",
      "\u001b[34m\u001b[1mwandb\u001b[0m: \tfc1_units: 64\n",
      "\u001b[34m\u001b[1mwandb\u001b[0m: \tfc2_units: 128\n",
      "\u001b[34m\u001b[1mwandb\u001b[0m: \tgamma: 0.5\n",
      "\u001b[34m\u001b[1mwandb\u001b[0m: \tmethod: softmax\n",
      "\u001b[34m\u001b[1mwandb\u001b[0m: \tn_episodes: 500\n",
      "\u001b[34m\u001b[1mwandb\u001b[0m: \toptimizer: adam\n",
      "\u001b[34m\u001b[1mwandb\u001b[0m: \ttemperature: 0.9\n",
      "Failed to detect the name of this notebook, you can set it manually with the WANDB_NOTEBOOK_NAME environment variable to enable code saving.\n"
     ]
    },
    {
     "data": {
      "text/html": [
       "\n",
       "                    Syncing run <strong><a href=\"https://wandb.ai/kankan-jana/RL_Assignment2/runs/woyc2x3t\" target=\"_blank\">solar-sweep-4</a></strong> to <a href=\"https://wandb.ai/kankan-jana/RL_Assignment2\" target=\"_blank\">Weights & Biases</a> (<a href=\"https://docs.wandb.com/integrations/jupyter.html\" target=\"_blank\">docs</a>).<br/>\n",
       "Sweep page: <a href=\"https://wandb.ai/kankan-jana/RL_Assignment2/sweeps/13vjeuy9\" target=\"_blank\">https://wandb.ai/kankan-jana/RL_Assignment2/sweeps/13vjeuy9</a><br/>\n",
       "\n",
       "                "
      ],
      "text/plain": [
       "<IPython.core.display.HTML object>"
      ]
     },
     "metadata": {},
     "output_type": "display_data"
    },
    {
     "name": "stdout",
     "output_type": "stream",
     "text": [
      "Episode 100\tAverage Score: 48.69\n",
      "Episode 200\tAverage Score: 113.21\n",
      "Episode 300\tAverage Score: 39.371\n",
      "Episode 400\tAverage Score: 127.95\n",
      "Episode 500\tAverage Score: 115.96\n"
     ]
    },
    {
     "data": {
      "text/html": [
       "<br/>Waiting for W&B process to finish, PID 12756... <strong style=\"color:green\">(success).</strong>"
      ],
      "text/plain": [
       "<IPython.core.display.HTML object>"
      ]
     },
     "metadata": {},
     "output_type": "display_data"
    },
    {
     "data": {
      "application/vnd.jupyter.widget-view+json": {
       "model_id": "",
       "version_major": 2,
       "version_minor": 0
      },
      "text/plain": [
       "VBox(children=(Label(value=' 0.00MB of 0.00MB uploaded (0.00MB deduped)\\r'), FloatProgress(value=1.0, max=1.0)…"
      ]
     },
     "metadata": {},
     "output_type": "display_data"
    },
    {
     "data": {
      "text/html": [
       "<style>\n",
       "    table.wandb td:nth-child(1) { padding: 0 10px; text-align: right }\n",
       "    .wandb-row { display: flex; flex-direction: row; flex-wrap: wrap; width: 100% }\n",
       "    .wandb-col { display: flex; flex-direction: column; flex-basis: 100%; flex: 1; padding: 10px; }\n",
       "    </style>\n",
       "<div class=\"wandb-row\"><div class=\"wandb-col\">\n",
       "<h3>Run history:</h3><br/><table class=\"wandb\"><tr><td>reward</td><td>▁▄▁▄▄█</td></tr><tr><td>step</td><td>▁▃▅▆█</td></tr></table><br/></div><div class=\"wandb-col\">\n",
       "<h3>Run summary:</h3><br/><table class=\"wandb\"><tr><td>reward</td><td>244.518</td></tr><tr><td>step</td><td>500</td></tr></table>\n",
       "</div></div>\n",
       "Synced 5 W&B file(s), 0 media file(s), 0 artifact file(s) and 1 other file(s)\n",
       "<br/>Synced <strong style=\"color:#cdcd00\">solar-sweep-4</strong>: <a href=\"https://wandb.ai/kankan-jana/RL_Assignment2/runs/woyc2x3t\" target=\"_blank\">https://wandb.ai/kankan-jana/RL_Assignment2/runs/woyc2x3t</a><br/>\n",
       "Find logs at: <code>.\\wandb\\run-20220330_140336-woyc2x3t\\logs</code><br/>\n"
      ],
      "text/plain": [
       "<IPython.core.display.HTML object>"
      ]
     },
     "metadata": {},
     "output_type": "display_data"
    },
    {
     "name": "stderr",
     "output_type": "stream",
     "text": [
      "\u001b[34m\u001b[1mwandb\u001b[0m: Agent Starting Run: 0n329c9q with config:\n",
      "\u001b[34m\u001b[1mwandb\u001b[0m: \tLR: 0.0001\n",
      "\u001b[34m\u001b[1mwandb\u001b[0m: \tbatch_size: 64\n",
      "\u001b[34m\u001b[1mwandb\u001b[0m: \tbuffer_size: 100000\n",
      "\u001b[34m\u001b[1mwandb\u001b[0m: \tfc1_units: 128\n",
      "\u001b[34m\u001b[1mwandb\u001b[0m: \tfc2_units: 64\n",
      "\u001b[34m\u001b[1mwandb\u001b[0m: \tgamma: 0.99\n",
      "\u001b[34m\u001b[1mwandb\u001b[0m: \tmethod: softmax\n",
      "\u001b[34m\u001b[1mwandb\u001b[0m: \tn_episodes: 500\n",
      "\u001b[34m\u001b[1mwandb\u001b[0m: \toptimizer: adam\n",
      "\u001b[34m\u001b[1mwandb\u001b[0m: \ttemperature: 0.9\n",
      "Failed to detect the name of this notebook, you can set it manually with the WANDB_NOTEBOOK_NAME environment variable to enable code saving.\n"
     ]
    },
    {
     "data": {
      "text/html": [
       "\n",
       "                    Syncing run <strong><a href=\"https://wandb.ai/kankan-jana/RL_Assignment2/runs/0n329c9q\" target=\"_blank\">dandy-sweep-5</a></strong> to <a href=\"https://wandb.ai/kankan-jana/RL_Assignment2\" target=\"_blank\">Weights & Biases</a> (<a href=\"https://docs.wandb.com/integrations/jupyter.html\" target=\"_blank\">docs</a>).<br/>\n",
       "Sweep page: <a href=\"https://wandb.ai/kankan-jana/RL_Assignment2/sweeps/13vjeuy9\" target=\"_blank\">https://wandb.ai/kankan-jana/RL_Assignment2/sweeps/13vjeuy9</a><br/>\n",
       "\n",
       "                "
      ],
      "text/plain": [
       "<IPython.core.display.HTML object>"
      ]
     },
     "metadata": {},
     "output_type": "display_data"
    },
    {
     "name": "stdout",
     "output_type": "stream",
     "text": [
      "Episode 100\tAverage Score: 38.12\n",
      "Episode 200\tAverage Score: 135.62\n",
      "Episode 300\tAverage Score: 131.56\n",
      "Episode 400\tAverage Score: 32.193\n",
      "Episode 500\tAverage Score: 16.33\n"
     ]
    },
    {
     "data": {
      "text/html": [
       "<br/>Waiting for W&B process to finish, PID 16068... <strong style=\"color:green\">(success).</strong>"
      ],
      "text/plain": [
       "<IPython.core.display.HTML object>"
      ]
     },
     "metadata": {},
     "output_type": "display_data"
    },
    {
     "data": {
      "application/vnd.jupyter.widget-view+json": {
       "model_id": "",
       "version_major": 2,
       "version_minor": 0
      },
      "text/plain": [
       "VBox(children=(Label(value=' 0.00MB of 0.00MB uploaded (0.00MB deduped)\\r'), FloatProgress(value=1.0, max=1.0)…"
      ]
     },
     "metadata": {},
     "output_type": "display_data"
    },
    {
     "data": {
      "text/html": [
       "<style>\n",
       "    table.wandb td:nth-child(1) { padding: 0 10px; text-align: right }\n",
       "    .wandb-row { display: flex; flex-direction: row; flex-wrap: wrap; width: 100% }\n",
       "    .wandb-col { display: flex; flex-direction: column; flex-basis: 100%; flex: 1; padding: 10px; }\n",
       "    </style>\n",
       "<div class=\"wandb-row\"><div class=\"wandb-col\">\n",
       "<h3>Run history:</h3><br/><table class=\"wandb\"><tr><td>reward</td><td>▂▅▅▂▁█</td></tr><tr><td>step</td><td>▁▃▅▆█</td></tr></table><br/></div><div class=\"wandb-col\">\n",
       "<h3>Run summary:</h3><br/><table class=\"wandb\"><tr><td>reward</td><td>235.382</td></tr><tr><td>step</td><td>500</td></tr></table>\n",
       "</div></div>\n",
       "Synced 5 W&B file(s), 0 media file(s), 0 artifact file(s) and 1 other file(s)\n",
       "<br/>Synced <strong style=\"color:#cdcd00\">dandy-sweep-5</strong>: <a href=\"https://wandb.ai/kankan-jana/RL_Assignment2/runs/0n329c9q\" target=\"_blank\">https://wandb.ai/kankan-jana/RL_Assignment2/runs/0n329c9q</a><br/>\n",
       "Find logs at: <code>.\\wandb\\run-20220330_142008-0n329c9q\\logs</code><br/>\n"
      ],
      "text/plain": [
       "<IPython.core.display.HTML object>"
      ]
     },
     "metadata": {},
     "output_type": "display_data"
    },
    {
     "name": "stderr",
     "output_type": "stream",
     "text": [
      "\u001b[34m\u001b[1mwandb\u001b[0m: Sweep Agent: Waiting for job.\n",
      "\u001b[34m\u001b[1mwandb\u001b[0m: Job received.\n",
      "\u001b[34m\u001b[1mwandb\u001b[0m: Agent Starting Run: ng2i6w3g with config:\n",
      "\u001b[34m\u001b[1mwandb\u001b[0m: \tLR: 0.0001\n",
      "\u001b[34m\u001b[1mwandb\u001b[0m: \tbatch_size: 64\n",
      "\u001b[34m\u001b[1mwandb\u001b[0m: \tbuffer_size: 100000\n",
      "\u001b[34m\u001b[1mwandb\u001b[0m: \tfc1_units: 128\n",
      "\u001b[34m\u001b[1mwandb\u001b[0m: \tfc2_units: 64\n",
      "\u001b[34m\u001b[1mwandb\u001b[0m: \tgamma: 0.5\n",
      "\u001b[34m\u001b[1mwandb\u001b[0m: \tmethod: softmax\n",
      "\u001b[34m\u001b[1mwandb\u001b[0m: \tn_episodes: 500\n",
      "\u001b[34m\u001b[1mwandb\u001b[0m: \toptimizer: adam\n",
      "\u001b[34m\u001b[1mwandb\u001b[0m: \ttemperature: 0.9\n",
      "Failed to detect the name of this notebook, you can set it manually with the WANDB_NOTEBOOK_NAME environment variable to enable code saving.\n"
     ]
    },
    {
     "data": {
      "text/html": [
       "\n",
       "                    Syncing run <strong><a href=\"https://wandb.ai/kankan-jana/RL_Assignment2/runs/ng2i6w3g\" target=\"_blank\">royal-sweep-6</a></strong> to <a href=\"https://wandb.ai/kankan-jana/RL_Assignment2\" target=\"_blank\">Weights & Biases</a> (<a href=\"https://docs.wandb.com/integrations/jupyter.html\" target=\"_blank\">docs</a>).<br/>\n",
       "Sweep page: <a href=\"https://wandb.ai/kankan-jana/RL_Assignment2/sweeps/13vjeuy9\" target=\"_blank\">https://wandb.ai/kankan-jana/RL_Assignment2/sweeps/13vjeuy9</a><br/>\n",
       "\n",
       "                "
      ],
      "text/plain": [
       "<IPython.core.display.HTML object>"
      ]
     },
     "metadata": {},
     "output_type": "display_data"
    },
    {
     "name": "stdout",
     "output_type": "stream",
     "text": [
      "Episode 100\tAverage Score: 40.22\n",
      "Episode 200\tAverage Score: 126.13\n",
      "Episode 300\tAverage Score: 101.89\n",
      "Episode 400\tAverage Score: 10.638\n",
      "Episode 500\tAverage Score: 10.00\n"
     ]
    },
    {
     "data": {
      "text/html": [
       "<br/>Waiting for W&B process to finish, PID 6300... <strong style=\"color:green\">(success).</strong>"
      ],
      "text/plain": [
       "<IPython.core.display.HTML object>"
      ]
     },
     "metadata": {},
     "output_type": "display_data"
    },
    {
     "data": {
      "application/vnd.jupyter.widget-view+json": {
       "model_id": "",
       "version_major": 2,
       "version_minor": 0
      },
      "text/plain": [
       "VBox(children=(Label(value=' 0.00MB of 0.00MB uploaded (0.00MB deduped)\\r'), FloatProgress(value=1.0, max=1.0)…"
      ]
     },
     "metadata": {},
     "output_type": "display_data"
    },
    {
     "data": {
      "text/html": [
       "<style>\n",
       "    table.wandb td:nth-child(1) { padding: 0 10px; text-align: right }\n",
       "    .wandb-row { display: flex; flex-direction: row; flex-wrap: wrap; width: 100% }\n",
       "    .wandb-col { display: flex; flex-direction: column; flex-basis: 100%; flex: 1; padding: 10px; }\n",
       "    </style>\n",
       "<div class=\"wandb-row\"><div class=\"wandb-col\">\n",
       "<h3>Run history:</h3><br/><table class=\"wandb\"><tr><td>reward</td><td>▂▅▄▁▁█</td></tr><tr><td>step</td><td>▁▃▅▆█</td></tr></table><br/></div><div class=\"wandb-col\">\n",
       "<h3>Run summary:</h3><br/><table class=\"wandb\"><tr><td>reward</td><td>228.887</td></tr><tr><td>step</td><td>500</td></tr></table>\n",
       "</div></div>\n",
       "Synced 5 W&B file(s), 0 media file(s), 0 artifact file(s) and 1 other file(s)\n",
       "<br/>Synced <strong style=\"color:#cdcd00\">royal-sweep-6</strong>: <a href=\"https://wandb.ai/kankan-jana/RL_Assignment2/runs/ng2i6w3g\" target=\"_blank\">https://wandb.ai/kankan-jana/RL_Assignment2/runs/ng2i6w3g</a><br/>\n",
       "Find logs at: <code>.\\wandb\\run-20220330_143314-ng2i6w3g\\logs</code><br/>\n"
      ],
      "text/plain": [
       "<IPython.core.display.HTML object>"
      ]
     },
     "metadata": {},
     "output_type": "display_data"
    },
    {
     "name": "stderr",
     "output_type": "stream",
     "text": [
      "\u001b[34m\u001b[1mwandb\u001b[0m: Agent Starting Run: w08994m0 with config:\n",
      "\u001b[34m\u001b[1mwandb\u001b[0m: \tLR: 0.0001\n",
      "\u001b[34m\u001b[1mwandb\u001b[0m: \tbatch_size: 64\n",
      "\u001b[34m\u001b[1mwandb\u001b[0m: \tbuffer_size: 100000\n",
      "\u001b[34m\u001b[1mwandb\u001b[0m: \tfc1_units: 128\n",
      "\u001b[34m\u001b[1mwandb\u001b[0m: \tfc2_units: 64\n",
      "\u001b[34m\u001b[1mwandb\u001b[0m: \tgamma: 0.5\n",
      "\u001b[34m\u001b[1mwandb\u001b[0m: \tmethod: softmax\n",
      "\u001b[34m\u001b[1mwandb\u001b[0m: \tn_episodes: 500\n",
      "\u001b[34m\u001b[1mwandb\u001b[0m: \toptimizer: adam\n",
      "\u001b[34m\u001b[1mwandb\u001b[0m: \ttemperature: 0.001\n",
      "Failed to detect the name of this notebook, you can set it manually with the WANDB_NOTEBOOK_NAME environment variable to enable code saving.\n"
     ]
    },
    {
     "data": {
      "text/html": [
       "\n",
       "                    Syncing run <strong><a href=\"https://wandb.ai/kankan-jana/RL_Assignment2/runs/w08994m0\" target=\"_blank\">sparkling-sweep-7</a></strong> to <a href=\"https://wandb.ai/kankan-jana/RL_Assignment2\" target=\"_blank\">Weights & Biases</a> (<a href=\"https://docs.wandb.com/integrations/jupyter.html\" target=\"_blank\">docs</a>).<br/>\n",
       "Sweep page: <a href=\"https://wandb.ai/kankan-jana/RL_Assignment2/sweeps/13vjeuy9\" target=\"_blank\">https://wandb.ai/kankan-jana/RL_Assignment2/sweeps/13vjeuy9</a><br/>\n",
       "\n",
       "                "
      ],
      "text/plain": [
       "<IPython.core.display.HTML object>"
      ]
     },
     "metadata": {},
     "output_type": "display_data"
    },
    {
     "name": "stdout",
     "output_type": "stream",
     "text": [
      "Episode 100\tAverage Score: 39.50\n",
      "Episode 200\tAverage Score: 165.95\n",
      "Episode 300\tAverage Score: 102.23\n",
      "Episode 400\tAverage Score: 11.302\n",
      "Episode 500\tAverage Score: 64.53\n"
     ]
    },
    {
     "data": {
      "text/html": [
       "<br/>Waiting for W&B process to finish, PID 13672... <strong style=\"color:green\">(success).</strong>"
      ],
      "text/plain": [
       "<IPython.core.display.HTML object>"
      ]
     },
     "metadata": {},
     "output_type": "display_data"
    },
    {
     "data": {
      "application/vnd.jupyter.widget-view+json": {
       "model_id": "",
       "version_major": 2,
       "version_minor": 0
      },
      "text/plain": [
       "VBox(children=(Label(value=' 0.00MB of 0.00MB uploaded (0.00MB deduped)\\r'), FloatProgress(value=1.0, max=1.0)…"
      ]
     },
     "metadata": {},
     "output_type": "display_data"
    },
    {
     "data": {
      "text/html": [
       "<style>\n",
       "    table.wandb td:nth-child(1) { padding: 0 10px; text-align: right }\n",
       "    .wandb-row { display: flex; flex-direction: row; flex-wrap: wrap; width: 100% }\n",
       "    .wandb-col { display: flex; flex-direction: column; flex-basis: 100%; flex: 1; padding: 10px; }\n",
       "    </style>\n",
       "<div class=\"wandb-row\"><div class=\"wandb-col\">\n",
       "<h3>Run history:</h3><br/><table class=\"wandb\"><tr><td>reward</td><td>▂▆▄▁▃█</td></tr><tr><td>step</td><td>▁▃▅▆█</td></tr></table><br/></div><div class=\"wandb-col\">\n",
       "<h3>Run summary:</h3><br/><table class=\"wandb\"><tr><td>reward</td><td>238.351</td></tr><tr><td>step</td><td>500</td></tr></table>\n",
       "</div></div>\n",
       "Synced 5 W&B file(s), 0 media file(s), 0 artifact file(s) and 1 other file(s)\n",
       "<br/>Synced <strong style=\"color:#cdcd00\">sparkling-sweep-7</strong>: <a href=\"https://wandb.ai/kankan-jana/RL_Assignment2/runs/w08994m0\" target=\"_blank\">https://wandb.ai/kankan-jana/RL_Assignment2/runs/w08994m0</a><br/>\n",
       "Find logs at: <code>.\\wandb\\run-20220330_144335-w08994m0\\logs</code><br/>\n"
      ],
      "text/plain": [
       "<IPython.core.display.HTML object>"
      ]
     },
     "metadata": {},
     "output_type": "display_data"
    },
    {
     "name": "stderr",
     "output_type": "stream",
     "text": [
      "\u001b[34m\u001b[1mwandb\u001b[0m: Sweep Agent: Waiting for job.\n",
      "\u001b[34m\u001b[1mwandb\u001b[0m: Job received.\n",
      "\u001b[34m\u001b[1mwandb\u001b[0m: Agent Starting Run: p3j8u9ht with config:\n",
      "\u001b[34m\u001b[1mwandb\u001b[0m: \tLR: 0.0001\n",
      "\u001b[34m\u001b[1mwandb\u001b[0m: \tbatch_size: 64\n",
      "\u001b[34m\u001b[1mwandb\u001b[0m: \tbuffer_size: 100000\n",
      "\u001b[34m\u001b[1mwandb\u001b[0m: \tfc1_units: 128\n",
      "\u001b[34m\u001b[1mwandb\u001b[0m: \tfc2_units: 64\n",
      "\u001b[34m\u001b[1mwandb\u001b[0m: \tgamma: 0.5\n",
      "\u001b[34m\u001b[1mwandb\u001b[0m: \tmethod: softmax\n",
      "\u001b[34m\u001b[1mwandb\u001b[0m: \tn_episodes: 500\n",
      "\u001b[34m\u001b[1mwandb\u001b[0m: \toptimizer: adam\n",
      "\u001b[34m\u001b[1mwandb\u001b[0m: \ttemperature: 0.9\n",
      "Failed to detect the name of this notebook, you can set it manually with the WANDB_NOTEBOOK_NAME environment variable to enable code saving.\n"
     ]
    },
    {
     "data": {
      "text/html": [
       "\n",
       "                    Syncing run <strong><a href=\"https://wandb.ai/kankan-jana/RL_Assignment2/runs/p3j8u9ht\" target=\"_blank\">mild-sweep-8</a></strong> to <a href=\"https://wandb.ai/kankan-jana/RL_Assignment2\" target=\"_blank\">Weights & Biases</a> (<a href=\"https://docs.wandb.com/integrations/jupyter.html\" target=\"_blank\">docs</a>).<br/>\n",
       "Sweep page: <a href=\"https://wandb.ai/kankan-jana/RL_Assignment2/sweeps/13vjeuy9\" target=\"_blank\">https://wandb.ai/kankan-jana/RL_Assignment2/sweeps/13vjeuy9</a><br/>\n",
       "\n",
       "                "
      ],
      "text/plain": [
       "<IPython.core.display.HTML object>"
      ]
     },
     "metadata": {},
     "output_type": "display_data"
    },
    {
     "name": "stdout",
     "output_type": "stream",
     "text": [
      "Episode 100\tAverage Score: 40.17\n",
      "Episode 200\tAverage Score: 158.16\n",
      "Episode 300\tAverage Score: 98.901\n",
      "Episode 400\tAverage Score: 10.81\n",
      "Episode 500\tAverage Score: 10.10\n"
     ]
    },
    {
     "data": {
      "text/html": [
       "<br/>Waiting for W&B process to finish, PID 7776... <strong style=\"color:green\">(success).</strong>"
      ],
      "text/plain": [
       "<IPython.core.display.HTML object>"
      ]
     },
     "metadata": {},
     "output_type": "display_data"
    },
    {
     "data": {
      "application/vnd.jupyter.widget-view+json": {
       "model_id": "",
       "version_major": 2,
       "version_minor": 0
      },
      "text/plain": [
       "VBox(children=(Label(value=' 0.00MB of 0.00MB uploaded (0.00MB deduped)\\r'), FloatProgress(value=1.0, max=1.0)…"
      ]
     },
     "metadata": {},
     "output_type": "display_data"
    },
    {
     "data": {
      "text/html": [
       "<style>\n",
       "    table.wandb td:nth-child(1) { padding: 0 10px; text-align: right }\n",
       "    .wandb-row { display: flex; flex-direction: row; flex-wrap: wrap; width: 100% }\n",
       "    .wandb-col { display: flex; flex-direction: column; flex-basis: 100%; flex: 1; padding: 10px; }\n",
       "    </style>\n",
       "<div class=\"wandb-row\"><div class=\"wandb-col\">\n",
       "<h3>Run history:</h3><br/><table class=\"wandb\"><tr><td>reward</td><td>▂▆▄▁▁█</td></tr><tr><td>step</td><td>▁▃▅▆█</td></tr></table><br/></div><div class=\"wandb-col\">\n",
       "<h3>Run summary:</h3><br/><table class=\"wandb\"><tr><td>reward</td><td>231.814</td></tr><tr><td>step</td><td>500</td></tr></table>\n",
       "</div></div>\n",
       "Synced 5 W&B file(s), 0 media file(s), 0 artifact file(s) and 1 other file(s)\n",
       "<br/>Synced <strong style=\"color:#cdcd00\">mild-sweep-8</strong>: <a href=\"https://wandb.ai/kankan-jana/RL_Assignment2/runs/p3j8u9ht\" target=\"_blank\">https://wandb.ai/kankan-jana/RL_Assignment2/runs/p3j8u9ht</a><br/>\n",
       "Find logs at: <code>.\\wandb\\run-20220330_145710-p3j8u9ht\\logs</code><br/>\n"
      ],
      "text/plain": [
       "<IPython.core.display.HTML object>"
      ]
     },
     "metadata": {},
     "output_type": "display_data"
    },
    {
     "name": "stderr",
     "output_type": "stream",
     "text": [
      "\u001b[34m\u001b[1mwandb\u001b[0m: Sweep Agent: Waiting for job.\n",
      "\u001b[34m\u001b[1mwandb\u001b[0m: Job received.\n",
      "\u001b[34m\u001b[1mwandb\u001b[0m: Agent Starting Run: 821hf1ot with config:\n",
      "\u001b[34m\u001b[1mwandb\u001b[0m: \tLR: 0.0001\n",
      "\u001b[34m\u001b[1mwandb\u001b[0m: \tbatch_size: 64\n",
      "\u001b[34m\u001b[1mwandb\u001b[0m: \tbuffer_size: 100000\n",
      "\u001b[34m\u001b[1mwandb\u001b[0m: \tfc1_units: 128\n",
      "\u001b[34m\u001b[1mwandb\u001b[0m: \tfc2_units: 128\n",
      "\u001b[34m\u001b[1mwandb\u001b[0m: \tgamma: 0.99\n",
      "\u001b[34m\u001b[1mwandb\u001b[0m: \tmethod: softmax\n",
      "\u001b[34m\u001b[1mwandb\u001b[0m: \tn_episodes: 500\n",
      "\u001b[34m\u001b[1mwandb\u001b[0m: \toptimizer: adam\n",
      "\u001b[34m\u001b[1mwandb\u001b[0m: \ttemperature: 0.9\n",
      "Failed to detect the name of this notebook, you can set it manually with the WANDB_NOTEBOOK_NAME environment variable to enable code saving.\n"
     ]
    },
    {
     "data": {
      "text/html": [
       "\n",
       "                    Syncing run <strong><a href=\"https://wandb.ai/kankan-jana/RL_Assignment2/runs/821hf1ot\" target=\"_blank\">swept-sweep-9</a></strong> to <a href=\"https://wandb.ai/kankan-jana/RL_Assignment2\" target=\"_blank\">Weights & Biases</a> (<a href=\"https://docs.wandb.com/integrations/jupyter.html\" target=\"_blank\">docs</a>).<br/>\n",
       "Sweep page: <a href=\"https://wandb.ai/kankan-jana/RL_Assignment2/sweeps/13vjeuy9\" target=\"_blank\">https://wandb.ai/kankan-jana/RL_Assignment2/sweeps/13vjeuy9</a><br/>\n",
       "\n",
       "                "
      ],
      "text/plain": [
       "<IPython.core.display.HTML object>"
      ]
     },
     "metadata": {},
     "output_type": "display_data"
    },
    {
     "name": "stdout",
     "output_type": "stream",
     "text": [
      "Episode 100\tAverage Score: 47.26\n",
      "Episode 200\tAverage Score: 100.63\n",
      "Episode 300\tAverage Score: 117.18\n",
      "Episode 400\tAverage Score: 84.414\n",
      "Episode 500\tAverage Score: 67.858\n"
     ]
    },
    {
     "data": {
      "text/html": [
       "<br/>Waiting for W&B process to finish, PID 21132... <strong style=\"color:green\">(success).</strong>"
      ],
      "text/plain": [
       "<IPython.core.display.HTML object>"
      ]
     },
     "metadata": {},
     "output_type": "display_data"
    },
    {
     "data": {
      "application/vnd.jupyter.widget-view+json": {
       "model_id": "",
       "version_major": 2,
       "version_minor": 0
      },
      "text/plain": [
       "VBox(children=(Label(value=' 0.00MB of 0.00MB uploaded (0.00MB deduped)\\r'), FloatProgress(value=1.0, max=1.0)…"
      ]
     },
     "metadata": {},
     "output_type": "display_data"
    },
    {
     "data": {
      "text/html": [
       "<style>\n",
       "    table.wandb td:nth-child(1) { padding: 0 10px; text-align: right }\n",
       "    .wandb-row { display: flex; flex-direction: row; flex-wrap: wrap; width: 100% }\n",
       "    .wandb-col { display: flex; flex-direction: column; flex-basis: 100%; flex: 1; padding: 10px; }\n",
       "    </style>\n",
       "<div class=\"wandb-row\"><div class=\"wandb-col\">\n",
       "<h3>Run history:</h3><br/><table class=\"wandb\"><tr><td>reward</td><td>▁▃▄▂▂█</td></tr><tr><td>step</td><td>▁▃▅▆█</td></tr></table><br/></div><div class=\"wandb-col\">\n",
       "<h3>Run summary:</h3><br/><table class=\"wandb\"><tr><td>reward</td><td>241.733</td></tr><tr><td>step</td><td>500</td></tr></table>\n",
       "</div></div>\n",
       "Synced 5 W&B file(s), 0 media file(s), 0 artifact file(s) and 1 other file(s)\n",
       "<br/>Synced <strong style=\"color:#cdcd00\">swept-sweep-9</strong>: <a href=\"https://wandb.ai/kankan-jana/RL_Assignment2/runs/821hf1ot\" target=\"_blank\">https://wandb.ai/kankan-jana/RL_Assignment2/runs/821hf1ot</a><br/>\n",
       "Find logs at: <code>.\\wandb\\run-20220330_150831-821hf1ot\\logs</code><br/>\n"
      ],
      "text/plain": [
       "<IPython.core.display.HTML object>"
      ]
     },
     "metadata": {},
     "output_type": "display_data"
    },
    {
     "name": "stderr",
     "output_type": "stream",
     "text": [
      "\u001b[34m\u001b[1mwandb\u001b[0m: Agent Starting Run: zjdvbmzu with config:\n",
      "\u001b[34m\u001b[1mwandb\u001b[0m: \tLR: 0.0001\n",
      "\u001b[34m\u001b[1mwandb\u001b[0m: \tbatch_size: 64\n",
      "\u001b[34m\u001b[1mwandb\u001b[0m: \tbuffer_size: 100000\n",
      "\u001b[34m\u001b[1mwandb\u001b[0m: \tfc1_units: 64\n",
      "\u001b[34m\u001b[1mwandb\u001b[0m: \tfc2_units: 64\n",
      "\u001b[34m\u001b[1mwandb\u001b[0m: \tgamma: 0.99\n",
      "\u001b[34m\u001b[1mwandb\u001b[0m: \tmethod: softmax\n",
      "\u001b[34m\u001b[1mwandb\u001b[0m: \tn_episodes: 500\n",
      "\u001b[34m\u001b[1mwandb\u001b[0m: \toptimizer: adam\n",
      "\u001b[34m\u001b[1mwandb\u001b[0m: \ttemperature: 0.9\n",
      "Failed to detect the name of this notebook, you can set it manually with the WANDB_NOTEBOOK_NAME environment variable to enable code saving.\n"
     ]
    },
    {
     "data": {
      "text/html": [
       "\n",
       "                    Syncing run <strong><a href=\"https://wandb.ai/kankan-jana/RL_Assignment2/runs/zjdvbmzu\" target=\"_blank\">usual-sweep-10</a></strong> to <a href=\"https://wandb.ai/kankan-jana/RL_Assignment2\" target=\"_blank\">Weights & Biases</a> (<a href=\"https://docs.wandb.com/integrations/jupyter.html\" target=\"_blank\">docs</a>).<br/>\n",
       "Sweep page: <a href=\"https://wandb.ai/kankan-jana/RL_Assignment2/sweeps/13vjeuy9\" target=\"_blank\">https://wandb.ai/kankan-jana/RL_Assignment2/sweeps/13vjeuy9</a><br/>\n",
       "\n",
       "                "
      ],
      "text/plain": [
       "<IPython.core.display.HTML object>"
      ]
     },
     "metadata": {},
     "output_type": "display_data"
    },
    {
     "name": "stdout",
     "output_type": "stream",
     "text": [
      "Episode 100\tAverage Score: 39.01\n",
      "Episode 200\tAverage Score: 113.06\n",
      "Episode 300\tAverage Score: 104.82\n",
      "Episode 400\tAverage Score: 20.554\n",
      "Episode 500\tAverage Score: 48.97\n"
     ]
    },
    {
     "data": {
      "text/html": [
       "<br/>Waiting for W&B process to finish, PID 11424... <strong style=\"color:green\">(success).</strong>"
      ],
      "text/plain": [
       "<IPython.core.display.HTML object>"
      ]
     },
     "metadata": {},
     "output_type": "display_data"
    },
    {
     "data": {
      "application/vnd.jupyter.widget-view+json": {
       "model_id": "",
       "version_major": 2,
       "version_minor": 0
      },
      "text/plain": [
       "VBox(children=(Label(value=' 0.00MB of 0.00MB uploaded (0.00MB deduped)\\r'), FloatProgress(value=1.0, max=1.0)…"
      ]
     },
     "metadata": {},
     "output_type": "display_data"
    },
    {
     "data": {
      "text/html": [
       "<style>\n",
       "    table.wandb td:nth-child(1) { padding: 0 10px; text-align: right }\n",
       "    .wandb-row { display: flex; flex-direction: row; flex-wrap: wrap; width: 100% }\n",
       "    .wandb-col { display: flex; flex-direction: column; flex-basis: 100%; flex: 1; padding: 10px; }\n",
       "    </style>\n",
       "<div class=\"wandb-row\"><div class=\"wandb-col\">\n",
       "<h3>Run history:</h3><br/><table class=\"wandb\"><tr><td>reward</td><td>▂▄▄▁▂█</td></tr><tr><td>step</td><td>▁▃▅▆█</td></tr></table><br/></div><div class=\"wandb-col\">\n",
       "<h3>Run summary:</h3><br/><table class=\"wandb\"><tr><td>reward</td><td>232.641</td></tr><tr><td>step</td><td>500</td></tr></table>\n",
       "</div></div>\n",
       "Synced 5 W&B file(s), 0 media file(s), 0 artifact file(s) and 1 other file(s)\n",
       "<br/>Synced <strong style=\"color:#cdcd00\">usual-sweep-10</strong>: <a href=\"https://wandb.ai/kankan-jana/RL_Assignment2/runs/zjdvbmzu\" target=\"_blank\">https://wandb.ai/kankan-jana/RL_Assignment2/runs/zjdvbmzu</a><br/>\n",
       "Find logs at: <code>.\\wandb\\run-20220330_152446-zjdvbmzu\\logs</code><br/>\n"
      ],
      "text/plain": [
       "<IPython.core.display.HTML object>"
      ]
     },
     "metadata": {},
     "output_type": "display_data"
    },
    {
     "name": "stderr",
     "output_type": "stream",
     "text": [
      "\u001b[34m\u001b[1mwandb\u001b[0m: Sweep Agent: Waiting for job.\n",
      "\u001b[34m\u001b[1mwandb\u001b[0m: Job received.\n",
      "\u001b[34m\u001b[1mwandb\u001b[0m: Agent Starting Run: t9x36gla with config:\n",
      "\u001b[34m\u001b[1mwandb\u001b[0m: \tLR: 0.0001\n",
      "\u001b[34m\u001b[1mwandb\u001b[0m: \tbatch_size: 64\n",
      "\u001b[34m\u001b[1mwandb\u001b[0m: \tbuffer_size: 100000\n",
      "\u001b[34m\u001b[1mwandb\u001b[0m: \tfc1_units: 64\n",
      "\u001b[34m\u001b[1mwandb\u001b[0m: \tfc2_units: 64\n",
      "\u001b[34m\u001b[1mwandb\u001b[0m: \tgamma: 0.99\n",
      "\u001b[34m\u001b[1mwandb\u001b[0m: \tmethod: softmax\n",
      "\u001b[34m\u001b[1mwandb\u001b[0m: \tn_episodes: 500\n",
      "\u001b[34m\u001b[1mwandb\u001b[0m: \toptimizer: adam\n",
      "\u001b[34m\u001b[1mwandb\u001b[0m: \ttemperature: 0.001\n",
      "Failed to detect the name of this notebook, you can set it manually with the WANDB_NOTEBOOK_NAME environment variable to enable code saving.\n"
     ]
    },
    {
     "data": {
      "text/html": [
       "\n",
       "                    Syncing run <strong><a href=\"https://wandb.ai/kankan-jana/RL_Assignment2/runs/t9x36gla\" target=\"_blank\">autumn-sweep-11</a></strong> to <a href=\"https://wandb.ai/kankan-jana/RL_Assignment2\" target=\"_blank\">Weights & Biases</a> (<a href=\"https://docs.wandb.com/integrations/jupyter.html\" target=\"_blank\">docs</a>).<br/>\n",
       "Sweep page: <a href=\"https://wandb.ai/kankan-jana/RL_Assignment2/sweeps/13vjeuy9\" target=\"_blank\">https://wandb.ai/kankan-jana/RL_Assignment2/sweeps/13vjeuy9</a><br/>\n",
       "\n",
       "                "
      ],
      "text/plain": [
       "<IPython.core.display.HTML object>"
      ]
     },
     "metadata": {},
     "output_type": "display_data"
    },
    {
     "name": "stdout",
     "output_type": "stream",
     "text": [
      "Episode 100\tAverage Score: 36.05\n",
      "Episode 200\tAverage Score: 119.42\n",
      "Episode 300\tAverage Score: 72.974\n",
      "Episode 400\tAverage Score: 32.16\n",
      "Episode 500\tAverage Score: 53.68\n"
     ]
    },
    {
     "data": {
      "text/html": [
       "<br/>Waiting for W&B process to finish, PID 21740... <strong style=\"color:green\">(success).</strong>"
      ],
      "text/plain": [
       "<IPython.core.display.HTML object>"
      ]
     },
     "metadata": {},
     "output_type": "display_data"
    },
    {
     "data": {
      "application/vnd.jupyter.widget-view+json": {
       "model_id": "",
       "version_major": 2,
       "version_minor": 0
      },
      "text/plain": [
       "VBox(children=(Label(value=' 0.00MB of 0.00MB uploaded (0.00MB deduped)\\r'), FloatProgress(value=1.0, max=1.0)…"
      ]
     },
     "metadata": {},
     "output_type": "display_data"
    },
    {
     "data": {
      "text/html": [
       "<style>\n",
       "    table.wandb td:nth-child(1) { padding: 0 10px; text-align: right }\n",
       "    .wandb-row { display: flex; flex-direction: row; flex-wrap: wrap; width: 100% }\n",
       "    .wandb-col { display: flex; flex-direction: column; flex-basis: 100%; flex: 1; padding: 10px; }\n",
       "    </style>\n",
       "<div class=\"wandb-row\"><div class=\"wandb-col\">\n",
       "<h3>Run history:</h3><br/><table class=\"wandb\"><tr><td>reward</td><td>▁▄▂▁▂█</td></tr><tr><td>step</td><td>▁▃▅▆█</td></tr></table><br/></div><div class=\"wandb-col\">\n",
       "<h3>Run summary:</h3><br/><table class=\"wandb\"><tr><td>reward</td><td>231.428</td></tr><tr><td>step</td><td>500</td></tr></table>\n",
       "</div></div>\n",
       "Synced 5 W&B file(s), 0 media file(s), 0 artifact file(s) and 1 other file(s)\n",
       "<br/>Synced <strong style=\"color:#cdcd00\">autumn-sweep-11</strong>: <a href=\"https://wandb.ai/kankan-jana/RL_Assignment2/runs/t9x36gla\" target=\"_blank\">https://wandb.ai/kankan-jana/RL_Assignment2/runs/t9x36gla</a><br/>\n",
       "Find logs at: <code>.\\wandb\\run-20220330_153646-t9x36gla\\logs</code><br/>\n"
      ],
      "text/plain": [
       "<IPython.core.display.HTML object>"
      ]
     },
     "metadata": {},
     "output_type": "display_data"
    },
    {
     "name": "stderr",
     "output_type": "stream",
     "text": [
      "\u001b[34m\u001b[1mwandb\u001b[0m: Agent Starting Run: 8r9uewol with config:\n",
      "\u001b[34m\u001b[1mwandb\u001b[0m: \tLR: 0.0001\n",
      "\u001b[34m\u001b[1mwandb\u001b[0m: \tbatch_size: 64\n",
      "\u001b[34m\u001b[1mwandb\u001b[0m: \tbuffer_size: 100000\n",
      "\u001b[34m\u001b[1mwandb\u001b[0m: \tfc1_units: 128\n",
      "\u001b[34m\u001b[1mwandb\u001b[0m: \tfc2_units: 128\n",
      "\u001b[34m\u001b[1mwandb\u001b[0m: \tgamma: 0.5\n",
      "\u001b[34m\u001b[1mwandb\u001b[0m: \tmethod: softmax\n",
      "\u001b[34m\u001b[1mwandb\u001b[0m: \tn_episodes: 500\n",
      "\u001b[34m\u001b[1mwandb\u001b[0m: \toptimizer: adam\n",
      "\u001b[34m\u001b[1mwandb\u001b[0m: \ttemperature: 0.9\n",
      "Failed to detect the name of this notebook, you can set it manually with the WANDB_NOTEBOOK_NAME environment variable to enable code saving.\n"
     ]
    },
    {
     "data": {
      "text/html": [
       "\n",
       "                    Syncing run <strong><a href=\"https://wandb.ai/kankan-jana/RL_Assignment2/runs/8r9uewol\" target=\"_blank\">sunny-sweep-12</a></strong> to <a href=\"https://wandb.ai/kankan-jana/RL_Assignment2\" target=\"_blank\">Weights & Biases</a> (<a href=\"https://docs.wandb.com/integrations/jupyter.html\" target=\"_blank\">docs</a>).<br/>\n",
       "Sweep page: <a href=\"https://wandb.ai/kankan-jana/RL_Assignment2/sweeps/13vjeuy9\" target=\"_blank\">https://wandb.ai/kankan-jana/RL_Assignment2/sweeps/13vjeuy9</a><br/>\n",
       "\n",
       "                "
      ],
      "text/plain": [
       "<IPython.core.display.HTML object>"
      ]
     },
     "metadata": {},
     "output_type": "display_data"
    },
    {
     "name": "stdout",
     "output_type": "stream",
     "text": [
      "Episode 100\tAverage Score: 52.84\n",
      "Episode 200\tAverage Score: 148.32\n",
      "Episode 300\tAverage Score: 99.700\n",
      "Episode 400\tAverage Score: 12.42\n",
      "Episode 500\tAverage Score: 94.99\n"
     ]
    },
    {
     "data": {
      "text/html": [
       "<br/>Waiting for W&B process to finish, PID 15504... <strong style=\"color:green\">(success).</strong>"
      ],
      "text/plain": [
       "<IPython.core.display.HTML object>"
      ]
     },
     "metadata": {},
     "output_type": "display_data"
    },
    {
     "data": {
      "application/vnd.jupyter.widget-view+json": {
       "model_id": "",
       "version_major": 2,
       "version_minor": 0
      },
      "text/plain": [
       "VBox(children=(Label(value=' 0.00MB of 0.00MB uploaded (0.00MB deduped)\\r'), FloatProgress(value=1.0, max=1.0)…"
      ]
     },
     "metadata": {},
     "output_type": "display_data"
    },
    {
     "data": {
      "text/html": [
       "<style>\n",
       "    table.wandb td:nth-child(1) { padding: 0 10px; text-align: right }\n",
       "    .wandb-row { display: flex; flex-direction: row; flex-wrap: wrap; width: 100% }\n",
       "    .wandb-col { display: flex; flex-direction: column; flex-basis: 100%; flex: 1; padding: 10px; }\n",
       "    </style>\n",
       "<div class=\"wandb-row\"><div class=\"wandb-col\">\n",
       "<h3>Run history:</h3><br/><table class=\"wandb\"><tr><td>reward</td><td>▂▅▄▁▄█</td></tr><tr><td>step</td><td>▁▃▅▆█</td></tr></table><br/></div><div class=\"wandb-col\">\n",
       "<h3>Run summary:</h3><br/><table class=\"wandb\"><tr><td>reward</td><td>240.827</td></tr><tr><td>step</td><td>500</td></tr></table>\n",
       "</div></div>\n",
       "Synced 5 W&B file(s), 0 media file(s), 0 artifact file(s) and 1 other file(s)\n",
       "<br/>Synced <strong style=\"color:#cdcd00\">sunny-sweep-12</strong>: <a href=\"https://wandb.ai/kankan-jana/RL_Assignment2/runs/8r9uewol\" target=\"_blank\">https://wandb.ai/kankan-jana/RL_Assignment2/runs/8r9uewol</a><br/>\n",
       "Find logs at: <code>.\\wandb\\run-20220330_154709-8r9uewol\\logs</code><br/>\n"
      ],
      "text/plain": [
       "<IPython.core.display.HTML object>"
      ]
     },
     "metadata": {},
     "output_type": "display_data"
    },
    {
     "name": "stderr",
     "output_type": "stream",
     "text": [
      "\u001b[34m\u001b[1mwandb\u001b[0m: Agent Starting Run: ycft5oix with config:\n",
      "\u001b[34m\u001b[1mwandb\u001b[0m: \tLR: 0.0001\n",
      "\u001b[34m\u001b[1mwandb\u001b[0m: \tbatch_size: 64\n",
      "\u001b[34m\u001b[1mwandb\u001b[0m: \tbuffer_size: 100000\n",
      "\u001b[34m\u001b[1mwandb\u001b[0m: \tfc1_units: 128\n",
      "\u001b[34m\u001b[1mwandb\u001b[0m: \tfc2_units: 128\n",
      "\u001b[34m\u001b[1mwandb\u001b[0m: \tgamma: 0.5\n",
      "\u001b[34m\u001b[1mwandb\u001b[0m: \tmethod: softmax\n",
      "\u001b[34m\u001b[1mwandb\u001b[0m: \tn_episodes: 500\n",
      "\u001b[34m\u001b[1mwandb\u001b[0m: \toptimizer: adam\n",
      "\u001b[34m\u001b[1mwandb\u001b[0m: \ttemperature: 0.9\n",
      "Failed to detect the name of this notebook, you can set it manually with the WANDB_NOTEBOOK_NAME environment variable to enable code saving.\n"
     ]
    },
    {
     "data": {
      "text/html": [
       "\n",
       "                    Syncing run <strong><a href=\"https://wandb.ai/kankan-jana/RL_Assignment2/runs/ycft5oix\" target=\"_blank\">youthful-sweep-13</a></strong> to <a href=\"https://wandb.ai/kankan-jana/RL_Assignment2\" target=\"_blank\">Weights & Biases</a> (<a href=\"https://docs.wandb.com/integrations/jupyter.html\" target=\"_blank\">docs</a>).<br/>\n",
       "Sweep page: <a href=\"https://wandb.ai/kankan-jana/RL_Assignment2/sweeps/13vjeuy9\" target=\"_blank\">https://wandb.ai/kankan-jana/RL_Assignment2/sweeps/13vjeuy9</a><br/>\n",
       "\n",
       "                "
      ],
      "text/plain": [
       "<IPython.core.display.HTML object>"
      ]
     },
     "metadata": {},
     "output_type": "display_data"
    },
    {
     "name": "stdout",
     "output_type": "stream",
     "text": [
      "Episode 100\tAverage Score: 39.45\n",
      "Episode 200\tAverage Score: 139.41\n",
      "Episode 300\tAverage Score: 236.90\n",
      "Episode 400\tAverage Score: 158.40\n",
      "Episode 500\tAverage Score: 32.068\n"
     ]
    },
    {
     "data": {
      "text/html": [
       "<br/>Waiting for W&B process to finish, PID 22224... <strong style=\"color:green\">(success).</strong>"
      ],
      "text/plain": [
       "<IPython.core.display.HTML object>"
      ]
     },
     "metadata": {},
     "output_type": "display_data"
    },
    {
     "data": {
      "application/vnd.jupyter.widget-view+json": {
       "model_id": "",
       "version_major": 2,
       "version_minor": 0
      },
      "text/plain": [
       "VBox(children=(Label(value=' 0.00MB of 0.00MB uploaded (0.00MB deduped)\\r'), FloatProgress(value=1.0, max=1.0)…"
      ]
     },
     "metadata": {},
     "output_type": "display_data"
    },
    {
     "data": {
      "text/html": [
       "<style>\n",
       "    table.wandb td:nth-child(1) { padding: 0 10px; text-align: right }\n",
       "    .wandb-row { display: flex; flex-direction: row; flex-wrap: wrap; width: 100% }\n",
       "    .wandb-col { display: flex; flex-direction: column; flex-basis: 100%; flex: 1; padding: 10px; }\n",
       "    </style>\n",
       "<div class=\"wandb-row\"><div class=\"wandb-col\">\n",
       "<h3>Run history:</h3><br/><table class=\"wandb\"><tr><td>reward</td><td>▁▄▇▅▁█</td></tr><tr><td>step</td><td>▁▃▅▆█</td></tr></table><br/></div><div class=\"wandb-col\">\n",
       "<h3>Run summary:</h3><br/><table class=\"wandb\"><tr><td>reward</td><td>260.622</td></tr><tr><td>step</td><td>500</td></tr></table>\n",
       "</div></div>\n",
       "Synced 5 W&B file(s), 0 media file(s), 0 artifact file(s) and 1 other file(s)\n",
       "<br/>Synced <strong style=\"color:#cdcd00\">youthful-sweep-13</strong>: <a href=\"https://wandb.ai/kankan-jana/RL_Assignment2/runs/ycft5oix\" target=\"_blank\">https://wandb.ai/kankan-jana/RL_Assignment2/runs/ycft5oix</a><br/>\n",
       "Find logs at: <code>.\\wandb\\run-20220330_155958-ycft5oix\\logs</code><br/>\n"
      ],
      "text/plain": [
       "<IPython.core.display.HTML object>"
      ]
     },
     "metadata": {},
     "output_type": "display_data"
    },
    {
     "name": "stderr",
     "output_type": "stream",
     "text": [
      "\u001b[34m\u001b[1mwandb\u001b[0m: Agent Starting Run: bpiaco55 with config:\n",
      "\u001b[34m\u001b[1mwandb\u001b[0m: \tLR: 0.0001\n",
      "\u001b[34m\u001b[1mwandb\u001b[0m: \tbatch_size: 64\n",
      "\u001b[34m\u001b[1mwandb\u001b[0m: \tbuffer_size: 100000\n",
      "\u001b[34m\u001b[1mwandb\u001b[0m: \tfc1_units: 128\n",
      "\u001b[34m\u001b[1mwandb\u001b[0m: \tfc2_units: 128\n",
      "\u001b[34m\u001b[1mwandb\u001b[0m: \tgamma: 0.5\n",
      "\u001b[34m\u001b[1mwandb\u001b[0m: \tmethod: softmax\n",
      "\u001b[34m\u001b[1mwandb\u001b[0m: \tn_episodes: 500\n",
      "\u001b[34m\u001b[1mwandb\u001b[0m: \toptimizer: adam\n",
      "\u001b[34m\u001b[1mwandb\u001b[0m: \ttemperature: 0.9\n",
      "Failed to detect the name of this notebook, you can set it manually with the WANDB_NOTEBOOK_NAME environment variable to enable code saving.\n"
     ]
    },
    {
     "data": {
      "text/html": [
       "\n",
       "                    Syncing run <strong><a href=\"https://wandb.ai/kankan-jana/RL_Assignment2/runs/bpiaco55\" target=\"_blank\">radiant-sweep-14</a></strong> to <a href=\"https://wandb.ai/kankan-jana/RL_Assignment2\" target=\"_blank\">Weights & Biases</a> (<a href=\"https://docs.wandb.com/integrations/jupyter.html\" target=\"_blank\">docs</a>).<br/>\n",
       "Sweep page: <a href=\"https://wandb.ai/kankan-jana/RL_Assignment2/sweeps/13vjeuy9\" target=\"_blank\">https://wandb.ai/kankan-jana/RL_Assignment2/sweeps/13vjeuy9</a><br/>\n",
       "\n",
       "                "
      ],
      "text/plain": [
       "<IPython.core.display.HTML object>"
      ]
     },
     "metadata": {},
     "output_type": "display_data"
    },
    {
     "name": "stdout",
     "output_type": "stream",
     "text": [
      "Episode 100\tAverage Score: 43.92\n",
      "Episode 200\tAverage Score: 110.61\n",
      "Episode 300\tAverage Score: 43.881\n",
      "Episode 392\tAverage Score: 158.80"
     ]
    },
    {
     "name": "stderr",
     "output_type": "stream",
     "text": [
      "\u001b[34m\u001b[1mwandb\u001b[0m: Network error (ConnectionError), entering retry loop.\n"
     ]
    },
    {
     "name": "stdout",
     "output_type": "stream",
     "text": [
      "Episode 400\tAverage Score: 196.55\n",
      "Episode 500\tAverage Score: 332.09\n"
     ]
    },
    {
     "data": {
      "text/html": [
       "<br/>Waiting for W&B process to finish, PID 21720... <strong style=\"color:green\">(success).</strong>"
      ],
      "text/plain": [
       "<IPython.core.display.HTML object>"
      ]
     },
     "metadata": {},
     "output_type": "display_data"
    },
    {
     "data": {
      "application/vnd.jupyter.widget-view+json": {
       "model_id": "",
       "version_major": 2,
       "version_minor": 0
      },
      "text/plain": [
       "VBox(children=(Label(value=' 0.00MB of 0.00MB uploaded (0.00MB deduped)\\r'), FloatProgress(value=1.0, max=1.0)…"
      ]
     },
     "metadata": {},
     "output_type": "display_data"
    },
    {
     "data": {
      "text/html": [
       "<style>\n",
       "    table.wandb td:nth-child(1) { padding: 0 10px; text-align: right }\n",
       "    .wandb-row { display: flex; flex-direction: row; flex-wrap: wrap; width: 100% }\n",
       "    .wandb-col { display: flex; flex-direction: column; flex-basis: 100%; flex: 1; padding: 10px; }\n",
       "    </style>\n",
       "<div class=\"wandb-row\"><div class=\"wandb-col\">\n",
       "<h3>Run history:</h3><br/><table class=\"wandb\"><tr><td>reward</td><td>▁▃▁▅█▇</td></tr><tr><td>step</td><td>▁▃▅▆█</td></tr></table><br/></div><div class=\"wandb-col\">\n",
       "<h3>Run summary:</h3><br/><table class=\"wandb\"><tr><td>reward</td><td>272.705</td></tr><tr><td>step</td><td>500</td></tr></table>\n",
       "</div></div>\n",
       "Synced 5 W&B file(s), 0 media file(s), 0 artifact file(s) and 1 other file(s)\n",
       "<br/>Synced <strong style=\"color:#cdcd00\">radiant-sweep-14</strong>: <a href=\"https://wandb.ai/kankan-jana/RL_Assignment2/runs/bpiaco55\" target=\"_blank\">https://wandb.ai/kankan-jana/RL_Assignment2/runs/bpiaco55</a><br/>\n",
       "Find logs at: <code>.\\wandb\\run-20220330_162248-bpiaco55\\logs</code><br/>\n"
      ],
      "text/plain": [
       "<IPython.core.display.HTML object>"
      ]
     },
     "metadata": {},
     "output_type": "display_data"
    },
    {
     "name": "stderr",
     "output_type": "stream",
     "text": [
      "\u001b[34m\u001b[1mwandb\u001b[0m: Agent Starting Run: jfwydpu2 with config:\n",
      "\u001b[34m\u001b[1mwandb\u001b[0m: \tLR: 0.0001\n",
      "\u001b[34m\u001b[1mwandb\u001b[0m: \tbatch_size: 64\n",
      "\u001b[34m\u001b[1mwandb\u001b[0m: \tbuffer_size: 100000\n",
      "\u001b[34m\u001b[1mwandb\u001b[0m: \tfc1_units: 64\n",
      "\u001b[34m\u001b[1mwandb\u001b[0m: \tfc2_units: 64\n",
      "\u001b[34m\u001b[1mwandb\u001b[0m: \tgamma: 0.5\n",
      "\u001b[34m\u001b[1mwandb\u001b[0m: \tmethod: softmax\n",
      "\u001b[34m\u001b[1mwandb\u001b[0m: \tn_episodes: 500\n",
      "\u001b[34m\u001b[1mwandb\u001b[0m: \toptimizer: adam\n",
      "\u001b[34m\u001b[1mwandb\u001b[0m: \ttemperature: 0.9\n",
      "Failed to detect the name of this notebook, you can set it manually with the WANDB_NOTEBOOK_NAME environment variable to enable code saving.\n"
     ]
    },
    {
     "data": {
      "text/html": [
       "\n",
       "                    Syncing run <strong><a href=\"https://wandb.ai/kankan-jana/RL_Assignment2/runs/jfwydpu2\" target=\"_blank\">swift-sweep-15</a></strong> to <a href=\"https://wandb.ai/kankan-jana/RL_Assignment2\" target=\"_blank\">Weights & Biases</a> (<a href=\"https://docs.wandb.com/integrations/jupyter.html\" target=\"_blank\">docs</a>).<br/>\n",
       "Sweep page: <a href=\"https://wandb.ai/kankan-jana/RL_Assignment2/sweeps/13vjeuy9\" target=\"_blank\">https://wandb.ai/kankan-jana/RL_Assignment2/sweeps/13vjeuy9</a><br/>\n",
       "\n",
       "                "
      ],
      "text/plain": [
       "<IPython.core.display.HTML object>"
      ]
     },
     "metadata": {},
     "output_type": "display_data"
    },
    {
     "name": "stdout",
     "output_type": "stream",
     "text": [
      "Episode 100\tAverage Score: 41.25\n",
      "Episode 200\tAverage Score: 112.18\n",
      "Episode 300\tAverage Score: 36.108\n",
      "Episode 400\tAverage Score: 86.39\n",
      "Episode 500\tAverage Score: 362.59\n"
     ]
    },
    {
     "data": {
      "text/html": [
       "<br/>Waiting for W&B process to finish, PID 22384... <strong style=\"color:green\">(success).</strong>"
      ],
      "text/plain": [
       "<IPython.core.display.HTML object>"
      ]
     },
     "metadata": {},
     "output_type": "display_data"
    },
    {
     "data": {
      "application/vnd.jupyter.widget-view+json": {
       "model_id": "",
       "version_major": 2,
       "version_minor": 0
      },
      "text/plain": [
       "VBox(children=(Label(value=' 0.00MB of 0.00MB uploaded (0.00MB deduped)\\r'), FloatProgress(value=1.0, max=1.0)…"
      ]
     },
     "metadata": {},
     "output_type": "display_data"
    },
    {
     "data": {
      "text/html": [
       "<style>\n",
       "    table.wandb td:nth-child(1) { padding: 0 10px; text-align: right }\n",
       "    .wandb-row { display: flex; flex-direction: row; flex-wrap: wrap; width: 100% }\n",
       "    .wandb-col { display: flex; flex-direction: column; flex-basis: 100%; flex: 1; padding: 10px; }\n",
       "    </style>\n",
       "<div class=\"wandb-row\"><div class=\"wandb-col\">\n",
       "<h3>Run history:</h3><br/><table class=\"wandb\"><tr><td>reward</td><td>▁▃▁▂█▆</td></tr><tr><td>step</td><td>▁▃▅▆█</td></tr></table><br/></div><div class=\"wandb-col\">\n",
       "<h3>Run summary:</h3><br/><table class=\"wandb\"><tr><td>reward</td><td>263.851</td></tr><tr><td>step</td><td>500</td></tr></table>\n",
       "</div></div>\n",
       "Synced 5 W&B file(s), 0 media file(s), 0 artifact file(s) and 1 other file(s)\n",
       "<br/>Synced <strong style=\"color:#cdcd00\">swift-sweep-15</strong>: <a href=\"https://wandb.ai/kankan-jana/RL_Assignment2/runs/jfwydpu2\" target=\"_blank\">https://wandb.ai/kankan-jana/RL_Assignment2/runs/jfwydpu2</a><br/>\n",
       "Find logs at: <code>.\\wandb\\run-20220330_164612-jfwydpu2\\logs</code><br/>\n"
      ],
      "text/plain": [
       "<IPython.core.display.HTML object>"
      ]
     },
     "metadata": {},
     "output_type": "display_data"
    },
    {
     "name": "stderr",
     "output_type": "stream",
     "text": [
      "\u001b[34m\u001b[1mwandb\u001b[0m: Agent Starting Run: 06w2yd4h with config:\n",
      "\u001b[34m\u001b[1mwandb\u001b[0m: \tLR: 0.0001\n",
      "\u001b[34m\u001b[1mwandb\u001b[0m: \tbatch_size: 64\n",
      "\u001b[34m\u001b[1mwandb\u001b[0m: \tbuffer_size: 100000\n",
      "\u001b[34m\u001b[1mwandb\u001b[0m: \tfc1_units: 64\n",
      "\u001b[34m\u001b[1mwandb\u001b[0m: \tfc2_units: 64\n",
      "\u001b[34m\u001b[1mwandb\u001b[0m: \tgamma: 0.5\n",
      "\u001b[34m\u001b[1mwandb\u001b[0m: \tmethod: softmax\n",
      "\u001b[34m\u001b[1mwandb\u001b[0m: \tn_episodes: 500\n",
      "\u001b[34m\u001b[1mwandb\u001b[0m: \toptimizer: adam\n",
      "\u001b[34m\u001b[1mwandb\u001b[0m: \ttemperature: 0.9\n",
      "Failed to detect the name of this notebook, you can set it manually with the WANDB_NOTEBOOK_NAME environment variable to enable code saving.\n"
     ]
    },
    {
     "data": {
      "text/html": [
       "\n",
       "                    Syncing run <strong><a href=\"https://wandb.ai/kankan-jana/RL_Assignment2/runs/06w2yd4h\" target=\"_blank\">gentle-sweep-16</a></strong> to <a href=\"https://wandb.ai/kankan-jana/RL_Assignment2\" target=\"_blank\">Weights & Biases</a> (<a href=\"https://docs.wandb.com/integrations/jupyter.html\" target=\"_blank\">docs</a>).<br/>\n",
       "Sweep page: <a href=\"https://wandb.ai/kankan-jana/RL_Assignment2/sweeps/13vjeuy9\" target=\"_blank\">https://wandb.ai/kankan-jana/RL_Assignment2/sweeps/13vjeuy9</a><br/>\n",
       "\n",
       "                "
      ],
      "text/plain": [
       "<IPython.core.display.HTML object>"
      ]
     },
     "metadata": {},
     "output_type": "display_data"
    },
    {
     "name": "stdout",
     "output_type": "stream",
     "text": [
      "Episode 100\tAverage Score: 39.00\n",
      "Episode 200\tAverage Score: 135.94\n",
      "Episode 300\tAverage Score: 88.817\n",
      "Episode 400\tAverage Score: 12.66\n",
      "Episode 500\tAverage Score: 65.62\n"
     ]
    },
    {
     "data": {
      "text/html": [
       "<br/>Waiting for W&B process to finish, PID 12140... <strong style=\"color:green\">(success).</strong>"
      ],
      "text/plain": [
       "<IPython.core.display.HTML object>"
      ]
     },
     "metadata": {},
     "output_type": "display_data"
    },
    {
     "data": {
      "application/vnd.jupyter.widget-view+json": {
       "model_id": "",
       "version_major": 2,
       "version_minor": 0
      },
      "text/plain": [
       "VBox(children=(Label(value=' 0.00MB of 0.00MB uploaded (0.00MB deduped)\\r'), FloatProgress(value=1.0, max=1.0)…"
      ]
     },
     "metadata": {},
     "output_type": "display_data"
    },
    {
     "data": {
      "text/html": [
       "<style>\n",
       "    table.wandb td:nth-child(1) { padding: 0 10px; text-align: right }\n",
       "    .wandb-row { display: flex; flex-direction: row; flex-wrap: wrap; width: 100% }\n",
       "    .wandb-col { display: flex; flex-direction: column; flex-basis: 100%; flex: 1; padding: 10px; }\n",
       "    </style>\n",
       "<div class=\"wandb-row\"><div class=\"wandb-col\">\n",
       "<h3>Run history:</h3><br/><table class=\"wandb\"><tr><td>reward</td><td>▂▅▃▁▃█</td></tr><tr><td>step</td><td>▁▃▅▆█</td></tr></table><br/></div><div class=\"wandb-col\">\n",
       "<h3>Run summary:</h3><br/><table class=\"wandb\"><tr><td>reward</td><td>234.203</td></tr><tr><td>step</td><td>500</td></tr></table>\n",
       "</div></div>\n",
       "Synced 5 W&B file(s), 0 media file(s), 0 artifact file(s) and 1 other file(s)\n",
       "<br/>Synced <strong style=\"color:#cdcd00\">gentle-sweep-16</strong>: <a href=\"https://wandb.ai/kankan-jana/RL_Assignment2/runs/06w2yd4h\" target=\"_blank\">https://wandb.ai/kankan-jana/RL_Assignment2/runs/06w2yd4h</a><br/>\n",
       "Find logs at: <code>.\\wandb\\run-20220330_170739-06w2yd4h\\logs</code><br/>\n"
      ],
      "text/plain": [
       "<IPython.core.display.HTML object>"
      ]
     },
     "metadata": {},
     "output_type": "display_data"
    },
    {
     "name": "stderr",
     "output_type": "stream",
     "text": [
      "\u001b[34m\u001b[1mwandb\u001b[0m: Agent Starting Run: 0u2yt02d with config:\n",
      "\u001b[34m\u001b[1mwandb\u001b[0m: \tLR: 0.0001\n",
      "\u001b[34m\u001b[1mwandb\u001b[0m: \tbatch_size: 64\n",
      "\u001b[34m\u001b[1mwandb\u001b[0m: \tbuffer_size: 100000\n",
      "\u001b[34m\u001b[1mwandb\u001b[0m: \tfc1_units: 64\n",
      "\u001b[34m\u001b[1mwandb\u001b[0m: \tfc2_units: 64\n",
      "\u001b[34m\u001b[1mwandb\u001b[0m: \tgamma: 0.5\n",
      "\u001b[34m\u001b[1mwandb\u001b[0m: \tmethod: softmax\n",
      "\u001b[34m\u001b[1mwandb\u001b[0m: \tn_episodes: 500\n",
      "\u001b[34m\u001b[1mwandb\u001b[0m: \toptimizer: adam\n",
      "\u001b[34m\u001b[1mwandb\u001b[0m: \ttemperature: 0.001\n",
      "Failed to detect the name of this notebook, you can set it manually with the WANDB_NOTEBOOK_NAME environment variable to enable code saving.\n"
     ]
    },
    {
     "data": {
      "text/html": [
       "\n",
       "                    Syncing run <strong><a href=\"https://wandb.ai/kankan-jana/RL_Assignment2/runs/0u2yt02d\" target=\"_blank\">polished-sweep-17</a></strong> to <a href=\"https://wandb.ai/kankan-jana/RL_Assignment2\" target=\"_blank\">Weights & Biases</a> (<a href=\"https://docs.wandb.com/integrations/jupyter.html\" target=\"_blank\">docs</a>).<br/>\n",
       "Sweep page: <a href=\"https://wandb.ai/kankan-jana/RL_Assignment2/sweeps/13vjeuy9\" target=\"_blank\">https://wandb.ai/kankan-jana/RL_Assignment2/sweeps/13vjeuy9</a><br/>\n",
       "\n",
       "                "
      ],
      "text/plain": [
       "<IPython.core.display.HTML object>"
      ]
     },
     "metadata": {},
     "output_type": "display_data"
    },
    {
     "name": "stdout",
     "output_type": "stream",
     "text": [
      "Episode 100\tAverage Score: 44.69\n",
      "Episode 200\tAverage Score: 118.76\n",
      "Episode 300\tAverage Score: 36.736\n",
      "Episode 400\tAverage Score: 84.57\n",
      "Episode 496\tAverage Score: 212.59"
     ]
    },
    {
     "name": "stderr",
     "output_type": "stream",
     "text": [
      "\u001b[34m\u001b[1mwandb\u001b[0m: Network error (ConnectionError), entering retry loop.\n"
     ]
    },
    {
     "name": "stdout",
     "output_type": "stream",
     "text": [
      "Episode 500\tAverage Score: 232.16\n"
     ]
    },
    {
     "data": {
      "text/html": [
       "<br/>Waiting for W&B process to finish, PID 5520... <strong style=\"color:green\">(success).</strong>"
      ],
      "text/plain": [
       "<IPython.core.display.HTML object>"
      ]
     },
     "metadata": {},
     "output_type": "display_data"
    },
    {
     "data": {
      "application/vnd.jupyter.widget-view+json": {
       "model_id": "",
       "version_major": 2,
       "version_minor": 0
      },
      "text/plain": [
       "VBox(children=(Label(value=' 0.00MB of 0.00MB uploaded (0.00MB deduped)\\r'), FloatProgress(value=1.0, max=1.0)…"
      ]
     },
     "metadata": {},
     "output_type": "display_data"
    },
    {
     "data": {
      "text/html": [
       "<style>\n",
       "    table.wandb td:nth-child(1) { padding: 0 10px; text-align: right }\n",
       "    .wandb-row { display: flex; flex-direction: row; flex-wrap: wrap; width: 100% }\n",
       "    .wandb-col { display: flex; flex-direction: column; flex-basis: 100%; flex: 1; padding: 10px; }\n",
       "    </style>\n",
       "<div class=\"wandb-row\"><div class=\"wandb-col\">\n",
       "<h3>Run history:</h3><br/><table class=\"wandb\"><tr><td>reward</td><td>▁▄▁▃▇█</td></tr><tr><td>step</td><td>▁▃▅▆█</td></tr></table><br/></div><div class=\"wandb-col\">\n",
       "<h3>Run summary:</h3><br/><table class=\"wandb\"><tr><td>reward</td><td>251.691</td></tr><tr><td>step</td><td>500</td></tr></table>\n",
       "</div></div>\n",
       "Synced 5 W&B file(s), 0 media file(s), 0 artifact file(s) and 1 other file(s)\n",
       "<br/>Synced <strong style=\"color:#cdcd00\">polished-sweep-17</strong>: <a href=\"https://wandb.ai/kankan-jana/RL_Assignment2/runs/0u2yt02d\" target=\"_blank\">https://wandb.ai/kankan-jana/RL_Assignment2/runs/0u2yt02d</a><br/>\n",
       "Find logs at: <code>.\\wandb\\run-20220330_172027-0u2yt02d\\logs</code><br/>\n"
      ],
      "text/plain": [
       "<IPython.core.display.HTML object>"
      ]
     },
     "metadata": {},
     "output_type": "display_data"
    },
    {
     "name": "stderr",
     "output_type": "stream",
     "text": [
      "\u001b[34m\u001b[1mwandb\u001b[0m: Agent Starting Run: 0mo2s5ry with config:\n",
      "\u001b[34m\u001b[1mwandb\u001b[0m: \tLR: 0.0001\n",
      "\u001b[34m\u001b[1mwandb\u001b[0m: \tbatch_size: 64\n",
      "\u001b[34m\u001b[1mwandb\u001b[0m: \tbuffer_size: 100000\n",
      "\u001b[34m\u001b[1mwandb\u001b[0m: \tfc1_units: 64\n",
      "\u001b[34m\u001b[1mwandb\u001b[0m: \tfc2_units: 64\n",
      "\u001b[34m\u001b[1mwandb\u001b[0m: \tgamma: 0.5\n",
      "\u001b[34m\u001b[1mwandb\u001b[0m: \tmethod: softmax\n",
      "\u001b[34m\u001b[1mwandb\u001b[0m: \tn_episodes: 500\n",
      "\u001b[34m\u001b[1mwandb\u001b[0m: \toptimizer: adam\n",
      "\u001b[34m\u001b[1mwandb\u001b[0m: \ttemperature: 0.9\n",
      "Failed to detect the name of this notebook, you can set it manually with the WANDB_NOTEBOOK_NAME environment variable to enable code saving.\n",
      "\u001b[34m\u001b[1mwandb\u001b[0m: wandb version 0.12.11 is available!  To upgrade, please run:\n",
      "\u001b[34m\u001b[1mwandb\u001b[0m:  $ pip install wandb --upgrade\n"
     ]
    },
    {
     "data": {
      "text/html": [
       "\n",
       "                    Syncing run <strong><a href=\"https://wandb.ai/kankan-jana/RL_Assignment2/runs/0mo2s5ry\" target=\"_blank\">wise-sweep-18</a></strong> to <a href=\"https://wandb.ai/kankan-jana/RL_Assignment2\" target=\"_blank\">Weights & Biases</a> (<a href=\"https://docs.wandb.com/integrations/jupyter.html\" target=\"_blank\">docs</a>).<br/>\n",
       "Sweep page: <a href=\"https://wandb.ai/kankan-jana/RL_Assignment2/sweeps/13vjeuy9\" target=\"_blank\">https://wandb.ai/kankan-jana/RL_Assignment2/sweeps/13vjeuy9</a><br/>\n",
       "\n",
       "                "
      ],
      "text/plain": [
       "<IPython.core.display.HTML object>"
      ]
     },
     "metadata": {},
     "output_type": "display_data"
    },
    {
     "name": "stdout",
     "output_type": "stream",
     "text": [
      "Episode 100\tAverage Score: 45.90\n",
      "Episode 200\tAverage Score: 114.36\n",
      "Episode 300\tAverage Score: 49.848\n",
      "Episode 400\tAverage Score: 75.45\n",
      "Episode 500\tAverage Score: 124.65\n"
     ]
    },
    {
     "data": {
      "text/html": [
       "<br/>Waiting for W&B process to finish, PID 28188... <strong style=\"color:green\">(success).</strong>"
      ],
      "text/plain": [
       "<IPython.core.display.HTML object>"
      ]
     },
     "metadata": {},
     "output_type": "display_data"
    },
    {
     "data": {
      "application/vnd.jupyter.widget-view+json": {
       "model_id": "",
       "version_major": 2,
       "version_minor": 0
      },
      "text/plain": [
       "VBox(children=(Label(value=' 0.00MB of 0.00MB uploaded (0.00MB deduped)\\r'), FloatProgress(value=1.0, max=1.0)…"
      ]
     },
     "metadata": {},
     "output_type": "display_data"
    },
    {
     "data": {
      "text/html": [
       "<style>\n",
       "    table.wandb td:nth-child(1) { padding: 0 10px; text-align: right }\n",
       "    .wandb-row { display: flex; flex-direction: row; flex-wrap: wrap; width: 100% }\n",
       "    .wandb-col { display: flex; flex-direction: column; flex-basis: 100%; flex: 1; padding: 10px; }\n",
       "    </style>\n",
       "<div class=\"wandb-row\"><div class=\"wandb-col\">\n",
       "<h3>Run history:</h3><br/><table class=\"wandb\"><tr><td>reward</td><td>▁▃▁▂▄█</td></tr><tr><td>step</td><td>▁▃▅▆█</td></tr></table><br/></div><div class=\"wandb-col\">\n",
       "<h3>Run summary:</h3><br/><table class=\"wandb\"><tr><td>reward</td><td>241.02</td></tr><tr><td>step</td><td>500</td></tr></table>\n",
       "</div></div>\n",
       "Synced 5 W&B file(s), 0 media file(s), 0 artifact file(s) and 1 other file(s)\n",
       "<br/>Synced <strong style=\"color:#cdcd00\">wise-sweep-18</strong>: <a href=\"https://wandb.ai/kankan-jana/RL_Assignment2/runs/0mo2s5ry\" target=\"_blank\">https://wandb.ai/kankan-jana/RL_Assignment2/runs/0mo2s5ry</a><br/>\n",
       "Find logs at: <code>.\\wandb\\run-20220330_175705-0mo2s5ry\\logs</code><br/>\n"
      ],
      "text/plain": [
       "<IPython.core.display.HTML object>"
      ]
     },
     "metadata": {},
     "output_type": "display_data"
    },
    {
     "name": "stderr",
     "output_type": "stream",
     "text": [
      "\u001b[34m\u001b[1mwandb\u001b[0m: Agent Starting Run: bm1p87eh with config:\n",
      "\u001b[34m\u001b[1mwandb\u001b[0m: \tLR: 0.0001\n",
      "\u001b[34m\u001b[1mwandb\u001b[0m: \tbatch_size: 64\n",
      "\u001b[34m\u001b[1mwandb\u001b[0m: \tbuffer_size: 100000\n",
      "\u001b[34m\u001b[1mwandb\u001b[0m: \tfc1_units: 128\n",
      "\u001b[34m\u001b[1mwandb\u001b[0m: \tfc2_units: 128\n",
      "\u001b[34m\u001b[1mwandb\u001b[0m: \tgamma: 0.5\n",
      "\u001b[34m\u001b[1mwandb\u001b[0m: \tmethod: softmax\n",
      "\u001b[34m\u001b[1mwandb\u001b[0m: \tn_episodes: 500\n",
      "\u001b[34m\u001b[1mwandb\u001b[0m: \toptimizer: adam\n",
      "\u001b[34m\u001b[1mwandb\u001b[0m: \ttemperature: 0.001\n",
      "Failed to detect the name of this notebook, you can set it manually with the WANDB_NOTEBOOK_NAME environment variable to enable code saving.\n"
     ]
    },
    {
     "data": {
      "text/html": [
       "\n",
       "                    Syncing run <strong><a href=\"https://wandb.ai/kankan-jana/RL_Assignment2/runs/bm1p87eh\" target=\"_blank\">soft-sweep-19</a></strong> to <a href=\"https://wandb.ai/kankan-jana/RL_Assignment2\" target=\"_blank\">Weights & Biases</a> (<a href=\"https://docs.wandb.com/integrations/jupyter.html\" target=\"_blank\">docs</a>).<br/>\n",
       "Sweep page: <a href=\"https://wandb.ai/kankan-jana/RL_Assignment2/sweeps/13vjeuy9\" target=\"_blank\">https://wandb.ai/kankan-jana/RL_Assignment2/sweeps/13vjeuy9</a><br/>\n",
       "\n",
       "                "
      ],
      "text/plain": [
       "<IPython.core.display.HTML object>"
      ]
     },
     "metadata": {},
     "output_type": "display_data"
    },
    {
     "name": "stdout",
     "output_type": "stream",
     "text": [
      "Episode 100\tAverage Score: 47.61\n",
      "Episode 170\tAverage Score: 121.14"
     ]
    }
   ],
   "source": [
    "sweep_id = wandb.sweep(sweep_config, entity=\"kankan-jana\", project=\"RL_Assignment2\")\n",
    "wandb.agent(sweep_id, trainCartPoleSoftmax)"
   ]
  },
  {
   "cell_type": "code",
   "execution_count": 96,
   "metadata": {},
   "outputs": [
    {
     "name": "stdout",
     "output_type": "stream",
     "text": [
      "start experiment1\n",
      "Episode 100\tAverage Score: 79.91\n",
      "Episode 200\tAverage Score: 340.17\n",
      "Episode 300\tAverage Score: 287.69\n",
      "Episode 400\tAverage Score: 308.19\n",
      "Episode 500\tAverage Score: 24.520\n",
      "Episode 600\tAverage Score: 26.13\n",
      "Episode 700\tAverage Score: 16.08\n",
      "Episode 800\tAverage Score: 47.23\n",
      "Episode 900\tAverage Score: 28.75\n",
      "Episode 1000\tAverage Score: 9.72\n",
      "0:13:58.879226\n",
      "Complete experiment1\n",
      "start experiment2\n",
      "Episode 100\tAverage Score: 79.91\n",
      "Episode 200\tAverage Score: 340.17\n",
      "Episode 300\tAverage Score: 287.69\n",
      "Episode 400\tAverage Score: 308.19\n",
      "Episode 500\tAverage Score: 24.520\n",
      "Episode 600\tAverage Score: 26.13\n",
      "Episode 700\tAverage Score: 16.08\n",
      "Episode 800\tAverage Score: 47.23\n",
      "Episode 900\tAverage Score: 28.75\n",
      "Episode 1000\tAverage Score: 9.72\n",
      "0:11:49.166121\n",
      "Complete experiment2\n",
      "start experiment3\n",
      "Episode 100\tAverage Score: 79.91\n",
      "Episode 200\tAverage Score: 340.17\n",
      "Episode 300\tAverage Score: 287.69\n",
      "Episode 400\tAverage Score: 308.19\n",
      "Episode 500\tAverage Score: 24.520\n",
      "Episode 600\tAverage Score: 26.13\n",
      "Episode 700\tAverage Score: 16.08\n",
      "Episode 800\tAverage Score: 47.23\n",
      "Episode 900\tAverage Score: 28.75\n",
      "Episode 1000\tAverage Score: 9.72\n",
      "0:11:26.715253\n",
      "Complete experiment3\n",
      "start experiment4\n",
      "Episode 100\tAverage Score: 79.91\n",
      "Episode 200\tAverage Score: 340.17\n",
      "Episode 300\tAverage Score: 287.69\n",
      "Episode 400\tAverage Score: 308.19\n",
      "Episode 500\tAverage Score: 24.520\n",
      "Episode 600\tAverage Score: 26.13\n",
      "Episode 700\tAverage Score: 16.08\n",
      "Episode 800\tAverage Score: 47.23\n",
      "Episode 900\tAverage Score: 28.75\n",
      "Episode 1000\tAverage Score: 9.72\n",
      "0:11:12.566820\n",
      "Complete experiment4\n",
      "start experiment5\n",
      "Episode 100\tAverage Score: 79.91\n",
      "Episode 200\tAverage Score: 340.17\n",
      "Episode 300\tAverage Score: 287.69\n",
      "Episode 400\tAverage Score: 308.19\n",
      "Episode 500\tAverage Score: 24.520\n",
      "Episode 600\tAverage Score: 26.13\n",
      "Episode 700\tAverage Score: 16.08\n",
      "Episode 800\tAverage Score: 47.23\n",
      "Episode 900\tAverage Score: 28.75\n",
      "Episode 1000\tAverage Score: 9.72\n",
      "0:11:10.395743\n",
      "Complete experiment5\n",
      "start experiment6\n",
      "Episode 100\tAverage Score: 79.91\n",
      "Episode 200\tAverage Score: 340.17\n",
      "Episode 300\tAverage Score: 287.69\n",
      "Episode 400\tAverage Score: 308.19\n",
      "Episode 500\tAverage Score: 24.520\n",
      "Episode 600\tAverage Score: 26.13\n",
      "Episode 700\tAverage Score: 16.08\n",
      "Episode 800\tAverage Score: 47.23\n",
      "Episode 900\tAverage Score: 28.75\n",
      "Episode 1000\tAverage Score: 9.72\n",
      "0:10:59.310417\n",
      "Complete experiment6\n",
      "start experiment7\n",
      "Episode 100\tAverage Score: 79.91\n",
      "Episode 200\tAverage Score: 340.17\n",
      "Episode 300\tAverage Score: 287.69\n",
      "Episode 400\tAverage Score: 308.19\n",
      "Episode 500\tAverage Score: 24.520\n",
      "Episode 600\tAverage Score: 26.13\n",
      "Episode 700\tAverage Score: 16.08\n",
      "Episode 800\tAverage Score: 47.23\n",
      "Episode 900\tAverage Score: 28.75\n",
      "Episode 1000\tAverage Score: 9.72\n",
      "0:11:08.678239\n",
      "Complete experiment7\n",
      "start experiment8\n",
      "Episode 100\tAverage Score: 79.91\n",
      "Episode 200\tAverage Score: 340.17\n",
      "Episode 300\tAverage Score: 287.69\n",
      "Episode 400\tAverage Score: 308.19\n",
      "Episode 500\tAverage Score: 24.520\n",
      "Episode 600\tAverage Score: 26.13\n",
      "Episode 700\tAverage Score: 16.08\n",
      "Episode 800\tAverage Score: 47.23\n",
      "Episode 900\tAverage Score: 28.75\n",
      "Episode 1000\tAverage Score: 9.72\n",
      "0:11:02.746319\n",
      "Complete experiment8\n",
      "start experiment9\n",
      "Episode 100\tAverage Score: 79.91\n",
      "Episode 200\tAverage Score: 340.17\n",
      "Episode 300\tAverage Score: 287.69\n",
      "Episode 400\tAverage Score: 308.19\n",
      "Episode 500\tAverage Score: 24.520\n",
      "Episode 600\tAverage Score: 26.13\n",
      "Episode 700\tAverage Score: 16.08\n",
      "Episode 800\tAverage Score: 47.23\n",
      "Episode 900\tAverage Score: 28.75\n",
      "Episode 1000\tAverage Score: 9.72\n",
      "0:11:04.132212\n",
      "Complete experiment9\n",
      "start experiment10\n",
      "Episode 100\tAverage Score: 79.91\n",
      "Episode 200\tAverage Score: 340.17\n",
      "Episode 300\tAverage Score: 287.69\n",
      "Episode 400\tAverage Score: 308.19\n",
      "Episode 500\tAverage Score: 24.520\n",
      "Episode 600\tAverage Score: 26.13\n",
      "Episode 700\tAverage Score: 16.08\n",
      "Episode 800\tAverage Score: 47.23\n",
      "Episode 900\tAverage Score: 28.75\n",
      "Episode 1000\tAverage Score: 9.72\n",
      "0:11:40.765793\n",
      "Complete experiment10\n"
     ]
    }
   ],
   "source": [
    "'''\n",
    "Bunch of Hyper parameters (Which you might have to tune later **wink wink**)\n",
    "'''\n",
    "BUFFER_SIZE = int(1e5)  #''' replay buffer size '''\n",
    "BATCH_SIZE =128       #''' minibatch size '''\n",
    "GAMMA = 0.99            #''' discount factor '''\n",
    "LR = 5e-4               #''' learning rate '''\n",
    "UPDATE_EVERY = 20       #''' how often to update the network (When Q target is present) '''\n",
    "fc1_units=64\n",
    "fc1_units=64\n",
    "eps_decay=0.9\n",
    "detailsconfig1avg=[]\n",
    "detailsconfig1=[]\n",
    "stepsconfig1=[]\n",
    "n_episodes=1000\n",
    "\n",
    "temperature=0.9\n",
    "method='epsilon'\n",
    "for i in range(10):\n",
    "  print('start experiment'+str(i+1))\n",
    "  env = gym.make('CartPole-v1')\n",
    "  env.seed(0)\n",
    "  state_shape = env.observation_space.shape[0]\n",
    "  no_of_actions = env.action_space.n\n",
    "  state = env.reset()   \n",
    "  begin_time = datetime.datetime.now()\n",
    "  agent = Agent(state_size=state_shape,action_size = action_shape,seed = 0,\\\n",
    "               fc1_units=fc1_units, fc2_units=fc2_units,optimizer='adam')\n",
    "  details1avg,details1,steps=dqn(agent=agent,n_episodes=n_episodes,method=method,\\\n",
    "                      buffer_size =BUFFER_SIZE,\\\n",
    "                      batch_size = BATCH_SIZE ,gamma = GAMMA,\\\n",
    "                      LR = LR,update_every = UPDATE_EVERY,\\\n",
    "                      eps_decay=eps_decay,scoreThreshold=env.spec.reward_threshold)#,temperature=0.9)\n",
    "\n",
    "  time_taken = datetime.datetime.now() - begin_time\n",
    "  detailsconfig1.append(details1)\n",
    "  detailsconfig1avg.append(details1avg)\n",
    "  stepsconfig1.append(steps)\n",
    "\n",
    "  print(time_taken)\n",
    "  print('Complete experiment'+str(i+1))"
   ]
  },
  {
   "cell_type": "code",
   "execution_count": 97,
   "metadata": {},
   "outputs": [
    {
     "data": {
      "image/png": "[encoded data removed]",
      "text/plain": [
       "<Figure size 432x288 with 1 Axes>"
      ]
     },
     "metadata": {
      "needs_background": "light"
     },
     "output_type": "display_data"
    },
    {
     "data": {
      "image/png": "[encoded data removed]",
      "text/plain": [
       "<Figure size 432x288 with 1 Axes>"
      ]
     },
     "metadata": {
      "needs_background": "light"
     },
     "output_type": "display_data"
    }
   ],
   "source": [
    "\n",
    "detailsAfig1__ = [sum(sub_list) / len(sub_list) for sub_list in zip(*detailsconfig1)]\n",
    "stepsconfig1__=[sum(sub_list) / len(sub_list) for sub_list in zip(*stepsconfig1)]\n",
    "detailsconfig1avg__ =[sum(sub_list) / len(sub_list) for sub_list in zip(*detailsconfig1avg)]\n",
    "\n",
    "\n",
    "plt.xlabel('Episode')\n",
    "plt.ylabel('Steps')\n",
    "plt.plot(np.arange(len(stepsconfig1__))*10,stepsconfig1__,LABEL='cartpole_epsilon_epsdecay_0.9')\n",
    "plt.legend()\n",
    "plt.show()\n",
    "\n",
    "plt.xlabel('Episode')\n",
    "plt.ylabel('Avarage  Rewards')\n",
    "plt.plot(np.arange(len(detailsconfig1avg__[0]))*10,detailsconfig1avg__[0],LABEL='cartpole_epsilon_epsdecay_0.9')\n",
    "\n",
    "plt.legend()\n",
    "plt.show()\n",
    "\n"
   ]
  },
  {
   "cell_type": "code",
   "execution_count": 89,
   "metadata": {},
   "outputs": [
    {
     "name": "stdout",
     "output_type": "stream",
     "text": [
      "start experiment1\n",
      "Episode 100\tAverage Score: 28.79\n",
      "Episode 200\tAverage Score: 443.75\n",
      "Episode 211\tAverage Score: 477.30\n",
      "Environment solved in 111 episodes!\tAverage Score: 477.30\n",
      "0:07:07.431233\n",
      "Complete experiment1\n",
      "start experiment2\n",
      "Episode 100\tAverage Score: 28.79\n",
      "Episode 200\tAverage Score: 443.75\n",
      "Episode 211\tAverage Score: 477.30\n",
      "Environment solved in 111 episodes!\tAverage Score: 477.30\n",
      "0:08:15.766937\n",
      "Complete experiment2\n",
      "start experiment3\n",
      "Episode 100\tAverage Score: 28.79\n",
      "Episode 200\tAverage Score: 443.75\n",
      "Episode 211\tAverage Score: 477.30\n",
      "Environment solved in 111 episodes!\tAverage Score: 477.30\n",
      "0:08:25.052415\n",
      "Complete experiment3\n",
      "start experiment4\n",
      "Episode 100\tAverage Score: 28.79\n",
      "Episode 200\tAverage Score: 443.75\n",
      "Episode 211\tAverage Score: 477.30\n",
      "Environment solved in 111 episodes!\tAverage Score: 477.30\n",
      "0:06:50.665469\n",
      "Complete experiment4\n",
      "start experiment5\n",
      "Episode 100\tAverage Score: 28.79\n",
      "Episode 200\tAverage Score: 443.75\n",
      "Episode 211\tAverage Score: 477.30\n",
      "Environment solved in 111 episodes!\tAverage Score: 477.30\n",
      "0:06:09.451526\n",
      "Complete experiment5\n",
      "start experiment6\n",
      "Episode 100\tAverage Score: 28.79\n",
      "Episode 200\tAverage Score: 443.75\n",
      "Episode 211\tAverage Score: 477.30\n",
      "Environment solved in 111 episodes!\tAverage Score: 477.30\n",
      "0:06:26.524948\n",
      "Complete experiment6\n",
      "start experiment7\n",
      "Episode 100\tAverage Score: 28.79\n",
      "Episode 200\tAverage Score: 443.75\n",
      "Episode 211\tAverage Score: 477.30\n",
      "Environment solved in 111 episodes!\tAverage Score: 477.30\n",
      "0:05:48.051519\n",
      "Complete experiment7\n",
      "start experiment8\n",
      "Episode 100\tAverage Score: 28.79\n",
      "Episode 200\tAverage Score: 443.75\n",
      "Episode 211\tAverage Score: 477.30\n",
      "Environment solved in 111 episodes!\tAverage Score: 477.30\n",
      "0:05:23.257829\n",
      "Complete experiment8\n",
      "start experiment9\n",
      "Episode 100\tAverage Score: 28.79\n",
      "Episode 200\tAverage Score: 443.75\n",
      "Episode 211\tAverage Score: 477.30\n",
      "Environment solved in 111 episodes!\tAverage Score: 477.30\n",
      "0:05:10.965519\n",
      "Complete experiment9\n",
      "start experiment10\n",
      "Episode 100\tAverage Score: 28.79\n",
      "Episode 200\tAverage Score: 443.75\n",
      "Episode 211\tAverage Score: 477.30\n",
      "Environment solved in 111 episodes!\tAverage Score: 477.30\n",
      "0:05:10.326349\n",
      "Complete experiment10\n"
     ]
    }
   ],
   "source": [
    "'''\n",
    "Bunch of Hyper parameters (Which you might have to tune later **wink wink**)\n",
    "'''\n",
    "BUFFER_SIZE = int(1e5)  #''' replay buffer size '''\n",
    "BATCH_SIZE =128         #''' minibatch size '''\n",
    "GAMMA = 0.99            #''' discount factor '''\n",
    "LR = 5e-4               #''' learning rate '''\n",
    "UPDATE_EVERY = 20       #''' how often to update the network (When Q target is present) '''\n",
    "fc1_units=64\n",
    "fc1_units=64\n",
    "eps_decay=0.1\n",
    "detailsconfig1avg=[]\n",
    "detailsconfig1=[]\n",
    "stepsconfig1=[]\n",
    "n_episodes=1000\n",
    "\n",
    "temperature=0.9\n",
    "method='epsilon'\n",
    "for i in range(10):\n",
    "  print('start experiment'+str(i+1))\n",
    "  env = gym.make('CartPole-v1')\n",
    "  env.seed(0)\n",
    "  state_shape = env.observation_space.shape[0]\n",
    "  no_of_actions = env.action_space.n\n",
    "  state = env.reset()   \n",
    "  begin_time = datetime.datetime.now()\n",
    "  agent = Agent(state_size=state_shape,action_size = action_shape,seed = 0,\\\n",
    "               fc1_units=fc1_units, fc2_units=fc2_units,optimizer='adam')\n",
    "  details1avg,details1,steps=dqn(agent=agent,n_episodes=n_episodes,method=method,\\\n",
    "                      buffer_size =BUFFER_SIZE,\\\n",
    "                      batch_size = BATCH_SIZE ,gamma = GAMMA,\\\n",
    "                      LR = LR,update_every = UPDATE_EVERY,\\\n",
    "                      eps_decay=eps_decay,scoreThreshold=env.spec.reward_threshold)#,temperature=0.9)\n",
    "\n",
    "  time_taken = datetime.datetime.now() - begin_time\n",
    "  detailsconfig1.append(details1)\n",
    "  detailsconfig1avg.append(details1avg)\n",
    "  stepsconfig1.append(steps)\n",
    "\n",
    "  print(time_taken)\n",
    "  print('Complete experiment'+str(i+1))"
   ]
  },
  {
   "cell_type": "code",
   "execution_count": 92,
   "metadata": {},
   "outputs": [
    {
     "data": {
      "image/png": "[encoded data removed]",
      "text/plain": [
       "<Figure size 432x288 with 1 Axes>"
      ]
     },
     "metadata": {
      "needs_background": "light"
     },
     "output_type": "display_data"
    },
    {
     "data": {
      "image/png": "[encoded data removed]",
      "text/plain": [
       "<Figure size 432x288 with 1 Axes>"
      ]
     },
     "metadata": {
      "needs_background": "light"
     },
     "output_type": "display_data"
    }
   ],
   "source": [
    "\n",
    "detailsAfig1_ = [sum(sub_list) / len(sub_list) for sub_list in zip(*detailsconfig1)]\n",
    "stepsconfig1_=[sum(sub_list) / len(sub_list) for sub_list in zip(*stepsconfig1)]\n",
    "detailsconfig1avg_ =[sum(sub_list) / len(sub_list) for sub_list in zip(*detailsconfig1avg)]\n",
    "\n",
    "\n",
    "plt.xlabel('Episode')\n",
    "plt.ylabel('Steps')\n",
    "plt.plot(np.arange(len(stepsconfig1_))*10,stepsconfig1_,LABEL='cartpole_epsilon_epsdecay_0.1')\n",
    "plt.legend()\n",
    "plt.show()\n",
    "\n",
    "plt.xlabel('Episode')\n",
    "plt.ylabel('Avarage  Rewards')\n",
    "plt.plot(np.arange(len(detailsconfig1avg_[0]))*10,detailsconfig1avg_[0],LABEL='cartpole_epsilon_epsdecay_0.1')\n",
    "\n",
    "plt.legend()\n",
    "plt.show()\n",
    "\n"
   ]
  },
  {
   "cell_type": "code",
   "execution_count": null,
   "metadata": {},
   "outputs": [],
   "source": []
  },
  {
   "cell_type": "code",
   "execution_count": 98,
   "metadata": {},
   "outputs": [
    {
     "data": {
      "image/png": "[encoded data removed]",
      "text/plain": [
       "<Figure size 432x288 with 1 Axes>"
      ]
     },
     "metadata": {
      "needs_background": "light"
     },
     "output_type": "display_data"
    },
    {
     "data": {
      "image/png": "[encoded data removed]",
      "text/plain": [
       "<Figure size 432x288 with 1 Axes>"
      ]
     },
     "metadata": {
      "needs_background": "light"
     },
     "output_type": "display_data"
    }
   ],
   "source": [
    "\n",
    "\n",
    "\n",
    "plt.xlabel('Episode')\n",
    "plt.ylabel('Steps')\n",
    "plt.plot(np.arange(len(stepsconfig1__))*10,stepsconfig1__,LABEL='cartpole_epsilon_epsdecay_0.9')\n",
    "plt.plot(np.arange(len(stepsconfig1_))*10,stepsconfig1_,LABEL='cartpole_epsilon_epsdecay_0.1')\n",
    "plt.legend()\n",
    "plt.show()\n",
    "\n",
    "plt.xlabel('Episode')\n",
    "plt.ylabel('Avarage  Rewards')\n",
    "plt.plot(np.arange(len(detailsconfig1avg__[0]))*10,detailsconfig1avg__[0],LABEL='cartpole_epsilon_epsdecay_0.9')\n",
    "plt.plot(np.arange(len(detailsconfig1avg_[0]))*10,detailsconfig1avg_[0],LABEL='cartpole_epsilon_epsdecay_0.1')\n",
    "\n",
    "plt.legend()\n",
    "plt.show()\n",
    "\n"
   ]
  },
  {
   "cell_type": "code",
   "execution_count": 106,
   "metadata": {},
   "outputs": [
    {
     "name": "stdout",
     "output_type": "stream",
     "text": [
      "start experiment1\n",
      "Episode 100\tAverage Score: 43.67\n",
      "Episode 200\tAverage Score: 166.76\n",
      "Episode 300\tAverage Score: 42.765\n",
      "Episode 400\tAverage Score: 80.69\n",
      "Episode 500\tAverage Score: 76.862\n",
      "Episode 600\tAverage Score: 75.55\n",
      "Episode 700\tAverage Score: 81.919\n",
      "Episode 800\tAverage Score: 159.86\n",
      "Episode 900\tAverage Score: 80.123\n",
      "Episode 1000\tAverage Score: 125.08\n",
      "0:11:13.056198\n",
      "Complete experiment1\n",
      "start experiment2\n",
      "Episode 100\tAverage Score: 43.67\n",
      "Episode 200\tAverage Score: 166.76\n",
      "Episode 300\tAverage Score: 42.765\n",
      "Episode 400\tAverage Score: 80.69\n",
      "Episode 500\tAverage Score: 76.862\n",
      "Episode 600\tAverage Score: 75.55\n",
      "Episode 700\tAverage Score: 81.919\n",
      "Episode 800\tAverage Score: 159.86\n",
      "Episode 900\tAverage Score: 80.123\n",
      "Episode 1000\tAverage Score: 125.08\n",
      "0:11:21.179393\n",
      "Complete experiment2\n",
      "start experiment3\n",
      "Episode 100\tAverage Score: 43.67\n",
      "Episode 200\tAverage Score: 166.76\n",
      "Episode 300\tAverage Score: 42.765\n",
      "Episode 400\tAverage Score: 80.69\n",
      "Episode 500\tAverage Score: 76.862\n",
      "Episode 600\tAverage Score: 75.55\n",
      "Episode 700\tAverage Score: 81.919\n",
      "Episode 800\tAverage Score: 159.86\n",
      "Episode 900\tAverage Score: 80.123\n",
      "Episode 1000\tAverage Score: 125.08\n",
      "0:10:58.227467\n",
      "Complete experiment3\n",
      "start experiment4\n",
      "Episode 100\tAverage Score: 43.67\n",
      "Episode 200\tAverage Score: 166.76\n",
      "Episode 300\tAverage Score: 42.765\n",
      "Episode 400\tAverage Score: 80.69\n",
      "Episode 500\tAverage Score: 76.862\n",
      "Episode 600\tAverage Score: 75.55\n",
      "Episode 700\tAverage Score: 81.919\n",
      "Episode 800\tAverage Score: 159.86\n",
      "Episode 900\tAverage Score: 80.123\n",
      "Episode 1000\tAverage Score: 125.08\n",
      "0:11:32.687748\n",
      "Complete experiment4\n",
      "start experiment5\n",
      "Episode 100\tAverage Score: 43.67\n",
      "Episode 200\tAverage Score: 166.76\n",
      "Episode 300\tAverage Score: 42.765\n",
      "Episode 400\tAverage Score: 80.69\n",
      "Episode 500\tAverage Score: 76.862\n",
      "Episode 600\tAverage Score: 75.55\n",
      "Episode 700\tAverage Score: 81.919\n",
      "Episode 800\tAverage Score: 159.86\n",
      "Episode 900\tAverage Score: 80.123\n",
      "Episode 1000\tAverage Score: 125.08\n",
      "0:22:44.698585\n",
      "Complete experiment5\n",
      "start experiment6\n",
      "Episode 100\tAverage Score: 43.67\n",
      "Episode 200\tAverage Score: 166.76\n",
      "Episode 300\tAverage Score: 42.765\n",
      "Episode 400\tAverage Score: 80.69\n",
      "Episode 500\tAverage Score: 76.862\n",
      "Episode 600\tAverage Score: 75.55\n",
      "Episode 700\tAverage Score: 81.919\n",
      "Episode 800\tAverage Score: 159.86\n",
      "Episode 900\tAverage Score: 80.123\n",
      "Episode 1000\tAverage Score: 125.08\n",
      "0:26:07.040078\n",
      "Complete experiment6\n",
      "start experiment7\n",
      "Episode 100\tAverage Score: 43.67\n",
      "Episode 200\tAverage Score: 166.76\n",
      "Episode 300\tAverage Score: 42.765\n",
      "Episode 400\tAverage Score: 80.69\n",
      "Episode 500\tAverage Score: 76.862\n",
      "Episode 600\tAverage Score: 75.55\n",
      "Episode 700\tAverage Score: 81.919\n",
      "Episode 800\tAverage Score: 159.86\n",
      "Episode 900\tAverage Score: 80.123\n",
      "Episode 1000\tAverage Score: 125.08\n",
      "0:23:42.735048\n",
      "Complete experiment7\n",
      "start experiment8\n",
      "Episode 100\tAverage Score: 43.67\n",
      "Episode 200\tAverage Score: 166.76\n",
      "Episode 300\tAverage Score: 42.765\n",
      "Episode 400\tAverage Score: 80.69\n",
      "Episode 500\tAverage Score: 76.862\n",
      "Episode 600\tAverage Score: 75.55\n",
      "Episode 700\tAverage Score: 81.919\n",
      "Episode 800\tAverage Score: 159.86\n",
      "Episode 900\tAverage Score: 80.123\n",
      "Episode 1000\tAverage Score: 125.08\n",
      "0:11:39.265829\n",
      "Complete experiment8\n",
      "start experiment9\n",
      "Episode 100\tAverage Score: 43.67\n",
      "Episode 200\tAverage Score: 166.76\n",
      "Episode 300\tAverage Score: 42.765\n",
      "Episode 400\tAverage Score: 80.69\n",
      "Episode 500\tAverage Score: 76.862\n",
      "Episode 600\tAverage Score: 75.55\n",
      "Episode 700\tAverage Score: 81.919\n",
      "Episode 800\tAverage Score: 159.86\n",
      "Episode 900\tAverage Score: 80.123\n",
      "Episode 1000\tAverage Score: 125.08\n",
      "0:17:36.027135\n",
      "Complete experiment9\n",
      "start experiment10\n",
      "Episode 100\tAverage Score: 43.67\n",
      "Episode 200\tAverage Score: 166.76\n",
      "Episode 300\tAverage Score: 42.765\n",
      "Episode 400\tAverage Score: 80.69\n",
      "Episode 500\tAverage Score: 76.862\n",
      "Episode 600\tAverage Score: 75.55\n",
      "Episode 700\tAverage Score: 81.919\n",
      "Episode 800\tAverage Score: 159.86\n",
      "Episode 900\tAverage Score: 80.123\n",
      "Episode 1000\tAverage Score: 125.08\n",
      "0:19:29.205423\n",
      "Complete experiment10\n"
     ]
    }
   ],
   "source": [
    "'''\n",
    "Bunch of Hyper parameters (Which you might have to tune later **wink wink**)\n",
    "'''\n",
    "BUFFER_SIZE = int(1e5)  #''' replay buffer size '''\n",
    "BATCH_SIZE =64         #''' minibatch size '''\n",
    "GAMMA = 0.99            #''' discount factor '''\n",
    "LR = 1e-4               #''' learning rate '''\n",
    "UPDATE_EVERY = 20       #''' how often to update the network (When Q target is present) '''\n",
    "fc1_units=64\n",
    "fc1_units=64\n",
    "eps_decay=0.5\n",
    "detailsconfig1avg=[]\n",
    "detailsconfig1=[]\n",
    "stepsconfig1=[]\n",
    "n_episodes=1000\n",
    "\n",
    "\n",
    "method='epsilon'\n",
    "for i in range(10):\n",
    "  print('start experiment'+str(i+1))\n",
    "  env = gym.make('CartPole-v1')\n",
    "  env.seed(0)\n",
    "  state_shape = env.observation_space.shape[0]\n",
    "  no_of_actions = env.action_space.n\n",
    "  state = env.reset()   \n",
    "  begin_time = datetime.datetime.now()\n",
    "  agent = Agent(state_size=state_shape,action_size = action_shape,seed = 0,\\\n",
    "               fc1_units=fc1_units, fc2_units=fc2_units,optimizer='adam')\n",
    "  details1avg,details1,steps=dqn(agent=agent,n_episodes=n_episodes,method=method,\\\n",
    "                      buffer_size =BUFFER_SIZE,\\\n",
    "                      batch_size = BATCH_SIZE ,gamma = GAMMA,\\\n",
    "                      LR = LR,update_every = UPDATE_EVERY,\\\n",
    "                      eps_decay=eps_decay,scoreThreshold=env.spec.reward_threshold)#,temperature=0.9)\n",
    "\n",
    "  time_taken = datetime.datetime.now() - begin_time\n",
    "  detailsconfig1.append(details1)\n",
    "  detailsconfig1avg.append(details1avg)\n",
    "  stepsconfig1.append(steps)\n",
    "\n",
    "  print(time_taken)\n",
    "  print('Complete experiment'+str(i+1))"
   ]
  },
  {
   "cell_type": "code",
   "execution_count": 109,
   "metadata": {},
   "outputs": [
    {
     "data": {
      "image/png": "[encoded data removed]",
      "text/plain": [
       "<Figure size 432x288 with 1 Axes>"
      ]
     },
     "metadata": {
      "needs_background": "light"
     },
     "output_type": "display_data"
    },
    {
     "data": {
      "image/png": "[encoded data removed]",
      "text/plain": [
       "<Figure size 432x288 with 1 Axes>"
      ]
     },
     "metadata": {
      "needs_background": "light"
     },
     "output_type": "display_data"
    }
   ],
   "source": [
    "\n",
    "detailsAfig1_1 = [sum(sub_list) / len(sub_list) for sub_list in zip(*detailsconfig1)]\n",
    "stepsconfig1_1=[sum(sub_list) / len(sub_list) for sub_list in zip(*stepsconfig1)]\n",
    "detailsconfig1avg_1 =[sum(sub_list) / len(sub_list) for sub_list in zip(*detailsconfig1avg)]\n",
    "\n",
    "\n",
    "plt.xlabel('Episode')\n",
    "plt.ylabel('Steps')\n",
    "plt.plot(np.arange(len(stepsconfig1_1))*10,stepsconfig1_1,LABEL='cartpole_epsilon_epsdecay_0.5')\n",
    "plt.legend()\n",
    "plt.show()\n",
    "\n",
    "plt.xlabel('Episode')\n",
    "plt.ylabel('Avarage  Rewards')\n",
    "plt.plot(np.arange(len(detailsconfig1avg_1[0]))*10,detailsconfig1avg_1[0],LABEL='cartpole_epsilon_epsdecay_0.5')\n",
    "\n",
    "plt.legend()\n",
    "plt.show()\n",
    "\n"
   ]
  },
  {
   "cell_type": "code",
   "execution_count": 113,
   "metadata": {},
   "outputs": [
    {
     "name": "stdout",
     "output_type": "stream",
     "text": [
      "start experiment1\n",
      "Episode 100\tAverage Score: 84.33\n",
      "Episode 200\tAverage Score: 83.354\n",
      "Episode 300\tAverage Score: 29.56\n",
      "Episode 400\tAverage Score: 15.57\n",
      "Episode 500\tAverage Score: 18.90\n",
      "Episode 600\tAverage Score: 16.17\n",
      "Episode 700\tAverage Score: 21.40\n",
      "Episode 800\tAverage Score: 24.31\n",
      "Episode 900\tAverage Score: 157.10\n",
      "Episode 1000\tAverage Score: 57.95\n",
      "0:13:51.845069\n",
      "Complete experiment1\n",
      "start experiment2\n",
      "Episode 100\tAverage Score: 136.31\n",
      "Episode 200\tAverage Score: 93.938\n",
      "Episode 300\tAverage Score: 9.902\n",
      "Episode 400\tAverage Score: 9.45\n",
      "Episode 500\tAverage Score: 10.54\n",
      "Episode 600\tAverage Score: 9.398\n",
      "Episode 700\tAverage Score: 9.37\n",
      "Episode 800\tAverage Score: 16.84\n",
      "Episode 900\tAverage Score: 154.22\n",
      "Episode 988\tAverage Score: 477.52\n",
      "Environment solved in 888 episodes!\tAverage Score: 477.52\n",
      "0:16:30.749139\n",
      "Complete experiment2\n",
      "start experiment3\n",
      "Episode 100\tAverage Score: 70.57\n",
      "Episode 200\tAverage Score: 81.950\n",
      "Episode 300\tAverage Score: 74.09\n",
      "Episode 400\tAverage Score: 81.806\n",
      "Episode 500\tAverage Score: 9.790\n",
      "Episode 600\tAverage Score: 9.39\n",
      "Episode 700\tAverage Score: 17.10\n",
      "Episode 800\tAverage Score: 9.386\n",
      "Episode 900\tAverage Score: 9.33\n",
      "Episode 1000\tAverage Score: 9.36\n",
      "0:04:12.909214\n",
      "Complete experiment3\n",
      "start experiment4\n",
      "Episode 100\tAverage Score: 123.61\n",
      "Episode 200\tAverage Score: 112.29\n",
      "Episode 300\tAverage Score: 9.3759\n",
      "Episode 400\tAverage Score: 12.78\n",
      "Episode 500\tAverage Score: 9.338\n",
      "Episode 600\tAverage Score: 9.42\n",
      "Episode 700\tAverage Score: 14.11\n",
      "Episode 800\tAverage Score: 18.39\n",
      "Episode 900\tAverage Score: 20.05\n",
      "Episode 1000\tAverage Score: 54.99\n",
      "0:04:09.168221\n",
      "Complete experiment4\n",
      "start experiment5\n",
      "Episode 100\tAverage Score: 187.55\n",
      "Episode 200\tAverage Score: 90.826\n",
      "Episode 300\tAverage Score: 94.626\n",
      "Episode 400\tAverage Score: 19.82\n",
      "Episode 500\tAverage Score: 33.19\n",
      "Episode 600\tAverage Score: 80.10\n",
      "Episode 700\tAverage Score: 149.26\n",
      "Episode 800\tAverage Score: 70.211\n",
      "Episode 900\tAverage Score: 94.011\n",
      "Episode 1000\tAverage Score: 105.95\n",
      "0:15:37.676983\n",
      "Complete experiment5\n",
      "start experiment6\n",
      "Episode 100\tAverage Score: 133.94\n",
      "Episode 200\tAverage Score: 35.013\n",
      "Episode 300\tAverage Score: 25.50\n",
      "Episode 400\tAverage Score: 16.90\n",
      "Episode 500\tAverage Score: 53.05\n",
      "Episode 600\tAverage Score: 32.12\n",
      "Episode 700\tAverage Score: 26.49\n",
      "Episode 800\tAverage Score: 175.33\n",
      "Episode 900\tAverage Score: 160.94\n",
      "Episode 1000\tAverage Score: 71.81\n",
      "0:16:11.327327\n",
      "Complete experiment6\n",
      "start experiment7\n",
      "Episode 100\tAverage Score: 92.90\n",
      "Episode 200\tAverage Score: 148.53\n",
      "Episode 300\tAverage Score: 19.038\n",
      "Episode 400\tAverage Score: 235.43\n",
      "Episode 500\tAverage Score: 221.15\n",
      "Episode 600\tAverage Score: 11.224\n",
      "Episode 700\tAverage Score: 33.08\n",
      "Episode 800\tAverage Score: 205.78\n",
      "Episode 900\tAverage Score: 16.323\n",
      "Episode 1000\tAverage Score: 10.69\n",
      "0:13:13.682908\n",
      "Complete experiment7\n",
      "start experiment8\n",
      "Episode 100\tAverage Score: 179.29\n",
      "Episode 200\tAverage Score: 84.194\n",
      "Episode 300\tAverage Score: 9.853\n",
      "Episode 400\tAverage Score: 9.28\n",
      "Episode 500\tAverage Score: 19.75\n",
      "Episode 600\tAverage Score: 43.46\n",
      "Episode 700\tAverage Score: 182.23\n",
      "Episode 800\tAverage Score: 121.83\n",
      "Episode 900\tAverage Score: 221.98\n",
      "Episode 1000\tAverage Score: 371.92\n",
      "0:24:33.012683\n",
      "Complete experiment8\n",
      "start experiment9\n",
      "Episode 100\tAverage Score: 151.25\n",
      "Episode 200\tAverage Score: 46.070\n",
      "Episode 300\tAverage Score: 79.02\n",
      "Episode 400\tAverage Score: 32.995\n",
      "Episode 500\tAverage Score: 10.39\n",
      "Episode 600\tAverage Score: 16.84\n",
      "Episode 700\tAverage Score: 39.36\n",
      "Episode 800\tAverage Score: 27.80\n",
      "Episode 900\tAverage Score: 29.43\n",
      "Episode 1000\tAverage Score: 116.32\n",
      "0:06:09.696032\n",
      "Complete experiment9\n",
      "start experiment10\n",
      "Episode 100\tAverage Score: 131.17\n",
      "Episode 200\tAverage Score: 123.77\n",
      "Episode 300\tAverage Score: 18.045\n",
      "Episode 400\tAverage Score: 67.49\n",
      "Episode 500\tAverage Score: 156.77\n",
      "Episode 600\tAverage Score: 9.4293\n",
      "Episode 700\tAverage Score: 11.08\n",
      "Episode 800\tAverage Score: 62.17\n",
      "Episode 900\tAverage Score: 12.06\n",
      "Episode 1000\tAverage Score: 10.11\n",
      "0:06:36.395681\n",
      "Complete experiment10\n"
     ]
    }
   ],
   "source": [
    "'''\n",
    "Bunch of Hyper parameters (Which you might have to tune later **wink wink**)\n",
    "'''\n",
    "BUFFER_SIZE = int(1e5)  #''' replay buffer size '''\n",
    "BATCH_SIZE =128         #''' minibatch size '''\n",
    "GAMMA = 0.99            #''' discount factor '''\n",
    "LR = 5e-4               #''' learning rate '''\n",
    "UPDATE_EVERY = 20       #''' how often to update the network (When Q target is present) '''\n",
    "fc1_units=64\n",
    "fc1_units=64\n",
    "eps_decay=0.1\n",
    "detailsconfig1avg=[]\n",
    "detailsconfig1=[]\n",
    "stepsconfig1=[]\n",
    "n_episodes=1000\n",
    "\n",
    "temperature=0.9\n",
    "method='softmax'\n",
    "for i in range(10):\n",
    "  print('start experiment'+str(i+1))\n",
    "  env = gym.make('CartPole-v1')\n",
    "  env.seed(0)\n",
    "  state_shape = env.observation_space.shape[0]\n",
    "  no_of_actions = env.action_space.n\n",
    "  state = env.reset()   \n",
    "  begin_time = datetime.datetime.now()\n",
    "  agent = Agent(state_size=state_shape,action_size = action_shape,seed = 0,\\\n",
    "               fc1_units=fc1_units, fc2_units=fc2_units,optimizer='adam')\n",
    "  details1avg,details1,steps=dqn(agent=agent,n_episodes=n_episodes,method=method,temperature=0.9,\\\n",
    "                      buffer_size =BUFFER_SIZE,\\\n",
    "                      batch_size = BATCH_SIZE ,gamma = GAMMA,\\\n",
    "                      LR = LR,update_every = UPDATE_EVERY,\\\n",
    "                      eps_decay=eps_decay,scoreThreshold=env.spec.reward_threshold)#,temperature=0.9)\n",
    "\n",
    "  time_taken = datetime.datetime.now() - begin_time\n",
    "  detailsconfig1.append(details1)\n",
    "  detailsconfig1avg.append(details1avg)\n",
    "  stepsconfig1.append(steps)\n",
    "\n",
    "  print(time_taken)\n",
    "  print('Complete experiment'+str(i+1))"
   ]
  },
  {
   "cell_type": "code",
   "execution_count": 115,
   "metadata": {},
   "outputs": [
    {
     "data": {
      "image/png": "[encoded data removed]",
      "text/plain": [
       "<Figure size 432x288 with 1 Axes>"
      ]
     },
     "metadata": {
      "needs_background": "light"
     },
     "output_type": "display_data"
    },
    {
     "data": {
      "image/png": "[encoded data removed]",
      "text/plain": [
       "<Figure size 432x288 with 1 Axes>"
      ]
     },
     "metadata": {
      "needs_background": "light"
     },
     "output_type": "display_data"
    }
   ],
   "source": [
    "\n",
    "detailsAfig1_1 = [sum(sub_list) / len(sub_list) for sub_list in zip(*detailsconfig1)]\n",
    "stepsconfig1_1=[sum(sub_list) / len(sub_list) for sub_list in zip(*stepsconfig1)]\n",
    "detailsconfig1avg_1 =[sum(sub_list) / len(sub_list) for sub_list in zip(*detailsconfig1avg)]\n",
    "\n",
    "\n",
    "plt.xlabel('Episode')\n",
    "plt.ylabel('Steps')\n",
    "plt.plot(np.arange(len(stepsconfig1_1))*10,stepsconfig1_1,LABEL='cartpole_epsilon_softmax_temp_0.9')\n",
    "plt.legend()\n",
    "plt.show()\n",
    "\n",
    "plt.xlabel('Episode')\n",
    "plt.ylabel('Avarage  Rewards')\n",
    "plt.plot(np.arange(len(detailsconfig1avg_1[0]))*10,detailsconfig1avg_1[0],LABEL='cartpole_softmax_temp_0.9')\n",
    "\n",
    "plt.legend()\n",
    "plt.show()\n",
    "\n"
   ]
  },
  {
   "cell_type": "code",
   "execution_count": null,
   "metadata": {},
   "outputs": [],
   "source": [
    "'''\n",
    "Bunch of Hyper parameters (Which you might have to tune later **wink wink**)\n",
    "'''\n",
    "BUFFER_SIZE = int(1e5)  #''' replay buffer size '''\n",
    "BATCH_SIZE =128         #''' minibatch size '''\n",
    "GAMMA = 0.99            #''' discount factor '''\n",
    "LR = 5e-4               #''' learning rate '''\n",
    "UPDATE_EVERY = 20       #''' how often to update the network (When Q target is present) '''\n",
    "fc1_units=64\n",
    "fc1_units=128\n",
    "eps_decay=0.2\n",
    "detailsconfig1avg=[]\n",
    "detailsconfig1=[]\n",
    "stepsconfig1=[]\n",
    "n_episodes=1000\n",
    "\n",
    "temperature=0.9\n",
    "method='epsilon'\n",
    "for i in range(10):\n",
    "  print('start experiment'+str(i+1))\n",
    "  env = gym.make('CartPole-v1')\n",
    "  env.seed(0)\n",
    "  state_shape = env.observation_space.shape[0]\n",
    "  no_of_actions = env.action_space.n\n",
    "  state = env.reset()   \n",
    "  begin_time = datetime.datetime.now()\n",
    "  agent = Agent(state_size=state_shape,action_size = action_shape,seed = 0,\\\n",
    "               fc1_units=fc1_units, fc2_units=fc2_units,optimizer='adam')\n",
    "  details1avg,details1,steps=dqn(agent=agent,n_episodes=n_episodes,method=method,\\\n",
    "                      buffer_size =BUFFER_SIZE,\\\n",
    "                      batch_size = BATCH_SIZE ,gamma = GAMMA,\\\n",
    "                      LR = LR,update_every = UPDATE_EVERY,\\\n",
    "                      eps_decay=eps_decay,scoreThreshold=env.spec.reward_threshold)#,temperature=0.9)\n",
    "\n",
    "  time_taken = datetime.datetime.now() - begin_time\n",
    "  detailsconfig1.append(details1)\n",
    "  detailsconfig1avg.append(details1avg)\n",
    "  stepsconfig1.append(steps)\n",
    "\n",
    "  print(time_taken)\n",
    "  print('Complete experiment'+str(i+1))"
   ]
  },
  {
   "cell_type": "code",
   "execution_count": null,
   "metadata": {},
   "outputs": [],
   "source": [
    "\n",
    "detailsAfig1_ = [sum(sub_list) / len(sub_list) for sub_list in zip(*detailsconfig1)]\n",
    "stepsconfig1_=[sum(sub_list) / len(sub_list) for sub_list in zip(*stepsconfig1)]\n",
    "detailsconfig1avg_ =[sum(sub_list) / len(sub_list) for sub_list in zip(*detailsconfig1avg)]\n",
    "\n",
    "\n",
    "plt.xlabel('Episode')\n",
    "plt.ylabel('Steps')\n",
    "plt.plot(np.arange(len(stepsconfig1_))*10,stepsconfig1_,LABEL='cartpole_epsilon_epsdecay_0.1')\n",
    "plt.legend()\n",
    "plt.show()\n",
    "\n",
    "plt.xlabel('Episode')\n",
    "plt.ylabel('Avarage  Rewards')\n",
    "plt.plot(np.arange(len(detailsconfig1avg_[0]))*10,detailsconfig1avg_[0],LABEL='cartpole_epsilon_epsdecay_0.1')\n",
    "\n",
    "plt.legend()\n",
    "plt.show()\n",
    "\n"
   ]
  },
  {
   "cell_type": "code",
   "execution_count": null,
   "metadata": {},
   "outputs": [],
   "source": []
  }
 ],
 "metadata": {
  "accelerator": "GPU",
  "colab": {
   "collapsed_sections": [
    "X7vsPDmR36nu",
    "9LHbRWeRSfPr",
    "sWNmAh9kSnP5",
    "jtzzh0E7SsuP",
    "0PwA32h7Su0f",
    "SxtvDmDESwdG"
   ],
   "name": "PA2_DQN_V3.ipynb",
   "provenance": []
  },
  "kernelspec": {
   "display_name": "Python 3",
   "language": "python",
   "name": "python3"
  },
  "language_info": {
   "codemirror_mode": {
    "name": "ipython",
    "version": 3
   },
   "file_extension": ".py",
   "mimetype": "text/x-python",
   "name": "python",
   "nbconvert_exporter": "python",
   "pygments_lexer": "ipython3",
   "version": "3.6.5"
  }
 },
 "nbformat": 4,
 "nbformat_minor": 1
}
